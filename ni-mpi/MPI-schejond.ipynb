{
 "cells": [
  {
   "cell_type": "markdown",
   "metadata": {},
   "source": [
    "## Domácí úloha do předmětu NI-MPI\n",
    "\n",
    "`Ondřej Schejbal - schejond`"
   ]
  },
  {
   "cell_type": "code",
   "execution_count": 1,
   "metadata": {},
   "outputs": [],
   "source": [
    "# sada použitých hodnot pro gammu a sada použitých metod\n",
    "# hodnoty pro gammu je možné libovolně přidávat\n",
    "gammas = [3., 2., 1.]\n",
    "methods = ['Jacobi', 'SOR']"
   ]
  },
  {
   "cell_type": "code",
   "execution_count": 2,
   "metadata": {},
   "outputs": [],
   "source": [
    "import numpy as np"
   ]
  },
  {
   "cell_type": "markdown",
   "metadata": {},
   "source": [
    "* Pro zadanou gammu se připraví matice A, vektor b, počáteční vektor x_0 a dále matice D a L\n",
    "* Jednotlivé matice a vektory jsou zkontruovány podle dimenzí a tvaru, které odpovídá zadání, resp. handoutu předmětu"
   ]
  },
  {
   "cell_type": "code",
   "execution_count": 3,
   "metadata": {},
   "outputs": [],
   "source": [
    "def prepareVariables(gamma):\n",
    "    A = np.eye(20, dtype=np.double)*gamma - np.eye(20, k=1, dtype=np.double) - np.eye(20, k=-1, dtype=np.double)\n",
    "    \n",
    "    b = np.ones((20,1), dtype=np.double) * (gamma - 2)\n",
    "    b[0] = gamma - 1\n",
    "    b[-1] = gamma - 1\n",
    "\n",
    "    x_0 = np.zeros((20,1), dtype=np.double)\n",
    "    \n",
    "    D = np.eye(20, dtype=np.double) * A.diagonal()\n",
    "\n",
    "    L = np.tril(A, -1)\n",
    "    \n",
    "    return A, b, x_0, D, L"
   ]
  },
  {
   "cell_type": "markdown",
   "metadata": {},
   "source": [
    "* Při výpočtech jsem se rozhodl použít eukleidův vzorec pro výpočet normy"
   ]
  },
  {
   "cell_type": "code",
   "execution_count": 4,
   "metadata": {},
   "outputs": [],
   "source": [
    "def getResidueValue(x_k, A, b):\n",
    "    return np.matmul(A, x_k) - b"
   ]
  },
  {
   "cell_type": "code",
   "execution_count": 5,
   "metadata": {},
   "outputs": [],
   "source": [
    "def getRelativeAccuracy(r_k, b):\n",
    "    return np.divide(np.linalg.norm(r_k), np.linalg.norm(b))"
   ]
  },
  {
   "cell_type": "code",
   "execution_count": 6,
   "metadata": {},
   "outputs": [],
   "source": [
    "# funkce používaná ke kontrole podmínky z věty 32.2\n",
    "def matrixSolvable(Q, A):\n",
    "    E = np.zeros((20, 20), dtype=np.double)\n",
    "    np.fill_diagonal(E, 1)\n",
    "    W = E - np.matmul(np.linalg.inv(Q), A)\n",
    "    maxValue = -1\n",
    "    for eigenvalue in np.linalg.eig(W)[0]:\n",
    "        if maxValue < abs(eigenvalue):\n",
    "            maxValue = abs(eigenvalue)\n",
    "    return maxValue < 1"
   ]
  },
  {
   "cell_type": "code",
   "execution_count": 7,
   "metadata": {},
   "outputs": [],
   "source": [
    "def printResult(iterationCount, finalPrecision, x_result, gamma, method):\n",
    "    print('Pro gammu =', gamma, 'a metodu', method, 'je požadovaná přesnost splněna po', iterationCount,\n",
    "         'iteracích. Nalezený vektor má přesnost:', str(finalPrecision) + '.')\n",
    "    print('Nalezený vektor:', x_result)"
   ]
  },
  {
   "cell_type": "code",
   "execution_count": 8,
   "metadata": {},
   "outputs": [],
   "source": [
    "# obecná rekurzivní metoda, která postupně updatuje hodnotu x_i dokud není splněna požadovaná přesnost ( < 10^-6) \n",
    "def findAccurateX(A, b, x_0, Q, gamma, methodName):\n",
    "    i = 0\n",
    "    x_i = x_0\n",
    "    while not getRelativeAccuracy(getResidueValue(x_i, A, b), b) < np.double(10e-6):\n",
    "        x_i = np.matmul(np.linalg.inv(Q), (np.matmul((Q - A), x_i) + b))\n",
    "        i += 1\n",
    "\n",
    "    printResult(i, getRelativeAccuracy(getResidueValue(x_i, A, b), b), x_i, gamma, methodName)"
   ]
  },
  {
   "cell_type": "code",
   "execution_count": 9,
   "metadata": {},
   "outputs": [
    {
     "name": "stdout",
     "output_type": "stream",
     "text": [
      "Pro gammu = 3.0 a metodu Jacobi je požadovaná přesnost splněna po 28 iteracích. Nalezený vektor má přesnost: 7.078347037507666e-06.\n",
      "Nalezený vektor: [[0.99999825]\n",
      " [0.99999661]\n",
      " [0.99999498]\n",
      " [0.99999365]\n",
      " [0.99999234]\n",
      " [0.99999142]\n",
      " [0.99999053]\n",
      " [0.99999001]\n",
      " [0.99998957]\n",
      " [0.99998941]\n",
      " [0.99998941]\n",
      " [0.99998957]\n",
      " [0.99999001]\n",
      " [0.99999053]\n",
      " [0.99999142]\n",
      " [0.99999234]\n",
      " [0.99999365]\n",
      " [0.99999498]\n",
      " [0.99999661]\n",
      " [0.99999825]]\n",
      "\n",
      "Pro gammu = 2.0 a metodu Jacobi je požadovaná přesnost splněna po 782 iteracích. Nalezený vektor má přesnost: 9.968534524306131e-06.\n",
      "Nalezený vektor: [[0.99997097]\n",
      " [0.99994259]\n",
      " [0.9999155 ]\n",
      " [0.99989029]\n",
      " [0.99986753]\n",
      " [0.99984773]\n",
      " [0.99983133]\n",
      " [0.9998187 ]\n",
      " [0.99981012]\n",
      " [0.99980578]\n",
      " [0.99980578]\n",
      " [0.99981012]\n",
      " [0.9998187 ]\n",
      " [0.99983133]\n",
      " [0.99984773]\n",
      " [0.99986753]\n",
      " [0.99989029]\n",
      " [0.9999155 ]\n",
      " [0.99994259]\n",
      " [0.99997097]]\n",
      "\n",
      "Není řešitelné pomocí Jacobi metody pro gammu = 1.0, protože diverguje. Spektrální poloměr totiž není < 1. Viz věta 32.2\n",
      "\n",
      "Pro gammu = 3.0 a metodu SOR je požadovaná přesnost splněna po 16 iteracích. Nalezený vektor má přesnost: 9.036217563913357e-06.\n",
      "Nalezený vektor: [[0.99999233]\n",
      " [0.99998851]\n",
      " [0.99998661]\n",
      " [0.99998566]\n",
      " [0.99998522]\n",
      " [0.99998511]\n",
      " [0.99998537]\n",
      " [0.99998607]\n",
      " [0.99998726]\n",
      " [0.99998887]\n",
      " [0.99999075]\n",
      " [0.99999272]\n",
      " [0.99999457]\n",
      " [0.99999617]\n",
      " [0.99999745]\n",
      " [0.99999841]\n",
      " [0.99999908]\n",
      " [0.99999951]\n",
      " [0.99999978]\n",
      " [0.99999993]]\n",
      "\n",
      "Pro gammu = 2.0 a metodu SOR je požadovaná přesnost splněna po 393 iteracích. Nalezený vektor má přesnost: 9.807646243644108e-06.\n",
      "Nalezený vektor: [[0.99996877]\n",
      " [0.99993893]\n",
      " [0.99991111]\n",
      " [0.99988588]\n",
      " [0.99986375]\n",
      " [0.99984514]\n",
      " [0.99983037]\n",
      " [0.99981971]\n",
      " [0.99981329]\n",
      " [0.99981115]\n",
      " [0.99981326]\n",
      " [0.99981947]\n",
      " [0.99982956]\n",
      " [0.9998432 ]\n",
      " [0.99986002]\n",
      " [0.99987959]\n",
      " [0.99990139]\n",
      " [0.99992489]\n",
      " [0.99994955]\n",
      " [0.99997477]]\n",
      "\n",
      "Není řešitelné pomocí SOR metody pro gammu = 1.0, protože diverguje. Spektrální poloměr totiž není < 1. Viz věta 32.2\n",
      "\n"
     ]
    }
   ],
   "source": [
    "# hledání hodnot x pro jednotlivé hodnoty parametru gamma za pomocí jednotlivých metod\n",
    "for method in methods:\n",
    "    for gamma in gammas:\n",
    "        A, b, x_0, D, L = prepareVariables(gamma)\n",
    "        \n",
    "        if method is 'Jacobi':\n",
    "            Q = D\n",
    "        elif method is 'SOR':\n",
    "            Q = D + L\n",
    "        else:\n",
    "            print('Neznámý název metody!')\n",
    "            break\n",
    "\n",
    "        # check if we can iteratively find the solution\n",
    "        if not matrixSolvable(Q, A):\n",
    "            print('Není řešitelné pomocí', method, 'metody pro gammu =', str(gamma) +\n",
    "                  ', protože diverguje. Spektrální poloměr totiž není < 1. Viz věta 32.2\\n')\n",
    "            continue\n",
    "        findAccurateX(A, b, x_0, Q, gamma, method)\n",
    "        print()"
   ]
  },
  {
   "cell_type": "code",
   "execution_count": null,
   "metadata": {},
   "outputs": [],
   "source": []
  }
 ],
 "metadata": {
  "kernelspec": {
   "display_name": "Python 3",
   "language": "python",
   "name": "python3"
  },
  "language_info": {
   "codemirror_mode": {
    "name": "ipython",
    "version": 3
   },
   "file_extension": ".py",
   "mimetype": "text/x-python",
   "name": "python",
   "nbconvert_exporter": "python",
   "pygments_lexer": "ipython3",
   "version": "3.7.8"
  }
 },
 "nbformat": 4,
 "nbformat_minor": 4
}
