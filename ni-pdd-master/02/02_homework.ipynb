{
 "cells": [
  {
   "cell_type": "markdown",
   "metadata": {},
   "source": [
    "# Homework 2 - balancing & binning (deadline 28. 11. 2020)\n",
    "\n",
    "In short, the main task is to play with balancing and binning to obtain the best results for the binary classification task.\n",
    "  \n",
    "> The instructions are not given in details: It is up to you to come up with ideas on how to fulfill the particular tasks as best you can!\n",
    "\n",
    "## What are you supposed to do:\n",
    "\n",
    "  1. Download the dataset [here](https://www.dropbox.com/s/aq08ytozfplb97b/data.csv?dl=0).\n",
    "  1. Use 2 binning methods (on features of your choice, with your choice of parameters) and comment on its effects on classification performance.\n",
    "  1. Use at least 2 other data balancing techniques of your choice on the dataset and comment the classification results. **Just copied code from tutorial 4 will not be accepted.**\n",
    "  1. Run all classification tests at least three times - once for unbalanced original data, twice for balanced data (try at least 2 balancing techniques), compare those results (give a comment).\n",
    "  \n",
    "Give comments (!) on each step of your solution, with short explanations of your choices.\n",
    "\n",
    "**If you do all this properly, you will obtain 16 points.** \n",
    "\n",
    "## Comments\n",
    "\n",
    "  * Please follow the instructions from https://courses.fit.cvut.cz/MI-PDD/homeworks/index.html.\n",
    "  * If the reviewing teacher is not satisfied, she can (!) give you another chance to rework your homework and to obtain more points. However, this is not a given, so do your best! :)\n",
    "  * English is not compulsory.\n",
    "  \n",
    "## Data description\n",
    "\n",
    "* The dataset can be downloaded [here](https://www.dropbox.com/s/aq08ytozfplb97b/data.csv?dl=0).\n",
    "* The data are devoted to the binary classification task, the aim is to predict the probability that a driver will initiate an auto insurance claim in the next year.\n",
    "* Target feature is called 'y' and signifies whether or not a claim was filed for that policy holder.\n",
    "* To fulfill the task one does not need to know the meaning of predictors.\n",
    "* Predictors that belong to similar groupings are tagged as such in the feature names (e.g., ind, reg, car, calc). In addition, feature names include the postfix bin to indicate binary features and cat to indicate categorical features. Features without these designations are either continuous or ordinal. Values of -1 indicate that the feature was missing from the observation.\n",
    "* While using [train_test_split](https://scikit-learn.org/stable/modules/generated/sklearn.model_selection.train_test_split.html), control the shuffling of data by random_state parameter. Do not use shuffle=False, probably never (can cause systematic error)."
   ]
  },
  {
   "cell_type": "code",
   "execution_count": 1,
   "metadata": {},
   "outputs": [],
   "source": [
    "# imports\n",
    "import numpy as np\n",
    "import pandas as pd\n",
    "\n",
    "from sklearn.model_selection import train_test_split\n",
    "from sklearn.neighbors import KNeighborsClassifier\n",
    "from sklearn.tree import DecisionTreeClassifier\n",
    "from sklearn.ensemble import RandomForestClassifier, AdaBoostClassifier\n",
    "from sklearn.naive_bayes import GaussianNB\n",
    "from sklearn.metrics import mean_squared_error, confusion_matrix, accuracy_score, f1_score\n",
    "from imblearn.under_sampling import TomekLinks\n",
    "\n",
    "df = pd.read_csv('data.csv')\n",
    "RANDOM_SEED = 21"
   ]
  },
  {
   "cell_type": "code",
   "execution_count": 2,
   "metadata": {},
   "outputs": [
    {
     "data": {
      "application/javascript": [
       "\n",
       "IPython.OutputArea.prototype._should_scroll = function(lines) {\n",
       "    return false;\n",
       "}\n"
      ],
      "text/plain": [
       "<IPython.core.display.Javascript object>"
      ]
     },
     "metadata": {},
     "output_type": "display_data"
    }
   ],
   "source": [
    "%%javascript\n",
    "\n",
    "IPython.OutputArea.prototype._should_scroll = function(lines) {\n",
    "    return false;\n",
    "}"
   ]
  },
  {
   "cell_type": "code",
   "execution_count": 3,
   "metadata": {},
   "outputs": [
    {
     "name": "stdout",
     "output_type": "stream",
     "text": [
      "UNIQUE:\n"
     ]
    },
    {
     "data": {
      "text/plain": [
       "y                   2\n",
       "xind_01             8\n",
       "xind_02_cat         5\n",
       "xind_03            12\n",
       "xind_04_cat         3\n",
       "xind_05_cat         8\n",
       "xind_06_bin         2\n",
       "xind_07_bin         2\n",
       "xind_08_bin         2\n",
       "xind_09_bin         2\n",
       "xind_10_bin         2\n",
       "xind_11_bin         2\n",
       "xind_12_bin         2\n",
       "xind_13_bin         2\n",
       "xind_14             5\n",
       "xind_15            14\n",
       "xind_16_bin         2\n",
       "xind_17_bin         2\n",
       "xind_18_bin         2\n",
       "xreg_01            10\n",
       "xreg_02            19\n",
       "xreg_03          5013\n",
       "xcar_01_cat        13\n",
       "xcar_02_cat         3\n",
       "xcar_03_cat         3\n",
       "xcar_04_cat        10\n",
       "xcar_05_cat         3\n",
       "xcar_06_cat        18\n",
       "xcar_07_cat         3\n",
       "xcar_08_cat         2\n",
       "xcar_09_cat         6\n",
       "xcar_10_cat         3\n",
       "xcar_11_cat       104\n",
       "xcar_11             5\n",
       "xcar_12           184\n",
       "xcar_13         70482\n",
       "xcar_14           850\n",
       "xcar_15            15\n",
       "xcalc_01           10\n",
       "xcalc_02           10\n",
       "xcalc_03           10\n",
       "xcalc_04            6\n",
       "xcalc_05            7\n",
       "xcalc_06           11\n",
       "xcalc_07           10\n",
       "xcalc_08           11\n",
       "xcalc_09            8\n",
       "xcalc_10           26\n",
       "xcalc_11           20\n",
       "xcalc_12           11\n",
       "xcalc_13           14\n",
       "xcalc_14           24\n",
       "xcalc_15_bin        2\n",
       "xcalc_16_bin        2\n",
       "xcalc_17_bin        2\n",
       "xcalc_18_bin        2\n",
       "xcalc_19_bin        2\n",
       "xcalc_20_bin        2\n",
       "dtype: int64"
      ]
     },
     "metadata": {},
     "output_type": "display_data"
    },
    {
     "name": "stdout",
     "output_type": "stream",
     "text": [
      "DATA:\n"
     ]
    },
    {
     "data": {
      "text/html": [
       "<div>\n",
       "<style scoped>\n",
       "    .dataframe tbody tr th:only-of-type {\n",
       "        vertical-align: middle;\n",
       "    }\n",
       "\n",
       "    .dataframe tbody tr th {\n",
       "        vertical-align: top;\n",
       "    }\n",
       "\n",
       "    .dataframe thead th {\n",
       "        text-align: right;\n",
       "    }\n",
       "</style>\n",
       "<table border=\"1\" class=\"dataframe\">\n",
       "  <thead>\n",
       "    <tr style=\"text-align: right;\">\n",
       "      <th></th>\n",
       "      <th>y</th>\n",
       "      <th>xind_01</th>\n",
       "      <th>xind_02_cat</th>\n",
       "      <th>xind_03</th>\n",
       "      <th>xind_04_cat</th>\n",
       "      <th>xind_05_cat</th>\n",
       "      <th>xind_06_bin</th>\n",
       "      <th>xind_07_bin</th>\n",
       "      <th>xind_08_bin</th>\n",
       "      <th>xind_09_bin</th>\n",
       "      <th>...</th>\n",
       "      <th>xcalc_11</th>\n",
       "      <th>xcalc_12</th>\n",
       "      <th>xcalc_13</th>\n",
       "      <th>xcalc_14</th>\n",
       "      <th>xcalc_15_bin</th>\n",
       "      <th>xcalc_16_bin</th>\n",
       "      <th>xcalc_17_bin</th>\n",
       "      <th>xcalc_18_bin</th>\n",
       "      <th>xcalc_19_bin</th>\n",
       "      <th>xcalc_20_bin</th>\n",
       "    </tr>\n",
       "  </thead>\n",
       "  <tbody>\n",
       "    <tr>\n",
       "      <th>0</th>\n",
       "      <td>0</td>\n",
       "      <td>2</td>\n",
       "      <td>1</td>\n",
       "      <td>5</td>\n",
       "      <td>1</td>\n",
       "      <td>6</td>\n",
       "      <td>0</td>\n",
       "      <td>1</td>\n",
       "      <td>0</td>\n",
       "      <td>0</td>\n",
       "      <td>...</td>\n",
       "      <td>4</td>\n",
       "      <td>0</td>\n",
       "      <td>2</td>\n",
       "      <td>8</td>\n",
       "      <td>0</td>\n",
       "      <td>0</td>\n",
       "      <td>0</td>\n",
       "      <td>1</td>\n",
       "      <td>1</td>\n",
       "      <td>0</td>\n",
       "    </tr>\n",
       "    <tr>\n",
       "      <th>1</th>\n",
       "      <td>0</td>\n",
       "      <td>2</td>\n",
       "      <td>1</td>\n",
       "      <td>6</td>\n",
       "      <td>0</td>\n",
       "      <td>0</td>\n",
       "      <td>0</td>\n",
       "      <td>0</td>\n",
       "      <td>0</td>\n",
       "      <td>1</td>\n",
       "      <td>...</td>\n",
       "      <td>9</td>\n",
       "      <td>2</td>\n",
       "      <td>3</td>\n",
       "      <td>7</td>\n",
       "      <td>0</td>\n",
       "      <td>0</td>\n",
       "      <td>1</td>\n",
       "      <td>0</td>\n",
       "      <td>0</td>\n",
       "      <td>0</td>\n",
       "    </tr>\n",
       "    <tr>\n",
       "      <th>2</th>\n",
       "      <td>0</td>\n",
       "      <td>2</td>\n",
       "      <td>1</td>\n",
       "      <td>9</td>\n",
       "      <td>0</td>\n",
       "      <td>0</td>\n",
       "      <td>1</td>\n",
       "      <td>0</td>\n",
       "      <td>0</td>\n",
       "      <td>0</td>\n",
       "      <td>...</td>\n",
       "      <td>5</td>\n",
       "      <td>0</td>\n",
       "      <td>2</td>\n",
       "      <td>6</td>\n",
       "      <td>0</td>\n",
       "      <td>1</td>\n",
       "      <td>0</td>\n",
       "      <td>1</td>\n",
       "      <td>1</td>\n",
       "      <td>0</td>\n",
       "    </tr>\n",
       "    <tr>\n",
       "      <th>3</th>\n",
       "      <td>0</td>\n",
       "      <td>1</td>\n",
       "      <td>1</td>\n",
       "      <td>6</td>\n",
       "      <td>0</td>\n",
       "      <td>0</td>\n",
       "      <td>1</td>\n",
       "      <td>0</td>\n",
       "      <td>0</td>\n",
       "      <td>0</td>\n",
       "      <td>...</td>\n",
       "      <td>3</td>\n",
       "      <td>0</td>\n",
       "      <td>4</td>\n",
       "      <td>8</td>\n",
       "      <td>0</td>\n",
       "      <td>0</td>\n",
       "      <td>1</td>\n",
       "      <td>0</td>\n",
       "      <td>0</td>\n",
       "      <td>0</td>\n",
       "    </tr>\n",
       "    <tr>\n",
       "      <th>4</th>\n",
       "      <td>0</td>\n",
       "      <td>1</td>\n",
       "      <td>1</td>\n",
       "      <td>5</td>\n",
       "      <td>1</td>\n",
       "      <td>0</td>\n",
       "      <td>0</td>\n",
       "      <td>1</td>\n",
       "      <td>0</td>\n",
       "      <td>0</td>\n",
       "      <td>...</td>\n",
       "      <td>4</td>\n",
       "      <td>3</td>\n",
       "      <td>1</td>\n",
       "      <td>2</td>\n",
       "      <td>0</td>\n",
       "      <td>1</td>\n",
       "      <td>0</td>\n",
       "      <td>0</td>\n",
       "      <td>1</td>\n",
       "      <td>0</td>\n",
       "    </tr>\n",
       "  </tbody>\n",
       "</table>\n",
       "<p>5 rows × 58 columns</p>\n",
       "</div>"
      ],
      "text/plain": [
       "   y  xind_01  xind_02_cat  xind_03  xind_04_cat  xind_05_cat  xind_06_bin  \\\n",
       "0  0        2            1        5            1            6            0   \n",
       "1  0        2            1        6            0            0            0   \n",
       "2  0        2            1        9            0            0            1   \n",
       "3  0        1            1        6            0            0            1   \n",
       "4  0        1            1        5            1            0            0   \n",
       "\n",
       "   xind_07_bin  xind_08_bin  xind_09_bin  ...  xcalc_11  xcalc_12  xcalc_13  \\\n",
       "0            1            0            0  ...         4         0         2   \n",
       "1            0            0            1  ...         9         2         3   \n",
       "2            0            0            0  ...         5         0         2   \n",
       "3            0            0            0  ...         3         0         4   \n",
       "4            1            0            0  ...         4         3         1   \n",
       "\n",
       "   xcalc_14  xcalc_15_bin  xcalc_16_bin  xcalc_17_bin  xcalc_18_bin  \\\n",
       "0         8             0             0             0             1   \n",
       "1         7             0             0             1             0   \n",
       "2         6             0             1             0             1   \n",
       "3         8             0             0             1             0   \n",
       "4         2             0             1             0             0   \n",
       "\n",
       "   xcalc_19_bin  xcalc_20_bin  \n",
       "0             1             0  \n",
       "1             0             0  \n",
       "2             1             0  \n",
       "3             0             0  \n",
       "4             1             0  \n",
       "\n",
       "[5 rows x 58 columns]"
      ]
     },
     "metadata": {},
     "output_type": "display_data"
    },
    {
     "name": "stdout",
     "output_type": "stream",
     "text": [
      "Poměr hodnot vysvětlované proměnné\n"
     ]
    },
    {
     "data": {
      "text/plain": [
       "0    573518\n",
       "1     21694\n",
       "Name: y, dtype: int64"
      ]
     },
     "metadata": {},
     "output_type": "display_data"
    }
   ],
   "source": [
    "# print('SHAPE:')\n",
    "# display(df.shape)  # (row, cols)\n",
    "print('UNIQUE:')\n",
    "display(df.nunique())\n",
    "# print('INFO:')\n",
    "# df.info()\n",
    "print('DATA:')\n",
    "display(df.head())\n",
    "# print('DESCRIBE:')\n",
    "# df.describe()\n",
    "print('Poměr hodnot vysvětlované proměnné')\n",
    "display(df['y'].value_counts())"
   ]
  },
  {
   "cell_type": "markdown",
   "metadata": {},
   "source": [
    "Nejprve rozdělím data na 3 množiny. Trénovací, validační a testovací. Testovací množinu udělám nejmenší, protože bude sloužit pouze k reálnému zhodnocení celkových výsledků na konci experimentování.  "
   ]
  },
  {
   "cell_type": "code",
   "execution_count": 4,
   "metadata": {},
   "outputs": [],
   "source": [
    "X = df.drop(['y'], axis=1)\n",
    "Y = df['y']\n",
    "\n",
    "X_tr, X_test, Y_tr, Y_test = train_test_split(X, Y, test_size=0.15 , random_state=RANDOM_SEED)\n",
    "X_tr, X_val, Y_tr, Y_val = train_test_split(X_tr, Y_tr, test_size=0.4, random_state=RANDOM_SEED)"
   ]
  },
  {
   "cell_type": "markdown",
   "metadata": {},
   "source": [
    "Pro tuto úlohu jsem se rozhodl vyzkoušet 5 predikčních modelů:\n",
    "* kNN\n",
    "* Rozhodovací strom\n",
    "* Random Forest\n",
    "* AdaBoost\n",
    "* Naivní Bayes\n",
    "\n",
    "_pozn.:_\n",
    "Pro zadané množství dat byl výpočet metody kNN velmi zdlouhavý, tak jsem ji nakonec nepoužil, protože by mne zdržovala při experimentování."
   ]
  },
  {
   "cell_type": "code",
   "execution_count": 5,
   "metadata": {},
   "outputs": [],
   "source": [
    "models = {\n",
    "#     'kNN': KNeighborsClassifier(),\n",
    "    'Decision Tree': DecisionTreeClassifier(max_depth=6),\n",
    "    'Random Forest': RandomForestClassifier(max_depth=4, n_estimators=21, random_state=RANDOM_SEED),\n",
    "    'AdaBoost': AdaBoostClassifier(random_state=RANDOM_SEED),\n",
    "    'Naive Bayes': GaussianNB(),\n",
    "}"
   ]
  },
  {
   "cell_type": "code",
   "execution_count": 6,
   "metadata": {},
   "outputs": [],
   "source": [
    "# metoda pro vypis uspesnosti predikce modelu\n",
    "def printStats(Yval, Ypred, modelName):\n",
    "    confM = confusion_matrix(Yval, Ypred)\n",
    "    print(modelName + ':')\n",
    "    print(confM)\n",
    "    print('Normalized confusion matrix:')\n",
    "    print(confM.astype('float') / confM.sum(axis=1)[:, np.newaxis])\n",
    "    \n",
    "    print('Tests:')\n",
    "    print('Accuracy:', accuracy_score(Yval, Ypred))\n",
    "    print('F1-score:', f1_score(Yval, Ypred))\n",
    "    print('MSE:', mean_squared_error(Yval, Ypred))"
   ]
  },
  {
   "cell_type": "code",
   "execution_count": 7,
   "metadata": {},
   "outputs": [
    {
     "name": "stdout",
     "output_type": "stream",
     "text": [
      "Decision Tree:\n",
      "[[194985     28]\n",
      " [  7354      5]]\n",
      "Normalized confusion matrix:\n",
      "[[9.99856420e-01 1.43580172e-04]\n",
      " [9.99320560e-01 6.79440141e-04]]\n",
      "Tests:\n",
      "Accuracy: 0.9635226217065602\n",
      "F1-score: 0.001352813852813853\n",
      "MSE: 0.036477378293439805\n",
      "----------------------------------------\n",
      "Random Forest:\n",
      "[[195013      0]\n",
      " [  7359      0]]\n",
      "Normalized confusion matrix:\n",
      "[[1. 0.]\n",
      " [1. 0.]]\n",
      "Tests:\n",
      "Accuracy: 0.9636362737928171\n",
      "F1-score: 0.0\n",
      "MSE: 0.03636372620718281\n",
      "----------------------------------------\n",
      "AdaBoost:\n",
      "[[195008      5]\n",
      " [  7354      5]]\n",
      "Normalized confusion matrix:\n",
      "[[9.99974361e-01 2.56393164e-05]\n",
      " [9.99320560e-01 6.79440141e-04]]\n",
      "Tests:\n",
      "Accuracy: 0.9636362737928171\n",
      "F1-score: 0.0013570362328674175\n",
      "MSE: 0.03636372620718281\n",
      "----------------------------------------\n",
      "Naive Bayes:\n",
      "[[181738  13275]\n",
      " [  6419    940]]\n",
      "Normalized confusion matrix:\n",
      "[[0.93192762 0.06807238]\n",
      " [0.87226525 0.12773475]]\n",
      "Tests:\n",
      "Accuracy: 0.9026841657936868\n",
      "F1-score: 0.08714193010104755\n",
      "MSE: 0.09731583420631312\n",
      "----------------------------------------\n"
     ]
    }
   ],
   "source": [
    "# vypis vsech zkousenych modelu\n",
    "for modelName in models.keys():\n",
    "    trained_model = models[modelName].fit(X_tr, Y_tr)\n",
    "    Y_pred = trained_model.predict(X_val)\n",
    "    printStats(Y_val, Y_pred, modelName)\n",
    "    print('----------------------------------------')    "
   ]
  },
  {
   "cell_type": "markdown",
   "metadata": {},
   "source": [
    "Na základě výsledků získaných výše jsem se rozhodl pro porovnávání během experimentů použít model **Naivní Bayes**.\n",
    "Modely _Random Forest_ a _AdaBoost_ mají sice větší přesnost predikce, ale na základě vytvořených kovariančních matic to vypadá, že jsou spíše přetrénované a kvůli nevyváženým hodnotám vysvětlované proměnné _y_ predikují vždy hodnoty y = 1.\n",
    "\n",
    "Hodnota F-1 score potvrzuje, že kvalita predikcí je veeelmi špatná. Doufám, že toto balanční techniky dokáží napravit. Hodnota F1-score byla i důvodem proč jsem dal přednost Naivnímu Bayesovi oproti _Decision Tree_.\n",
    "\n",
    "Poměr majoritní ku minoritní třídě je: 573518:21694\n",
    "\n",
    "Tento nepoměr v datech vedl i k tomu, že jsem nejdříve implementoval bod 3 ze zadání ve snaze data vybalancovat a až poté diskretizovat pomocí biningu."
   ]
  },
  {
   "cell_type": "code",
   "execution_count": 8,
   "metadata": {},
   "outputs": [],
   "source": [
    "selectedModelName = 'Naive Bayes'"
   ]
  },
  {
   "cell_type": "code",
   "execution_count": 9,
   "metadata": {},
   "outputs": [],
   "source": [
    "# pro opakovane vyhodnocovani modelu behem testovani\n",
    "def evaluate(X_train, Y_train, X_validation, Y_validation):\n",
    "    selectedModel = models[selectedModelName]\n",
    "    Y_pred = selectedModel.fit(X_train, Y_train).predict(X_validation)\n",
    "    printStats(Y_validation, Y_pred, selectedModelName)"
   ]
  },
  {
   "cell_type": "markdown",
   "metadata": {},
   "source": [
    "### 3) Use at least 2 other data balancing techniques of your choice on the dataset and comment the classification results"
   ]
  },
  {
   "cell_type": "markdown",
   "metadata": {},
   "source": [
    "Rozhodl jsem se použít obě techniky, které jsme probírali. Nejprve zkusím použít under-sampling na prvky z majoritní třídy (ta, kde y=0) a následně zkusím over-sampling na minoritní třídu prvků (y=1). V nejlepším případě každá metoda zlepší kvalitu predikcí vybraného modelu, v nejhorším ani jedna nepřinese zlepšení."
   ]
  },
  {
   "cell_type": "markdown",
   "metadata": {},
   "source": [
    "**Under-sampling**\n",
    "* Původně jsem chtěl vybrat algoritmus CNN (Condensed Nearest Neighbor) - ten v kombinace s metodou Tomek Links tvoří velmi účinou (alespoň z přednášky jsem to tak pochopil) metodu. Ovšem po implementování (nyní zakomentováno) a spuštění CNN, když jsem ani po hodině stále neměl výsledky, jsem tuto metodu zavrhnul a pracoval raději se samotnými Tomkovými linky (spoji?)."
   ]
  },
  {
   "cell_type": "code",
   "execution_count": 10,
   "metadata": {},
   "outputs": [
    {
     "name": "stdout",
     "output_type": "stream",
     "text": [
      "Původní vyváženost trénovací množiny:\n"
     ]
    },
    {
     "data": {
      "text/plain": [
       "0    292485\n",
       "1     11073\n",
       "Name: y, dtype: int64"
      ]
     },
     "metadata": {},
     "output_type": "display_data"
    }
   ],
   "source": [
    "# vyvazenost testovaci sady dat\n",
    "print('Původní vyváženost trénovací množiny:')\n",
    "display(Y_tr.value_counts())"
   ]
  },
  {
   "cell_type": "code",
   "execution_count": 11,
   "metadata": {},
   "outputs": [
    {
     "name": "stdout",
     "output_type": "stream",
     "text": [
      "Původní počet dat: 303558\n",
      "Evaluace před under-samplingem:\n",
      "Naive Bayes:\n",
      "[[181738  13275]\n",
      " [  6419    940]]\n",
      "Normalized confusion matrix:\n",
      "[[0.93192762 0.06807238]\n",
      " [0.87226525 0.12773475]]\n",
      "Tests:\n",
      "Accuracy: 0.9026841657936868\n",
      "F1-score: 0.08714193010104755\n",
      "MSE: 0.09731583420631312\n",
      "------------------------------------------\n",
      "Počet dat po zredukování: 300261\n",
      "Vyváženost:\n"
     ]
    },
    {
     "data": {
      "text/plain": [
       "0    289188\n",
       "1     11073\n",
       "Name: y, dtype: int64"
      ]
     },
     "metadata": {},
     "output_type": "display_data"
    },
    {
     "name": "stdout",
     "output_type": "stream",
     "text": [
      "Evaluace po under-samplingu:\n",
      "Naive Bayes:\n",
      "[[181483  13530]\n",
      " [  6398    961]]\n",
      "Normalized confusion matrix:\n",
      "[[0.93062001 0.06937999]\n",
      " [0.8694116  0.1305884 ]]\n",
      "Tests:\n",
      "Accuracy: 0.9015278793508984\n",
      "F1-score: 0.08796338672768877\n",
      "MSE: 0.09847212064910166\n"
     ]
    }
   ],
   "source": [
    "print('Původní počet dat:', len(Y_tr))\n",
    "\n",
    "# print original prediction accuracy\n",
    "print('Evaluace před under-samplingem:')\n",
    "evaluate(X_tr, Y_tr, X_val, Y_val)\n",
    "print('------------------------------------------')\n",
    "\n",
    "# from imblearn.under_sampling import CondensedNearestNeighbour\n",
    "# cnn = CondensedNearestNeighbour(\n",
    "#     sampling_strategy='majority',  # protoze chci redukovat majoritni tridu prvku\n",
    "#     random_state = RANDOM_SEED,\n",
    "#     n_neighbors = 3,  # defaultne je 1, to mi prijde malo, 3 vidim jako optimalni hodnotu\n",
    "#     n_jobs = -1\n",
    "# )\n",
    "# X_cnn_resampled, Y_cnn_resampled = cnn.fit_resample(X_tr, Y_tr)\n",
    "# print('Po zredukování:', len(X_cnn_resample))\n",
    "# print('Evaluace po undersamplingu:')\n",
    "# evaluate(X_cnn_resampled, Y_cnn_resampled, X_val, Y_val)\n",
    "\n",
    "tomek = TomekLinks(\n",
    "    sampling_strategy='majority',  # protoze chci zredukovat majoritni tridu prvku\n",
    "     n_jobs = -1\n",
    ")\n",
    "X_tomek_resampled, Y_tomek_resampled = tomek.fit_resample(X_tr, Y_tr)\n",
    "print('Počet dat po zredukování:', len(X_tomek_resampled))\n",
    "print('Vyváženost:')\n",
    "display(Y_tomek_resampled.value_counts())\n",
    "print('Evaluace po under-samplingu:')\n",
    "evaluate(X_tomek_resampled, Y_tomek_resampled, X_val, Y_val)"
   ]
  },
  {
   "cell_type": "markdown",
   "metadata": {},
   "source": [
    "#### Vyhodnocení\n",
    "Tomkovy linky zredukovaly majoritní třídu pouze o 3 297 prvků, což tvoří cca 2 % z celkového počtu prvků majoritní třídy. Doufal jsem, že ji zredukují více a data pak budou vybalancována, ale bohužel to podoba dat nejspíše neumožňovala a dataset je stále nevybalancovaný.\n",
    "\n",
    "Bohužel výsledky testů se moc nezlepšily. Kovarianční matice se sice docela změnila (vypadá to, že se lépe klasifikují negativní prvky + je méně chyb 2. řádu, ale více chyb 1. řádu). Přesnost predikce a F1-score se změnily velmi nevýrazně, skoro bych i řekl, že se drobně zhoršily celkové výsledky (accuracy, mse se drobně zhoršily, F1-score se nevýznamně zlepšila). Tuto úpravu na data tedy nemá smysl aplikovat."
   ]
  },
  {
   "cell_type": "markdown",
   "metadata": {},
   "source": [
    "### **Over-sampling**\n",
    "* Under-sampling mi nepřinesl zlepšení predikcí, tak jsem se rozhodl pro over-sampling použít rovnou 2 metody a doufal, že alespoň jedna z nich by data mohla vybalancovat.\n",
    "\n",
    "* Vybral jsem metodu SMOTE (ta funguje na základě interpolace, kdy každému bodu najde _k_ nejbližsích sousedů a na každé spojnici k těmto sousedům nageneruje nový záznam), která je jedna z nejpopulárnějších over-samplingových metod. Dále jsem použil metodu SMOTEENN, která kombinuje metodu SMOTE v kombinaci s algoritmem ENN, pro získání lepších výsledků algoritmu SMOTE."
   ]
  },
  {
   "cell_type": "code",
   "execution_count": 12,
   "metadata": {},
   "outputs": [
    {
     "name": "stdout",
     "output_type": "stream",
     "text": [
      "Původní počet dat: 303558\n",
      "Evaluace před over-samplingem:\n",
      "Naive Bayes:\n",
      "[[181738  13275]\n",
      " [  6419    940]]\n",
      "Normalized confusion matrix:\n",
      "[[0.93192762 0.06807238]\n",
      " [0.87226525 0.12773475]]\n",
      "Tests:\n",
      "Accuracy: 0.9026841657936868\n",
      "F1-score: 0.08714193010104755\n",
      "MSE: 0.09731583420631312\n",
      "------------------------------------------\n",
      "Velikost dat po vygenerování nových bodů: 584970\n",
      "Vyváženost:\n"
     ]
    },
    {
     "data": {
      "text/plain": [
       "1    292485\n",
       "0    292485\n",
       "Name: y, dtype: int64"
      ]
     },
     "metadata": {},
     "output_type": "display_data"
    },
    {
     "name": "stdout",
     "output_type": "stream",
     "text": [
      "Evaluace po over-samplingu:\n",
      "Naive Bayes:\n",
      "[[99094 95919]\n",
      " [ 3623  3736]]\n",
      "Normalized confusion matrix:\n",
      "[[0.50814048 0.49185952]\n",
      " [0.49232233 0.50767767]]\n",
      "Tests:\n",
      "Accuracy: 0.5081236534698476\n",
      "F1-score: 0.0698226400284075\n",
      "MSE: 0.4918763465301524\n"
     ]
    }
   ],
   "source": [
    "print('Původní počet dat:', len(X_tr))\n",
    "\n",
    "# print original prediction accuracy\n",
    "print('Evaluace před over-samplingem:')\n",
    "evaluate(X_tr, Y_tr, X_val, Y_val)\n",
    "print('------------------------------------------')\n",
    "\n",
    "from imblearn.over_sampling import SMOTE\n",
    "smot = SMOTE(sampling_strategy = 'minority', random_state = RANDOM_SEED, k_neighbors = 4)\n",
    "\n",
    "X_smot_resampled, Y_smot_resampled = smot.fit_sample(X_tr, Y_tr)\n",
    "print('Velikost dat po vygenerování nových bodů:', len(X_smot_resampled))\n",
    "print('Vyváženost:')\n",
    "display(Y_smot_resampled.value_counts())\n",
    "print('Evaluace po over-samplingu:')\n",
    "evaluate(X_smot_resampled, Y_smot_resampled, X_val, Y_val)"
   ]
  },
  {
   "cell_type": "code",
   "execution_count": 13,
   "metadata": {},
   "outputs": [
    {
     "name": "stdout",
     "output_type": "stream",
     "text": [
      "Původní počet dat: 303558\n",
      "Velikost dat po vygenerování nových bodů: 470023\n",
      "Vyváženost:\n"
     ]
    },
    {
     "data": {
      "text/plain": [
       "1    292484\n",
       "0    177539\n",
       "Name: y, dtype: int64"
      ]
     },
     "metadata": {},
     "output_type": "display_data"
    },
    {
     "name": "stdout",
     "output_type": "stream",
     "text": [
      "Evaluace po over-samplingu:\n",
      "Naive Bayes:\n",
      "[[97741 97272]\n",
      " [ 3484  3875]]\n",
      "Normalized confusion matrix:\n",
      "[[0.50120248 0.49879752]\n",
      " [0.47343389 0.52656611]]\n",
      "Tests:\n",
      "Accuracy: 0.5021247998735003\n",
      "F1-score: 0.0714246216799071\n",
      "MSE: 0.4978752001264997\n"
     ]
    }
   ],
   "source": [
    "from imblearn.combine import SMOTEENN\n",
    "smoteen = SMOTEENN(sampling_strategy = 'minority',random_state = RANDOM_SEED, smote = smot)\n",
    "\n",
    "X_smoteen_resampled, Y_smoteen_resampled = smoteen.fit_sample(X_tr, Y_tr)\n",
    "print('Původní počet dat:', len(Y_tr))\n",
    "print('Velikost dat po vygenerování nových bodů:', len(X_smoteen_resampled))\n",
    "print('Vyváženost:')\n",
    "display(Y_smoteen_resampled.value_counts())\n",
    "print('Evaluace po over-samplingu:')\n",
    "evaluate(X_smoteen_resampled, Y_smoteen_resampled, X_val, Y_val)"
   ]
  },
  {
   "cell_type": "markdown",
   "metadata": {},
   "source": [
    "#### Vyhodnocení\n",
    "* Dataset technika kvalitně vybalancovala, obě skupiny mají nyní stejný počet dat.\n",
    "* Přesnost predikcí ovšem drasticky klesla (o 30 %!) společně se zhoršením F1-score (ta neklesla tak drasticky, ale také se zhoršila) a to jak u SMOTu, tak u SMOTEEN.\n",
    "* Ani jednu z těchto technik bych tedy nepoužil ke zlepšení predikcí na vybraném datasetu.\n",
    "\n",
    "\n",
    "**Důležitá poznámka:**\n",
    "* během experimentů jsem v jednu chvíli jako hlavní model zvolil **Decision Tree**, který se nad původním datasetem chová velmi nevyváženě (predikuje skoro vždy vysvětlovanou proměnnou jako y=1).\n",
    "* U tohoto modelu opět under-sampling metoda Tonkových spojů nepřinesla žádné zlepšení, ale u over-samplingu technika SMOTE již zlepšení přinesla.\n",
    "* Pod tímto odstavcem přikládám pár zjištěných informací k over-samplingu pro tuto metodu a v následující buňce zobrazím hodnocení nad původními trénovacími daty a nad upravenými vybranou metodou SMOTE.\n",
    "* Ve zbytku notebooku tedy ponechám jako hlavní volbu modelu právě onen **Decision Tree**\n",
    "\n",
    "_Pozorování při použití **Decision Tree**_\n",
    "* Po aplikování metody SMOTE se výsledky přesnosti predikcí zhoršily, data ovšem působí nyní trochu více vybalancovaně a to nejen kvůli počtu dat v minoritní a majoritní třídě (soudím tak také na základě toho, že predikce modelu nyní nejsou tak jednostranné).\n",
    "* Navíc hodnota F1-score se výrazně zlepšila (výrazně oproti předchozí skoro nevýznamné hodnotě)\n",
    "* SMOTEEN sice zlepšil hodnotu F1-score oproti SMOTu, ovšem tentokrát se mi zlepšení F1-score na úkor kvality predikce již nezdála vhodnou volbou.\n",
    "* Rozhodl jsem se tedy původní dataset upravit a vybalancovat pomocí metody SMOTE"
   ]
  },
  {
   "cell_type": "code",
   "execution_count": 14,
   "metadata": {},
   "outputs": [
    {
     "name": "stdout",
     "output_type": "stream",
     "text": [
      "Evaluace před over-samplingem:\n",
      "Decision Tree:\n",
      "[[194986     27]\n",
      " [  7355      4]]\n",
      "Normalized confusion matrix:\n",
      "[[9.99861548e-01 1.38452308e-04]\n",
      " [9.99456448e-01 5.43552113e-04]]\n",
      "Tests:\n",
      "Accuracy: 0.9635226217065602\n",
      "F1-score: 0.0010825439783491203\n",
      "MSE: 0.036477378293439805\n",
      "Evaluace po over-samplingu SMOTem:\n",
      "Decision Tree:\n",
      "[[173209  21804]\n",
      " [  6498    861]]\n",
      "Normalized confusion matrix:\n",
      "[[0.88819207 0.11180793]\n",
      " [0.88300041 0.11699959]]\n",
      "Tests:\n",
      "Accuracy: 0.860148637163244\n",
      "F1-score: 0.057354116706634685\n",
      "MSE: 0.13985136283675606\n"
     ]
    }
   ],
   "source": [
    "selectedModelName = 'Decision Tree'\n",
    "print('Evaluace před over-samplingem:')\n",
    "evaluate(X_tr, Y_tr, X_val, Y_val)\n",
    "print('Evaluace po over-samplingu SMOTem:')\n",
    "evaluate(X_smot_resampled, Y_smot_resampled, X_val, Y_val)"
   ]
  },
  {
   "cell_type": "code",
   "execution_count": 15,
   "metadata": {},
   "outputs": [],
   "source": [
    "# ulozim upravy do promennych s finalni podobou dat\n",
    "X_tr_final = X_smot_resampled\n",
    "Y_tr_final = Y_smot_resampled"
   ]
  },
  {
   "cell_type": "markdown",
   "metadata": {},
   "source": [
    "### 2) Use 2 binning methods (on features of your choice, with your choice of parameters) and comment on its effects on classification performance."
   ]
  },
  {
   "cell_type": "markdown",
   "metadata": {},
   "source": [
    "Již na základě prvotního pohledu na data jsem se rozhodl, že nejvhodnější bude aplikovat binning metody na hodnoty ve sloupcích **xcar_13** a **xreg_03**. Důvod byl jednoduchý -> biningem se snažím data zdiskretizovat a tyto sloupce obsahují spojité hodnoty a jako důsledek toho i nejvíce unikátních hodnot.\n",
    "\n",
    "Pohled na data před samotným biningem je vidět v první buňce pod tímto markupem.\n",
    "\n",
    "Bining provádím již nad upravenými daty po over-samplingu.\n",
    "\n",
    "Rozhodnutí, do kolika binů a který typ biningu dělám nad trénovacími daty, poté před zkoumáním výsledků predikčního modelu aplikuji i na data z validační množiny. Má myšlenka za tímto postupem je následující: \"Pokud se rozhodnu pro diskretizaci dat dané veličiny do x binů, tak tomu tak dělám na základě rozdělení dat. Předpokládám, že data ve validační (/testovací) množině by měla mít stejné rozdělení, proto stejná diskretizace bude vhodná i pro ně.\"\n",
    "\n",
    "Realita samozřejmě může být jiná, ale do testovacích dat přece nikdy nevidím."
   ]
  },
  {
   "cell_type": "markdown",
   "metadata": {},
   "source": [
    "### Binning sloupce **xcar_13**"
   ]
  },
  {
   "cell_type": "code",
   "execution_count": 16,
   "metadata": {},
   "outputs": [
    {
     "data": {
      "text/plain": [
       "0    1.213321\n",
       "1    0.919935\n",
       "2    0.576700\n",
       "Name: xcar_13, dtype: float64"
      ]
     },
     "metadata": {},
     "output_type": "display_data"
    },
    {
     "name": "stdout",
     "output_type": "stream",
     "text": [
      "Max:  3.7206260026 . Min:  0.2911930432\n"
     ]
    }
   ],
   "source": [
    "display(X_tr_final['xcar_13'].head(3))\n",
    "print('Max: ', X_tr_final['xcar_13'].max(), '. Min: ', X_tr_final['xcar_13'].min())"
   ]
  },
  {
   "cell_type": "code",
   "execution_count": 17,
   "metadata": {},
   "outputs": [
    {
     "data": {
      "text/plain": [
       "count    584970.000000\n",
       "mean          0.844714\n",
       "std           0.237949\n",
       "min           0.291193\n",
       "25%           0.692006\n",
       "50%           0.792723\n",
       "75%           0.936551\n",
       "max           3.720626\n",
       "Name: xcar_13, dtype: float64"
      ]
     },
     "metadata": {},
     "output_type": "display_data"
    },
    {
     "data": {
      "text/plain": [
       "<AxesSubplot:>"
      ]
     },
     "execution_count": 17,
     "metadata": {},
     "output_type": "execute_result"
    },
    {
     "data": {
      "image/png": "[encoded data removed]",
      "text/plain": [
       "<Figure size 432x288 with 1 Axes>"
      ]
     },
     "metadata": {
      "needs_background": "light"
     },
     "output_type": "display_data"
    }
   ],
   "source": [
    "display(X_tr_final['xcar_13'].describe())\n",
    "X_tr_final['xcar_13'].hist()"
   ]
  },
  {
   "cell_type": "markdown",
   "metadata": {},
   "source": [
    "Sloupec **xcar_13** neobsahuje žádně chybějící hodnoty (soudím na základě toho, že chyb. hodnoty by měly být reprezentovány -1).\n",
    "\n",
    "Po pohledu na histogram hodnot ze sloupce **xcar_13** to vypadá, že lepší řešení bude hodnoty rozdělit do binů na základě počtu prvků (aby v každém binu bylo stejně dat) namísto toho, aby měli stejné rozpětí (width).\n",
    "* Jako důkaz této domněnky se pokusím data rozdělit i podle rozpětí dané hodnoty a výsledky pak porovnám."
   ]
  },
  {
   "cell_type": "code",
   "execution_count": 18,
   "metadata": {},
   "outputs": [
    {
     "name": "stdout",
     "output_type": "stream",
     "text": [
      "Decision Tree:\n",
      "[[173209  21804]\n",
      " [  6498    861]]\n",
      "Normalized confusion matrix:\n",
      "[[0.88819207 0.11180793]\n",
      " [0.88300041 0.11699959]]\n",
      "Tests:\n",
      "Accuracy: 0.860148637163244\n",
      "F1-score: 0.057354116706634685\n",
      "MSE: 0.13985136283675606\n",
      "------------------------------------------\n",
      "Decision Tree:\n",
      "[[173209  21804]\n",
      " [  6498    861]]\n",
      "Normalized confusion matrix:\n",
      "[[0.88819207 0.11180793]\n",
      " [0.88300041 0.11699959]]\n",
      "Tests:\n",
      "Accuracy: 0.860148637163244\n",
      "F1-score: 0.057354116706634685\n",
      "MSE: 0.13985136283675606\n"
     ]
    },
    {
     "data": {
      "image/png": "[encoded data removed]",
      "text/plain": [
       "<Figure size 432x288 with 1 Axes>"
      ]
     },
     "metadata": {
      "needs_background": "light"
     },
     "output_type": "display_data"
    }
   ],
   "source": [
    "# zde si muzu zkusit jakkykoliv pocet binu, nikdy nebude rozdělení hodnot vyvážené\n",
    "bins_xcar_width = [1, 2, 3, 4, 5, 6, 7, 8]\n",
    "xcar_width = pd.cut(X_tr_final['xcar_13'], 8, labels=bins_xcar_width)\n",
    "xcar_width.hist()\n",
    "\n",
    "X_tr_car_width = X_tr_final.copy()\n",
    "X_tr_car_width['xcar_13'] = xcar_width\n",
    "# rozdeleni binu i ve validacni mnozine\n",
    "X_val_car_width = X_val.copy()\n",
    "X_val_car_width['xcar_13'] = pd.cut(X_val_car_width['xcar_13'], 8, labels=bins_xcar_width)\n",
    "\n",
    "# original + modified data comparison\n",
    "evaluate(X_tr_final, Y_tr_final, X_val, Y_val)\n",
    "print('------------------------------------------')\n",
    "evaluate(X_tr_car_width, Y_tr_final, X_val_car_width, Y_val)"
   ]
  },
  {
   "cell_type": "markdown",
   "metadata": {},
   "source": [
    "Nyní rozdělení do rovnoměrně naplněných binů na základě počtu dat. (binning by height)"
   ]
  },
  {
   "cell_type": "code",
   "execution_count": 19,
   "metadata": {},
   "outputs": [
    {
     "data": {
      "text/plain": [
       "2    83586\n",
       "4    83579\n",
       "1    83572\n",
       "7    83567\n",
       "6    83567\n",
       "5    83555\n",
       "3    83544\n",
       "Name: xcar_13, dtype: int64"
      ]
     },
     "metadata": {},
     "output_type": "display_data"
    },
    {
     "name": "stdout",
     "output_type": "stream",
     "text": [
      "[0.29119304 0.6394083  0.70599558 0.7621326  0.827822   0.90980529\n",
      " 1.05787205 3.720626  ]\n"
     ]
    },
    {
     "data": {
      "image/png": "[encoded data removed]",
      "text/plain": [
       "<Figure size 432x288 with 1 Axes>"
      ]
     },
     "metadata": {
      "needs_background": "light"
     },
     "output_type": "display_data"
    }
   ],
   "source": [
    "bins_xcar_height = [1, 2, 3, 4, 5, 6, 7]\n",
    "X_tr_car_height = X_tr_final.copy()\n",
    "X_tr_car_height['xcar_13'], bins = pd.qcut(X_tr_car_height['xcar_13'], 7, labels=bins_xcar_height, retbins=True)\n",
    "# pohled na hodnoty po rozdeleni\n",
    "X_tr_car_height['xcar_13'].hist()\n",
    "display(X_tr_car_height['xcar_13'].value_counts())\n",
    "print(bins)"
   ]
  },
  {
   "cell_type": "code",
   "execution_count": 20,
   "metadata": {},
   "outputs": [
    {
     "name": "stdout",
     "output_type": "stream",
     "text": [
      "Decision Tree:\n",
      "[[173209  21804]\n",
      " [  6498    861]]\n",
      "Normalized confusion matrix:\n",
      "[[0.88819207 0.11180793]\n",
      " [0.88300041 0.11699959]]\n",
      "Tests:\n",
      "Accuracy: 0.860148637163244\n",
      "F1-score: 0.057354116706634685\n",
      "MSE: 0.13985136283675606\n",
      "------------------------------------------\n",
      "Decision Tree:\n",
      "[[173209  21804]\n",
      " [  6498    861]]\n",
      "Normalized confusion matrix:\n",
      "[[0.88819207 0.11180793]\n",
      " [0.88300041 0.11699959]]\n",
      "Tests:\n",
      "Accuracy: 0.860148637163244\n",
      "F1-score: 0.057354116706634685\n",
      "MSE: 0.13985136283675606\n"
     ]
    }
   ],
   "source": [
    "# porovnani kvality predikce na puvodnich datech vs. na upravenych\n",
    "evaluate(X_tr_final, Y_tr_final, X_val, Y_val)\n",
    "print('------------------------------------------')\n",
    "\n",
    "# rozdeleni binu i ve validacni mnozine\n",
    "X_val_car_height = X_val.copy()\n",
    "X_val_car_height['xcar_13'], bins = pd.qcut(X_val_car_height['xcar_13'], 7, labels=bins_xcar_height, retbins=True)\n",
    "evaluate(X_tr_car_height, Y_tr_final, X_val_car_height, Y_val)"
   ]
  },
  {
   "cell_type": "markdown",
   "metadata": {},
   "source": [
    "#### Vyhodnocení\n",
    "Bohužel i přesto, že rozdělení dat ve sloupci **xcar_13** se zdálo jako dobrý nápad. Tak ani rozdělení podle šířky, ani podle výšky (které si stále myslím, že pro tento sloupec byla lepší volba) nedokázal pro vybraný model zlepšit hodnotu predikcí. S predikcemi to vůbec nehlo. + Hodnota F1-score je stále mizerná :("
   ]
  },
  {
   "cell_type": "markdown",
   "metadata": {},
   "source": [
    "### Binning sloupce **xreg_03**"
   ]
  },
  {
   "cell_type": "code",
   "execution_count": 21,
   "metadata": {},
   "outputs": [
    {
     "data": {
      "text/plain": [
       "count    584970.000000\n",
       "mean          0.625662\n",
       "std           0.719062\n",
       "min          -1.000000\n",
       "25%           0.550568\n",
       "50%           0.759934\n",
       "75%           1.039531\n",
       "max           4.037945\n",
       "Name: xreg_03, dtype: float64"
      ]
     },
     "metadata": {},
     "output_type": "display_data"
    },
    {
     "data": {
      "text/html": [
       "<div>\n",
       "<style scoped>\n",
       "    .dataframe tbody tr th:only-of-type {\n",
       "        vertical-align: middle;\n",
       "    }\n",
       "\n",
       "    .dataframe tbody tr th {\n",
       "        vertical-align: top;\n",
       "    }\n",
       "\n",
       "    .dataframe thead th {\n",
       "        text-align: right;\n",
       "    }\n",
       "</style>\n",
       "<table border=\"1\" class=\"dataframe\">\n",
       "  <thead>\n",
       "    <tr style=\"text-align: right;\">\n",
       "      <th></th>\n",
       "      <th>xind_01</th>\n",
       "      <th>xind_02_cat</th>\n",
       "      <th>xind_03</th>\n",
       "      <th>xind_04_cat</th>\n",
       "      <th>xind_05_cat</th>\n",
       "      <th>xind_06_bin</th>\n",
       "      <th>xind_07_bin</th>\n",
       "      <th>xind_08_bin</th>\n",
       "      <th>xind_09_bin</th>\n",
       "      <th>xind_10_bin</th>\n",
       "      <th>...</th>\n",
       "      <th>xcalc_11</th>\n",
       "      <th>xcalc_12</th>\n",
       "      <th>xcalc_13</th>\n",
       "      <th>xcalc_14</th>\n",
       "      <th>xcalc_15_bin</th>\n",
       "      <th>xcalc_16_bin</th>\n",
       "      <th>xcalc_17_bin</th>\n",
       "      <th>xcalc_18_bin</th>\n",
       "      <th>xcalc_19_bin</th>\n",
       "      <th>xcalc_20_bin</th>\n",
       "    </tr>\n",
       "  </thead>\n",
       "  <tbody>\n",
       "    <tr>\n",
       "      <th>4</th>\n",
       "      <td>2</td>\n",
       "      <td>3</td>\n",
       "      <td>7</td>\n",
       "      <td>1</td>\n",
       "      <td>0</td>\n",
       "      <td>0</td>\n",
       "      <td>0</td>\n",
       "      <td>0</td>\n",
       "      <td>1</td>\n",
       "      <td>0</td>\n",
       "      <td>...</td>\n",
       "      <td>5</td>\n",
       "      <td>0</td>\n",
       "      <td>1</td>\n",
       "      <td>8</td>\n",
       "      <td>0</td>\n",
       "      <td>1</td>\n",
       "      <td>1</td>\n",
       "      <td>0</td>\n",
       "      <td>1</td>\n",
       "      <td>0</td>\n",
       "    </tr>\n",
       "    <tr>\n",
       "      <th>9</th>\n",
       "      <td>0</td>\n",
       "      <td>1</td>\n",
       "      <td>4</td>\n",
       "      <td>1</td>\n",
       "      <td>6</td>\n",
       "      <td>0</td>\n",
       "      <td>1</td>\n",
       "      <td>0</td>\n",
       "      <td>0</td>\n",
       "      <td>0</td>\n",
       "      <td>...</td>\n",
       "      <td>4</td>\n",
       "      <td>2</td>\n",
       "      <td>4</td>\n",
       "      <td>5</td>\n",
       "      <td>0</td>\n",
       "      <td>1</td>\n",
       "      <td>1</td>\n",
       "      <td>0</td>\n",
       "      <td>0</td>\n",
       "      <td>0</td>\n",
       "    </tr>\n",
       "    <tr>\n",
       "      <th>19</th>\n",
       "      <td>1</td>\n",
       "      <td>1</td>\n",
       "      <td>5</td>\n",
       "      <td>0</td>\n",
       "      <td>0</td>\n",
       "      <td>0</td>\n",
       "      <td>1</td>\n",
       "      <td>0</td>\n",
       "      <td>0</td>\n",
       "      <td>0</td>\n",
       "      <td>...</td>\n",
       "      <td>4</td>\n",
       "      <td>3</td>\n",
       "      <td>4</td>\n",
       "      <td>7</td>\n",
       "      <td>0</td>\n",
       "      <td>1</td>\n",
       "      <td>1</td>\n",
       "      <td>0</td>\n",
       "      <td>0</td>\n",
       "      <td>0</td>\n",
       "    </tr>\n",
       "    <tr>\n",
       "      <th>20</th>\n",
       "      <td>1</td>\n",
       "      <td>1</td>\n",
       "      <td>2</td>\n",
       "      <td>0</td>\n",
       "      <td>0</td>\n",
       "      <td>0</td>\n",
       "      <td>1</td>\n",
       "      <td>0</td>\n",
       "      <td>0</td>\n",
       "      <td>0</td>\n",
       "      <td>...</td>\n",
       "      <td>4</td>\n",
       "      <td>2</td>\n",
       "      <td>1</td>\n",
       "      <td>5</td>\n",
       "      <td>0</td>\n",
       "      <td>1</td>\n",
       "      <td>1</td>\n",
       "      <td>0</td>\n",
       "      <td>0</td>\n",
       "      <td>0</td>\n",
       "    </tr>\n",
       "    <tr>\n",
       "      <th>25</th>\n",
       "      <td>5</td>\n",
       "      <td>3</td>\n",
       "      <td>4</td>\n",
       "      <td>1</td>\n",
       "      <td>4</td>\n",
       "      <td>0</td>\n",
       "      <td>0</td>\n",
       "      <td>1</td>\n",
       "      <td>0</td>\n",
       "      <td>0</td>\n",
       "      <td>...</td>\n",
       "      <td>6</td>\n",
       "      <td>1</td>\n",
       "      <td>4</td>\n",
       "      <td>3</td>\n",
       "      <td>0</td>\n",
       "      <td>0</td>\n",
       "      <td>0</td>\n",
       "      <td>0</td>\n",
       "      <td>0</td>\n",
       "      <td>1</td>\n",
       "    </tr>\n",
       "  </tbody>\n",
       "</table>\n",
       "<p>5 rows × 57 columns</p>\n",
       "</div>"
      ],
      "text/plain": [
       "    xind_01  xind_02_cat  xind_03  xind_04_cat  xind_05_cat  xind_06_bin  \\\n",
       "4         2            3        7            1            0            0   \n",
       "9         0            1        4            1            6            0   \n",
       "19        1            1        5            0            0            0   \n",
       "20        1            1        2            0            0            0   \n",
       "25        5            3        4            1            4            0   \n",
       "\n",
       "    xind_07_bin  xind_08_bin  xind_09_bin  xind_10_bin  ...  xcalc_11  \\\n",
       "4             0            0            1            0  ...         5   \n",
       "9             1            0            0            0  ...         4   \n",
       "19            1            0            0            0  ...         4   \n",
       "20            1            0            0            0  ...         4   \n",
       "25            0            1            0            0  ...         6   \n",
       "\n",
       "    xcalc_12  xcalc_13  xcalc_14  xcalc_15_bin  xcalc_16_bin  xcalc_17_bin  \\\n",
       "4          0         1         8             0             1             1   \n",
       "9          2         4         5             0             1             1   \n",
       "19         3         4         7             0             1             1   \n",
       "20         2         1         5             0             1             1   \n",
       "25         1         4         3             0             0             0   \n",
       "\n",
       "    xcalc_18_bin  xcalc_19_bin  xcalc_20_bin  \n",
       "4              0             1             0  \n",
       "9              0             0             0  \n",
       "19             0             0             0  \n",
       "20             0             0             0  \n",
       "25             0             0             1  \n",
       "\n",
       "[5 rows x 57 columns]"
      ]
     },
     "metadata": {},
     "output_type": "display_data"
    },
    {
     "data": {
      "image/png": "[encoded data removed]",
      "text/plain": [
       "<Figure size 432x288 with 1 Axes>"
      ]
     },
     "metadata": {
      "needs_background": "light"
     },
     "output_type": "display_data"
    }
   ],
   "source": [
    "display(X_tr_final['xreg_03'].describe())\n",
    "X_tr_final['xreg_03'].hist()\n",
    "display(X_tr_final[X_tr_final['xreg_03'] == -1].head())\n",
    "# X_tr_final['xreg_03'].unique()"
   ]
  },
  {
   "cell_type": "markdown",
   "metadata": {},
   "source": [
    "Sloupec **xreg_03** obsahuje i chybějící hodnoty, ty bych nechal beze změny a binoval všechny ostatní."
   ]
  },
  {
   "cell_type": "code",
   "execution_count": 22,
   "metadata": {},
   "outputs": [
    {
     "name": "stdout",
     "output_type": "stream",
     "text": [
      "Max:  4.0379450219 . Min:  -0.999889000658514\n"
     ]
    },
    {
     "data": {
      "text/plain": [
       "count    521173.000000\n",
       "mean          0.824660\n",
       "std           0.466088\n",
       "min          -0.999889\n",
       "25%           0.623498\n",
       "50%           0.808548\n",
       "75%           1.082026\n",
       "max           4.037945\n",
       "Name: xreg_03, dtype: float64"
      ]
     },
     "metadata": {},
     "output_type": "display_data"
    },
    {
     "data": {
      "text/plain": [
       "<AxesSubplot:>"
      ]
     },
     "execution_count": 22,
     "metadata": {},
     "output_type": "execute_result"
    },
    {
     "data": {
      "image/png": "[encoded data removed]",
      "text/plain": [
       "<Figure size 432x288 with 1 Axes>"
      ]
     },
     "metadata": {
      "needs_background": "light"
     },
     "output_type": "display_data"
    }
   ],
   "source": [
    "X_tr_xreg_no_missing_vals = X_tr_final[X_tr_final['xreg_03'] != -1].copy()\n",
    "X_val_xreg_no_missing_vals = X_val[X_val['xreg_03'] != -1].copy()\n",
    "\n",
    "print('Max: ', X_tr_xreg_no_missing_vals['xreg_03'].max(), '. Min: ', X_tr_xreg_no_missing_vals['xreg_03'].min())\n",
    "display(X_tr_xreg_no_missing_vals['xreg_03'].describe())\n",
    "X_tr_xreg_no_missing_vals['xreg_03'].hist()"
   ]
  },
  {
   "cell_type": "markdown",
   "metadata": {},
   "source": [
    "Při pohledu na histogram hodnot ve sloupci si opět myslím, že hodnoty bude vhodnější rozdělit podle výšky (počtu prvků v jednotlivých binech) než šířky (na základě intervalů).\n",
    "\n",
    "Opět provedu pro jistotu oboje."
   ]
  },
  {
   "cell_type": "markdown",
   "metadata": {},
   "source": [
    "Binning podle šířky"
   ]
  },
  {
   "cell_type": "code",
   "execution_count": 23,
   "metadata": {},
   "outputs": [
    {
     "data": {
      "text/plain": [
       "<AxesSubplot:>"
      ]
     },
     "execution_count": 23,
     "metadata": {},
     "output_type": "execute_result"
    },
    {
     "data": {
      "image/png": "[encoded data removed]",
      "text/plain": [
       "<Figure size 432x288 with 1 Axes>"
      ]
     },
     "metadata": {
      "needs_background": "light"
     },
     "output_type": "display_data"
    }
   ],
   "source": [
    "# při jakkemkoliv poctu binu budou hodnoty silně nevyvazene\n",
    "bins_xreg_width = [1, 2, 3, 4, 5]\n",
    "\n",
    "X_tr_xreg_no_missing_vals['xreg_03'] = pd.cut(X_tr_xreg_no_missing_vals['xreg_03'], 5, labels=bins_xreg_width)\n",
    "X_tr_xreg_no_missing_vals['xreg_03'].hist()"
   ]
  },
  {
   "cell_type": "code",
   "execution_count": 24,
   "metadata": {},
   "outputs": [
    {
     "name": "stdout",
     "output_type": "stream",
     "text": [
      "Decision Tree:\n",
      "[[173209  21804]\n",
      " [  6498    861]]\n",
      "Normalized confusion matrix:\n",
      "[[0.88819207 0.11180793]\n",
      " [0.88300041 0.11699959]]\n",
      "Tests:\n",
      "Accuracy: 0.860148637163244\n",
      "F1-score: 0.057354116706634685\n",
      "MSE: 0.13985136283675606\n",
      "------------------------------------------\n",
      "Decision Tree:\n",
      "[[112907  82106]\n",
      " [  4220   3139]]\n",
      "Normalized confusion matrix:\n",
      "[[0.57897166 0.42102834]\n",
      " [0.57344748 0.42655252]]\n",
      "Tests:\n",
      "Accuracy: 0.5734291305121262\n",
      "F1-score: 0.06779404777331434\n",
      "MSE: 0.4265708694878738\n"
     ]
    }
   ],
   "source": [
    "X_tr_reg_width = X_tr_final.copy()\n",
    "X_tr_reg_width = X_tr_reg_width[X_tr_reg_width['xreg_03'] == -1]\n",
    "X_tr_reg_width = pd.concat([X_tr_reg_width, X_tr_xreg_no_missing_vals])\n",
    "# rozdeleni binu i pro validacni mnozinu\n",
    "X_val_reg_width = X_val.copy()\n",
    "X_val_reg_width = X_val_reg_width[X_val_reg_width['xreg_03'] == -1]\n",
    "X_val_xreg_no_missing_vals['xreg_03'] = pd.cut(X_val_xreg_no_missing_vals['xreg_03'], 5, labels=bins_xreg_width)\n",
    "X_val_reg_width = pd.concat([X_val_reg_width, X_val_xreg_no_missing_vals])\n",
    "\n",
    "# original + modified data comparison\n",
    "evaluate(X_tr_final, Y_tr_final, X_val, Y_val)\n",
    "print('------------------------------------------')\n",
    "evaluate(X_tr_reg_width, Y_tr_final, X_val_reg_width, Y_val)"
   ]
  },
  {
   "cell_type": "markdown",
   "metadata": {},
   "source": [
    "Binning podle výšky"
   ]
  },
  {
   "cell_type": "code",
   "execution_count": 25,
   "metadata": {},
   "outputs": [
    {
     "data": {
      "text/plain": [
       "1    130495\n",
       "4    130293\n",
       "3    130204\n",
       "2    130181\n",
       "Name: xreg_03, dtype: int64"
      ]
     },
     "metadata": {},
     "output_type": "display_data"
    },
    {
     "name": "stdout",
     "output_type": "stream",
     "text": [
      "[-0.999889    0.6234982   0.80854808  1.08202579  4.03794502]\n"
     ]
    },
    {
     "data": {
      "image/png": "[encoded data removed]",
      "text/plain": [
       "<Figure size 432x288 with 1 Axes>"
      ]
     },
     "metadata": {
      "needs_background": "light"
     },
     "output_type": "display_data"
    }
   ],
   "source": [
    "X_tr_xreg_no_missing_vals = X_tr_final[X_tr_final['xreg_03'] != -1].copy()\n",
    "X_val_xreg_no_missing_vals = X_val[X_val['xreg_03'] != -1].copy()\n",
    "\n",
    "bins_xreg_height = [1, 2, 3, 4]\n",
    "X_tr_xreg_no_missing_vals['xreg_03'], bins = pd.qcut(X_tr_xreg_no_missing_vals['xreg_03'], 4, labels=bins_xreg_height, retbins=True)\n",
    "# pohled na hodnoty rozdelene do binu\n",
    "X_tr_xreg_no_missing_vals['xreg_03'].hist()\n",
    "display(X_tr_xreg_no_missing_vals['xreg_03'].value_counts())\n",
    "print(bins)"
   ]
  },
  {
   "cell_type": "code",
   "execution_count": 26,
   "metadata": {},
   "outputs": [
    {
     "name": "stdout",
     "output_type": "stream",
     "text": [
      "Decision Tree:\n",
      "[[173209  21804]\n",
      " [  6498    861]]\n",
      "Normalized confusion matrix:\n",
      "[[0.88819207 0.11180793]\n",
      " [0.88300041 0.11699959]]\n",
      "Tests:\n",
      "Accuracy: 0.860148637163244\n",
      "F1-score: 0.057354116706634685\n",
      "MSE: 0.13985136283675606\n",
      "------------------------------------------\n",
      "Decision Tree:\n",
      "[[181019  13994]\n",
      " [  6829    530]]\n",
      "Normalized confusion matrix:\n",
      "[[0.92824068 0.07175932]\n",
      " [0.92797935 0.07202065]]\n",
      "Tests:\n",
      "Accuracy: 0.897105330776985\n",
      "F1-score: 0.0484394278663803\n",
      "MSE: 0.10289466922301505\n"
     ]
    }
   ],
   "source": [
    "# porovnani kvality predikce na puvodnich datech vs. na upravenych\n",
    "evaluate(X_tr_final, Y_tr_final, X_val, Y_val)\n",
    "print('------------------------------------------')\n",
    "\n",
    "X_tr_reg_height = X_tr_final.copy()\n",
    "X_tr_reg_height = X_tr_reg_height[X_tr_reg_height['xreg_03'] == -1]\n",
    "X_tr_reg_height = pd.concat([X_tr_reg_height, X_tr_xreg_no_missing_vals])\n",
    "# rozdeleni binu i ve validacni mnozine\n",
    "X_val_reg_height = X_val.copy()\n",
    "X_val_reg_height = X_val_reg_height[X_val_reg_height['xreg_03'] == -1]\n",
    "X_val_xreg_no_missing_vals['xreg_03'] = pd.cut(X_val_xreg_no_missing_vals['xreg_03'], 5, labels=bins_xreg_width)\n",
    "X_val_reg_height = pd.concat([X_val_reg_height, X_val_xreg_no_missing_vals])\n",
    "\n",
    "evaluate(X_tr_reg_height, Y_tr_final, X_val_reg_height, Y_val)"
   ]
  },
  {
   "cell_type": "markdown",
   "metadata": {},
   "source": [
    "#### Vyhodnocení\n",
    "* Na naměřených hodnotách pozitivně hodnotím, že oproti biningu u prvního zvoleného sloupce, kde se nic nezměnilo v predikcích, tak zde již změna v predikcích modelu možná vidět je.\n",
    "* Má domněnka, že bining dle počtu prvků (bining by height) je vhodnější volba se potvrdila\n",
    "* Binning zlepšil přesnost predikcí o 3 %. Hodnota F1-klesla mírně klesla, ale i tak hodnotím změnu pozitivně.\n",
    "\n",
    "Tento bining tedy aplikuji na finální podobu mé trénovací množiny i testovací množiny."
   ]
  },
  {
   "cell_type": "code",
   "execution_count": 27,
   "metadata": {},
   "outputs": [],
   "source": [
    "X_tr_final = X_tr_reg_height\n",
    "\n",
    "# rozbinovani hodnot i v testovaci mnozine\n",
    "X_test_xreg_missing_vals = X_test[X_test['xreg_03'] == -1].copy()\n",
    "\n",
    "X_test_xreg_no_missing_vals = X_test[X_test['xreg_03'] != -1].copy()\n",
    "X_test_xreg_no_missing_vals['xreg_03'] = pd.cut(X_test_xreg_no_missing_vals['xreg_03'], 5, labels=bins_xreg_width)\n",
    "\n",
    "X_test_final = pd.concat([X_test_xreg_missing_vals, X_test_xreg_no_missing_vals])"
   ]
  },
  {
   "cell_type": "markdown",
   "metadata": {},
   "source": [
    "## Závěr\n",
    "* Celkově musím přiznat, že se mi s datasetem velmi špatně pracovalo a obecně mě mátly velmi špatné získané hodnoty kvality predikcí (hlavně F1-score).\n",
    "* Nakonec mi ovšem přišlo, že jsem datasetu dal nějaký řád, vybalancoval data a i úspěšně zdiskretizoval jednu proměnnou, takže myslím, že výsledek je vlastně celkem pozitivní.\n",
    "* Na závěr ještě spustím finální porovnání a to výkon vybraného modelu nad původním datasetem vs. nad upraveným. To udělám nad testovací množinou dat, na kterou sem během všech experimentů nesahal."
   ]
  },
  {
   "cell_type": "code",
   "execution_count": 28,
   "metadata": {},
   "outputs": [
    {
     "name": "stdout",
     "output_type": "stream",
     "text": [
      "Predikce nad puvodnimi daty:\n",
      "Decision Tree:\n",
      "[[86007    13]\n",
      " [ 3260     2]]\n",
      "Normalized confusion matrix:\n",
      "[[9.99848872e-01 1.51127645e-04]\n",
      " [9.99386879e-01 6.13120785e-04]]\n",
      "Tests:\n",
      "Accuracy: 0.9633408749803992\n",
      "F1-score: 0.0012206286237412267\n",
      "MSE: 0.036659125019600815\n",
      "------------------------------------------\n",
      "------------------------------------------\n",
      "Predikce nad upravenymi daty:\n",
      "Decision Tree:\n",
      "[[79779  6241]\n",
      " [ 3012   250]]\n",
      "Normalized confusion matrix:\n",
      "[[0.92744711 0.07255289]\n",
      " [0.9233599  0.0766401 ]]\n",
      "Tests:\n",
      "Accuracy: 0.8963620886628884\n",
      "F1-score: 0.05126627704296114\n",
      "MSE: 0.10363791133711163\n"
     ]
    }
   ],
   "source": [
    "print('Predikce nad puvodnimi daty:')\n",
    "evaluate(X_tr, Y_tr, X_test, Y_test)\n",
    "\n",
    "print('------------------------------------------')\n",
    "# vs.\n",
    "print('------------------------------------------')\n",
    "\n",
    "print('Predikce nad upravenymi daty:')\n",
    "evaluate(X_tr_final, Y_tr_final, X_test_final, Y_test)"
   ]
  },
  {
   "cell_type": "markdown",
   "metadata": {},
   "source": [
    "Přesnost predikce mě mile překvapila, přijde mi dobrá. Hodnota F1-score je stále mizerná, ale ta mě provázela po celou dobu experimentování s datasetem."
   ]
  }
 ],
 "metadata": {
  "kernelspec": {
   "display_name": "Python 3",
   "language": "python",
   "name": "python3"
  },
  "language_info": {
   "codemirror_mode": {
    "name": "ipython",
    "version": 3
   },
   "file_extension": ".py",
   "mimetype": "text/x-python",
   "name": "python",
   "nbconvert_exporter": "python",
   "pygments_lexer": "ipython3",
   "version": "3.7.8"
  }
 },
 "nbformat": 4,
 "nbformat_minor": 4
}
