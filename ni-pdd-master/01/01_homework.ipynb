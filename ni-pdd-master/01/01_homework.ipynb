{
 "cells": [
  {
   "cell_type": "code",
   "execution_count": 1,
   "metadata": {},
   "outputs": [
    {
     "name": "stderr",
     "output_type": "stream",
     "text": [
      "C:\\Users\\OndraS\\anaconda3\\envs\\s\\lib\\site-packages\\IPython\\core\\interactiveshell.py:3146: DtypeWarning: Columns (5,7,10,11,12,13,14,15,22,34,35,36,37,38,39,40,41,42,43,44,46) have mixed types.Specify dtype option on import or set low_memory=False.\n",
      "  interactivity=interactivity, compiler=compiler, result=result)\n"
     ]
    }
   ],
   "source": [
    "# imports\n",
    "import numpy as np\n",
    "import pandas as pd\n",
    "\n",
    "df = pd.read_csv('MetObjects.csv')"
   ]
  },
  {
   "cell_type": "markdown",
   "metadata": {},
   "source": [
    "# Homework 1 - data validation & cleaning (deadline 31. 10. 2020)\n",
    "\n",
    "In short, the main task is to clean The Metropolitan Museum of Art Open Access dataset.\n",
    "  \n",
    "> The instructions are not given in details: It is up to you to come up with ideas on how to fulfill the particular tasks as best you can!\n",
    "\n",
    "## What are you supposed to do:\n",
    "\n",
    "  1. Download the dataset MetObjects.csv from the repository https://github.com/metmuseum/openaccess/.\n",
    "  2. Check consistency (i.e. that same things are represented in the same way) of at least three features where you expect problems (include \"Object Name\" feature).\n",
    "  3. Select some features where you expect integrity problems (describe your choice) and check integrity of those features. By integrity we mean correct logical relations between features (e.g. female names for females only).\n",
    "  4. Convert at least five features to a proper data type. Choose at least one numeric, one categorical and one datetime.\n",
    "  5. Find some outliers (describe your method).\n",
    "  6. Detect missing data in at least three features, convert them to a proper representation (if they are already not), and impute missing values in at least one feature.\n",
    "\n",
    "**If you do all this properly, you will obtain 16 points.** However, all your steps and following code have to be commented! \n",
    "\n",
    "To earn **two points** for extra activity you can do some of these:\n",
    "  * Focus more precisely on cleaning of the \"Medium\" feature. Such if you like to use it in KNN based algorithms later.\n",
    "  * Focus on the extraction of physical dimensions of each item (width, depth and height in centimeters) from the \"Dimensions\" feature.\n",
    "\n",
    "## Comments\n",
    "\n",
    "  * Please follow the instructions from https://courses.fit.cvut.cz/MI-PDD/homeworks/index.html.\n",
    "  * If the reviewing teacher is not satisfied, she can (!) give you another chance to rework your homework and to obtain more points. However, this is not a given, so do your best! :)"
   ]
  },
  {
   "cell_type": "markdown",
   "metadata": {},
   "source": [
    "##### Prvni pohled na  data"
   ]
  },
  {
   "cell_type": "code",
   "execution_count": 2,
   "metadata": {},
   "outputs": [],
   "source": [
    "# display(df.shape) # row and cols cnt\n",
    "# df.nunique()\n",
    "# df.info() # cool, top info"
   ]
  },
  {
   "cell_type": "markdown",
   "metadata": {},
   "source": [
    "## 2. Check consistency (i.e. that same things are represented in the same way) of at least three features where you expect problems (include \"Object Name\" feature)."
   ]
  },
  {
   "cell_type": "markdown",
   "metadata": {},
   "source": [
    "Nejprve zacnu sloupcem hodnot 'Object Name'"
   ]
  },
  {
   "cell_type": "code",
   "execution_count": 3,
   "metadata": {},
   "outputs": [
    {
     "name": "stdout",
     "output_type": "stream",
     "text": [
      "28076\n"
     ]
    },
    {
     "data": {
      "text/plain": [
       "1354"
      ]
     },
     "execution_count": 3,
     "metadata": {},
     "output_type": "execute_result"
    }
   ],
   "source": [
    "print(df['Object Name'].nunique())\n",
    "# display(df['Object Name'].head())\n",
    "# for typ in df['Object Name'].unique():\n",
    "#     print(typ)\n",
    "len(df[df['Object Name'].isnull()])"
   ]
  },
  {
   "cell_type": "markdown",
   "metadata": {},
   "source": [
    "Vypada to, ze sloupec 'Object Name' lze interpretovat jako jakysi typ objektu, protoze hodnoty jsou casto velmi genericke.\n",
    "V databazi je sice ~ 28 tisic typu objektu, ale vzhledem k tomu, ze celkem je v datasetu skoro pul milionu zaznamu tak si myslim, ze upraveni typu tohoto sloupce na kategoricky je vice nez vhodne.\n",
    "\n",
    "* Pri prochazeni nazvu jednotlivych typu jsem si vsiml, ze pomerne casto se vyskytuji typy ve stylu '12 zidli', '13 zidli' apod. Proto jsem se rozhodl nejprve modifikat hodnoty v sloupcich tak, ze pokud prvni posloupnost znaku tvori cislovku, tak ji odeberu z nazvu typu.\n",
    "* Dale jsem si vsiml, ze obcas jsou nazvy prilis dlouhe, protoze zabihaji do detailu specifickych predmetu. Rozhodl jsem se proto vsechny nazvy typu, ktere obsahuji vice nez 30 znaku oriznout a to tak, ze z nich zachovam pouze prvni dve slova\n",
    "* Pri vypisu jednotlivych hodnot jsem nabyl pocitu, ze se obcas vyskytuji prazdne hodnoty(jedna mezera, ci dve atd) - tak jsem je pro jistotu nahradil za NaN. Po vypisu zmenenych hodnot se ukazalo, ze to byla nejspis pouze chyba vypisu\n",
    "* Vice nez 1300 radku ma v sloupci NaN, pro tyto sloupce jsem vytvoril novy typ do categorie a to 'Other'\n",
    "* Dalsiho zredukovani typu jsem dosahl pri pretvoreni vsech hodnot do lowercasu\n",
    "* Jako posledni krok jsem cely sloupec prejmenoval na 'ObjectType'"
   ]
  },
  {
   "cell_type": "code",
   "execution_count": 4,
   "metadata": {},
   "outputs": [],
   "source": [
    "def replaceWhiteSpaceWithNan(val):\n",
    "    if str(val).isspace() or len(str(val)) is 0:\n",
    "        return np.nan\n",
    "    return str(val)"
   ]
  },
  {
   "cell_type": "code",
   "execution_count": 5,
   "metadata": {},
   "outputs": [],
   "source": [
    "df['Object Name'] = df['Object Name'].apply(replaceWhiteSpaceWithNan)\n",
    "df['Object Name'].fillna('Other', inplace=True)"
   ]
  },
  {
   "cell_type": "code",
   "execution_count": 6,
   "metadata": {},
   "outputs": [],
   "source": [
    "def removeIntFromFirstPosition(val):\n",
    "    if val.split()[0].isnumeric():\n",
    "        return val.split(' ', 1)[1]\n",
    "    return val"
   ]
  },
  {
   "cell_type": "code",
   "execution_count": 7,
   "metadata": {},
   "outputs": [],
   "source": [
    "df['Object Name'] = df['Object Name'].apply(removeIntFromFirstPosition)"
   ]
  },
  {
   "cell_type": "code",
   "execution_count": 8,
   "metadata": {},
   "outputs": [],
   "source": [
    "def trimTooLongTypeNames(val):\n",
    "    if len(val) > 30:\n",
    "        return val.split()[0]\n",
    "    return val"
   ]
  },
  {
   "cell_type": "code",
   "execution_count": 9,
   "metadata": {},
   "outputs": [],
   "source": [
    "df['Object Name'] = df['Object Name'].apply(trimTooLongTypeNames)"
   ]
  },
  {
   "cell_type": "code",
   "execution_count": 10,
   "metadata": {},
   "outputs": [],
   "source": [
    "def replaceWhiteSpaceWithNan(val):\n",
    "    if val.isspace() or len(val) is 0:\n",
    "        return np.nan\n",
    "    return val"
   ]
  },
  {
   "cell_type": "code",
   "execution_count": 11,
   "metadata": {},
   "outputs": [],
   "source": [
    "df['Object Name'] = df['Object Name'].apply(replaceWhiteSpaceWithNan)"
   ]
  },
  {
   "cell_type": "code",
   "execution_count": 12,
   "metadata": {},
   "outputs": [],
   "source": [
    "def transformToLowerCase(val):\n",
    "    return str(val).lower()"
   ]
  },
  {
   "cell_type": "code",
   "execution_count": 13,
   "metadata": {},
   "outputs": [],
   "source": [
    "df['Object Name'] = df['Object Name'].apply(transformToLowerCase)\n",
    "df['Object Name'].fillna('Other', inplace=True)"
   ]
  },
  {
   "cell_type": "code",
   "execution_count": 14,
   "metadata": {},
   "outputs": [],
   "source": [
    "df.rename(columns={'Object Name': 'ObjectType'}, inplace=True)\n",
    "# vytvorim novou categorii z dostupnych unique hodnot\n",
    "objName_category = pd.api.types.CategoricalDtype(categories=df['ObjectType'].unique(), ordered=True)\n",
    "df['ObjectType'] = df['ObjectType'].astype(objName_category)"
   ]
  },
  {
   "cell_type": "markdown",
   "metadata": {},
   "source": [
    "Dalsi nekonzistence, kterou jsem objevil byla ve sloupci 'Object Number'. Jako identifikator jednotlivych sloupcu slouzi sloupec 'Object ID', ktery obsahuje unikatni ID pro kazdy objekt. Sloupec 'Object Number' podle me ma obsahovat interni ID. Aby byly jednotlive sloupci s IDcky prvku konzistentni, meli by byt vsechny typu int.\n",
    "* Hodnoty ve sloupci jsou velmi ruznorode, ve vetsine pripadu se jednalo o cisla, ale casto do nich byli nelogicky pridany ruzne znaky. Proto jsem se rozhodl, ze ze sloupcu vyparsuji pouze ciselne hodnoty a ty pouziji jako vyslednou hodnotu.\n",
    "* Pokud se vyskytovala hodnota s pouze slovnim oznacenim, povazoval jsem to (i vzhledem k nazvu sloupce) za chybu a nahradil je hodnotou -1. U nekterych sloupcu byli hodnoty ve tvaru '123.45.67a' a '123.45.67b'. Tyto hodnoty podle meho symbolizuji nejaky vzajemny vztah mezi predmety a rozhodl jsem se jim nechat ve vysledku stejnou hodnotu (pro zadany priklad by tedy oba radky skoncili s hodnotou '1234567').\n",
    "* V 35 pripadech jsem narazil na to, ze hodnoty ve sloupci obsahovaly ohromne mnozstvi cisel. Vysledne cislo by se neveslo do int64, coz je nejvetsi velikost int typu, ktery pandas podporuje. Dane radky jsem oznacil a vymazal je z datasetu. Bylo jich jen velmi male mnozstvi, takze si myslim, ze to je dobra volba."
   ]
  },
  {
   "cell_type": "code",
   "execution_count": 15,
   "metadata": {},
   "outputs": [],
   "source": [
    "def parseInt(val):\n",
    "    val = str(val)\n",
    "    intStr = ''\n",
    "    for c in val:\n",
    "        if c.isnumeric():\n",
    "            intStr += c\n",
    "    if len(intStr) is 0:\n",
    "        return -1\n",
    "    if len(intStr) > 18:\n",
    "        return -2\n",
    "    return int(intStr)/2"
   ]
  },
  {
   "cell_type": "code",
   "execution_count": 16,
   "metadata": {},
   "outputs": [],
   "source": [
    "df['Object Number'] = df['Object Number'].apply(parseInt)\n",
    "df['Object Number'] = df['Object Number'].astype('int64')\n",
    "df = df[df['Object Number'] != -2]"
   ]
  },
  {
   "cell_type": "markdown",
   "metadata": {},
   "source": [
    "Dalsi nekonzistenci tvoril sloupec 'Gallery Number', ktery ma jiste predstavovat, v jake galerii se dany objekt nachazi.\n",
    "* Tento objekt by mel mit prirozene ciselne id po vzoru jinych sloupcu. Ale nema. Je tomu tak kvuli 5 hodnotam mistnosti, ktere maji misto cisla mistnosti jeji nazev. Vzhledem k tomu, ze jich bylo pouze 5 unikatnich, tak jsem si nasel cisla mistnosti, ktera dosud nebyla zabrana a vytvoril sem dictionary, ktery tyto string nazvy mistnosti mapuje na nalezena nepouzita cisla mistnosti\n",
    "* Nektera cisla mistnosti jsou take zadana jako cisla s desetinou pozici, ovsem za desetinou teckou je vzdy nula, takze je zbytecne je v teto podobe mit. Odebral jsem tedy z cisel desetinou cast a cely sloupec jsem uspesne premenil na ciselny datovy typ int.\n",
    "* Pri predpokladu, ze cisla galerie maji pouze predmety, ktere je potreba trackovat, doplnim na pozici NaNu 0, jako hodnotu signalizujici, ze predmet zatim nebyl umisten.\n",
    "\n",
    "_pozn: Tento sloupec bych zvazil i odebrat jelikoz ve vetsine datasetu obsahuje pouze NaN hodnotu_"
   ]
  },
  {
   "cell_type": "code",
   "execution_count": 17,
   "metadata": {},
   "outputs": [],
   "source": [
    "roomNameToId = {}\n",
    "def checkNonNumericValue(val):\n",
    "    if type(val) is int:\n",
    "        return val\n",
    "    if val is np.nan or val is None:\n",
    "        return 0\n",
    "    if type(val) is float:\n",
    "        if np.isnan(val):\n",
    "            return 0\n",
    "        return int(val)\n",
    "    if val.isnumeric():\n",
    "        return val\n",
    "    if val in roomNameToId.keys():\n",
    "        return roomNameToId[val]\n",
    "    else:\n",
    "        # find possible roomId\n",
    "        while True:\n",
    "            nmb = np.random.randint(1,1000)\n",
    "            if len(df[df['Gallery Number'] == nmb]) is 0:\n",
    "                roomNameToId[val] = nmb\n",
    "                return nmb"
   ]
  },
  {
   "cell_type": "code",
   "execution_count": 18,
   "metadata": {},
   "outputs": [],
   "source": [
    "# df['Gallery Number'].unique()\n",
    "df['Gallery Number'] = df['Gallery Number'].apply(checkNonNumericValue)\n",
    "df['Gallery Number'] = df['Gallery Number'].astype('int32')"
   ]
  },
  {
   "cell_type": "markdown",
   "metadata": {},
   "source": [
    "## 3. Select some features where you expect integrity problems (describe your choice) and check integrity of those features. By integrity we mean correct logical relations between features (e.g. female names for females only)"
   ]
  },
  {
   "cell_type": "markdown",
   "metadata": {},
   "source": [
    "Pri zkoumani dat me napadl tento potencionalni problem: Hodnota v sloupci 'Object End Date' (u niz predpokladam (i na zaklade ostatnich sloupcu), ze ma reprezentovat rok dokonceni dila) by nemela byt vetsi nez hodnota v sloupci 'Artist End Date' (predpokladam, ze reprezentuje datum umrti umelce). Myslim, ze by nemela byt vetsi, protoze mi logicky nesedi, aby dilo bylo dokoncene po smrti autora, i kdyz verim, ze v nekterych pripadech by mi nekdo tvrdil, ze takova situace muze nastat. Nemohu zarucit, ze tato myslenka je spravna, jelikoz nikde nejsou hodnoty ve sloupcich presne identifikovany, ale pokousel jsem se vymyslet neco vlastniho\n",
    "* 'Object End Date' ma ciselne hodnoty, 'Artist End Date' ma hodnoty pomerne rozbite - ve vetsine pripadu obsahuje rok, ale obcas obsahuje napr. '1993|84945' (proste rok + chaos). Pokusil jsem se co nejrozumneji opravit a ziskat spravne roky z tohoto sloupce\n",
    "* Nasledne jsem zkontroloval, zda se mnou ocekavany problem integrity v datech vyskytuje\n",
    "    * Ano vyskytuje a to celkem v 25 423 pripadech, coz je pomerne vysoke cislo, ale vzhledem k tomu, jaky neporadek v datech je, tak se teto velke hodnote ani moc nedivim\n",
    "    \n",
    "_pozn: NaN hodnoty jsem kvuli prevodu do datoveho typu int oznacil dost specifickou hodnotou, kterou zadny radek v datasetu nemel. Jsem si vedom, ze to neni nejlepsi reseni, ale nenapadlo me, jakou jinou zvolit_"
   ]
  },
  {
   "cell_type": "code",
   "execution_count": 19,
   "metadata": {},
   "outputs": [],
   "source": [
    "from datetime import date\n",
    "current_date = date.today() \n",
    "\n",
    "def parseYear(val):\n",
    "    if val is np.nan:\n",
    "        return -666666\n",
    "    val = str(val)\n",
    "    result = ''\n",
    "    negative = False\n",
    "    if val[0] == '-':\n",
    "        negative = True\n",
    "        result = '-'\n",
    "        val = val[1:]\n",
    "        \n",
    "    while len(result) <=5 and len(val) > 0:\n",
    "        if val[0].isnumeric():\n",
    "            result += val[0]\n",
    "            val = val[1:]\n",
    "        elif len(result) > 0 and not negative or negative and len(result) > 1:\n",
    "            break\n",
    "        else:\n",
    "            val = val[1:]\n",
    "    if int(result) >= current_date.year:\n",
    "        return -666666\n",
    "    return int(result)"
   ]
  },
  {
   "cell_type": "code",
   "execution_count": 20,
   "metadata": {},
   "outputs": [],
   "source": [
    "df['Artist End Date'] = df['Artist End Date'].apply(parseYear)\n",
    "df['Artist End Date'] = df['Artist End Date'].astype('int64')"
   ]
  },
  {
   "cell_type": "code",
   "execution_count": 21,
   "metadata": {},
   "outputs": [
    {
     "name": "stdout",
     "output_type": "stream",
     "text": [
      "281104\n"
     ]
    }
   ],
   "source": [
    "print(len(df[(df['Object End Date'] > df['Artist End Date'])][['Object End Date', 'Artist End Date']]))"
   ]
  },
  {
   "cell_type": "markdown",
   "metadata": {},
   "source": [
    "## 4. Convert at least five features to a proper data type. Choose at least one numeric, one categorical and one datetime"
   ]
  },
  {
   "cell_type": "markdown",
   "metadata": {},
   "source": [
    "#### Behem bodu 2) jsem zmenil jiz 3 priznaky (2x na kategorickou a 1x na numerickou hodnotu)\n",
    "#### Behem bodu 3) jsem zmenil jeden sloupec na numerickou hodnotu"
   ]
  },
  {
   "cell_type": "markdown",
   "metadata": {},
   "source": [
    "Pri dalsim zkoumani jsem narazil na nekolik sloupcu, u kterych jsem provedl jednoduche upravy pro zlepseni datasetu\n",
    "* Sloupec 'Department' ma pouze 19 ruznych hodnot -> categorizuji\n",
    "* Ve sloupci 'Artist Gender' jsou velmi rozbité hodnoty, z nichž soudím, že pokud se v změti znaku vyskytuje slovo 'female', pak se jednalo o zenu, v opacnem pripade o muze (soudim tak podle toho, ze pri vypisu unikatnich hodnot v tomto sloupci se vyskytuji pouze slova 'female' a nebo jen zmeti znaku)\n",
    "    * Data v tomto sloupci tedy opravim a nasledne kategorizuji\n",
    "* Hodnotu ve sloupci 'Repository' maji vsechny radky vyplnenou, ale stejnou! Odebiram sloupec\n",
    "* Sloupec 'Metadata Date' je uplne nevyplneny - odebiram\n",
    "* Sloupec 'Classification' jde categorizovat"
   ]
  },
  {
   "cell_type": "code",
   "execution_count": 22,
   "metadata": {},
   "outputs": [],
   "source": [
    "def decideGender(val):\n",
    "    val = str(val)\n",
    "    if 'female' in val.lower():\n",
    "        return 1\n",
    "    return 0"
   ]
  },
  {
   "cell_type": "code",
   "execution_count": 23,
   "metadata": {},
   "outputs": [],
   "source": [
    "# department column\n",
    "department_category = pd.api.types.CategoricalDtype(categories=df['Department'].unique(), ordered=True)\n",
    "df['Department'] = df['Department'].astype(department_category)\n",
    "# Artist Gender column\n",
    "gender_category = pd.api.types.CategoricalDtype(categories=[0, 1], ordered=True)\n",
    "df['Artist Gender'] = df['Artist Gender'].apply(decideGender).astype(department_category)\n",
    "# remove Repository and Metadata Date columns\n",
    "df.drop(columns=['Repository', 'Metadata Date'], inplace=True)\n",
    "# Classification column\n",
    "df['Classification'].fillna('Other', inplace=True)\n",
    "classif_category = pd.api.types.CategoricalDtype(categories=df['Classification'].unique(), ordered=True)\n",
    "df['Classification'] = df['Classification'].astype(classif_category)"
   ]
  },
  {
   "cell_type": "markdown",
   "metadata": {},
   "source": [
    "* Jeste zbyva prevest jeden sloupec do datetime formatu\n",
    "    *  Rozhodl jsem se prevest hodnoty ve sloupci 'Artist End Date'\n",
    "    * _pozn.: bohuzel v tomto sloupci je spousta hodnot NaN. Hodnoty pred rokem 1677 totiz neumi pandas prevest na datum, proto jsem je nechal nahradit hodnotou NaT. Nemyslim si, ze se jedna o nejlepsi zpusob a konverzi, ale docela dlouhy cast sem stravil ruznymi pokusy o vyparsovani a prevedeni na datum, ale neuspesne. V jinych sloupcich byla data obdobne 'oskliva'_"
   ]
  },
  {
   "cell_type": "code",
   "execution_count": 24,
   "metadata": {},
   "outputs": [],
   "source": [
    "df['Artist End Date'] = pd.to_datetime(df['Artist End Date'], format='%Y', errors='coerce')"
   ]
  },
  {
   "cell_type": "markdown",
   "metadata": {},
   "source": [
    "## 5. Find some outliers (describe your method)\n",
    "* Ve sloupci 'Medium' se nachazi ruzne hodnoty a popisy, ovsem 4 hodnoty presahuji delku 1000 znaku, coz si nemyslim, ze je spravne. Urcite se musi jednat o chyby, ktere by mely byt opraveny. Po vypsani textu jsem se v tom ujistil:\n",
    "    * jeden je z 90 % tvoren kopiemi posloupnosti znaku '\\r\\n'\n",
    "    * druhy obsahuje celkem 66 kopii (jsou i ocislovane) vety 'Pen and brown ink, brush and brown and blue wash.\\r\\n'\n",
    "    * treti obsahuje stejnou chybu jako o bod vyse, ovsem opakovana veta je zopakovana 250 krat\n",
    "    * ctvrty obsahuje stejnou chybu jako prvni zmineny radek"
   ]
  },
  {
   "cell_type": "code",
   "execution_count": 25,
   "metadata": {},
   "outputs": [
    {
     "data": {
      "text/plain": [
       "38106     Carnelian and white agate\\r\\n\\r\\n\\r\\n\\r\\n\\r\\n\\...\n",
       "207191    folio 1 -     Pen and brown ink, brush and bro...\n",
       "211584    1)     Pen and brown ink, brush and gray wash....\n",
       "308138    Silver; micro-repoussage (sheet metal miniatur...\n",
       "Name: Medium, dtype: object"
      ]
     },
     "execution_count": 25,
     "metadata": {},
     "output_type": "execute_result"
    }
   ],
   "source": [
    "df[df['Medium'].str.len() > 1000].Medium"
   ]
  },
  {
   "cell_type": "markdown",
   "metadata": {},
   "source": [
    "## 6. Detect missing data in at least three features, convert them to a proper representation (if they are already not), and impute missing values in at least one feature"
   ]
  },
  {
   "cell_type": "markdown",
   "metadata": {},
   "source": [
    "* V bode 2) jsem chybejici hodnoty ve sloupci 'Object Name' zpracoval a vsechny zaradil pod typ 'Other'\n",
    "* V bode 4) jsem upravil navic nekolik sloupcu, z nichz sloupec 'Classification' jsem categorizoval a rozhodl jsem se chybejici hodnoty take zaradit do kategorie 'Other'\n",
    "* Dalsi chybejici data jsem odhalil ve sloupcich 'Dynasty' a 'State'.\n",
    "    * Hodnotu ve sloupci 'State'jsem se pokousel nahradit nasledovne: ( bohuzel po implementovani jsem zjistil, ze takove radky neexistuji :( )\n",
    "        * Pokud je v datasetu radek, ktery obsahuje stejnou hodnotu ve sloupci 'City' a ma 'State' vypleny, tak tuto hodnotu zkopiruji do radku, kteremu hodnota 'State' chybi\n",
    "    * Hodnota ve sloupci 'Dynasty' se sice muze zdat jako 'schvalne nevyplena', ale kdyz se vice prozkoumaji vyplnene hodnoty, tak se casto vyskytuje i pouhy odhad, do ktere dynastie dilo patri (na konci hodnoty dynastie je '(?)')"
   ]
  },
  {
   "cell_type": "code",
   "execution_count": 26,
   "metadata": {},
   "outputs": [],
   "source": [
    "# # print(df['State'].unique())\n",
    "# # ve sloupci se vyskutij dve hodnoty (| a ||), ktere jsou zrejme chybne. Nejprve je tedy smazu\n",
    "# df.loc[df['State'] == '|', 'State'] = np.nan\n",
    "# df.loc[df['State'] == '||', 'State'] = np.nan\n",
    "# cityToStateDic = {}"
   ]
  },
  {
   "cell_type": "code",
   "execution_count": 27,
   "metadata": {},
   "outputs": [],
   "source": [
    "# cityToStateDic = {}\n",
    "# for index, row in df.iterrows():\n",
    "#     if str(row.City) not in cityToStateDic.keys() and str(row.State) != 'nan' and len(str(row.State)) > 0:\n",
    "#         cityToStateDic[str(row.City)] = row.State"
   ]
  },
  {
   "cell_type": "code",
   "execution_count": 28,
   "metadata": {},
   "outputs": [],
   "source": [
    "# dfStateToFill = df[df['State'].isnull()]\n",
    "# for index, row in dfStateToFill.iterrows():\n",
    "#     if str(row.City) in cityToStateDic.keys():\n",
    "#         row.State = cityToStateDic[str(row.City)]\n",
    "#     else:\n",
    "#         row.State = np.nan"
   ]
  },
  {
   "cell_type": "code",
   "execution_count": 29,
   "metadata": {},
   "outputs": [],
   "source": [
    "# print('Len of rows with missing \\'State\\' before:', len(df[df['State'].isnull()]))\n",
    "# df[df['State'].isnull()]['State'] = dfStateToFill['State']\n",
    "# print('Len of rows with missing \\'State\\' after:', len(df[df['State'].isnull()]))"
   ]
  },
  {
   "cell_type": "markdown",
   "metadata": {},
   "source": [
    "* Ve sloupci 'AccessionYear' chybi pomerne malo hodnot. Rozhodl jsem se je doplnit pomoci mean hodnoty. Vsechny vyplnene hodnoty jsou totiz z podobneho obdobi (rozmezi 100 let), proto si myslim, ze mean hodnota je dobra volba."
   ]
  },
  {
   "cell_type": "code",
   "execution_count": 30,
   "metadata": {},
   "outputs": [],
   "source": [
    "# nejdriv jsem musel upravit hodnoty do celo ciselne podoby\n",
    "def convertoToYearInt(val):\n",
    "    val_str = str(val)\n",
    "    if val_str.isnumeric() or type(val) is float and not np.isnan(val):\n",
    "        return int(val)\n",
    "    elif val_str[:4].isnumeric():\n",
    "        return int(val[:4])\n",
    "    else:\n",
    "        return val"
   ]
  },
  {
   "cell_type": "code",
   "execution_count": 31,
   "metadata": {},
   "outputs": [],
   "source": [
    "df['AccessionYear'] = df['AccessionYear'].apply(convertoToYearInt)"
   ]
  },
  {
   "cell_type": "code",
   "execution_count": 32,
   "metadata": {},
   "outputs": [
    {
     "name": "stdout",
     "output_type": "stream",
     "text": [
      "Replacing with mean value: 1955.3089548908135\n"
     ]
    }
   ],
   "source": [
    "# df['AccessionYear'].unique()\n",
    "AccessionYear_mean = df[df['AccessionYear'].notnull()]['AccessionYear'].mean()\n",
    "print('Replacing with mean value:', AccessionYear_mean)\n",
    "df['AccessionYear'].fillna(AccessionYear_mean, inplace=True)"
   ]
  }
 ],
 "metadata": {
  "kernelspec": {
   "display_name": "Python 3",
   "language": "python",
   "name": "python3"
  },
  "language_info": {
   "codemirror_mode": {
    "name": "ipython",
    "version": 3
   },
   "file_extension": ".py",
   "mimetype": "text/x-python",
   "name": "python",
   "nbconvert_exporter": "python",
   "pygments_lexer": "ipython3",
   "version": "3.7.8"
  }
 },
 "nbformat": 4,
 "nbformat_minor": 4
}
