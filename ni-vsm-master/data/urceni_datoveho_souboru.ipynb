{
 "cells": [
  {
   "cell_type": "code",
   "execution_count": 4,
   "metadata": {},
   "outputs": [
    {
     "name": "stdout",
     "output_type": "stream",
     "text": [
      "X=9\n",
      "Y=5\n"
     ]
    }
   ],
   "source": [
    "# Parametry úlohy spočtěte následovně:\n",
    "\n",
    "K = 7 #den narození reprezentanta skupiny (1-31),\n",
    "L = len('safranek') # počet písmen v příjmení reprezentanta,\n",
    "X = ((K*L*23) % (20)) + 1\n",
    "Y = ((X + ((K*5 + L*7) % (19))) % (20)) + 1\n",
    "print(f'X={X}')\n",
    "print(f'Y={Y}')"
   ]
  }
 ],
 "metadata": {
  "kernelspec": {
   "display_name": "Python 3",
   "language": "python",
   "name": "python3"
  },
  "language_info": {
   "codemirror_mode": {
    "name": "ipython",
    "version": 3
   },
   "file_extension": ".py",
   "mimetype": "text/x-python",
   "name": "python",
   "nbconvert_exporter": "python",
   "pygments_lexer": "ipython3",
   "version": "3.9.2"
  }
 },
 "nbformat": 4,
 "nbformat_minor": 4
}
