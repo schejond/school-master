{
 "cells": [
  {
   "cell_type": "code",
   "execution_count": 1,
   "id": "architectural-laugh",
   "metadata": {},
   "outputs": [],
   "source": [
    "import pandas as pd\n",
    "import numpy as np\n",
    "import matplotlib.pyplot as plt"
   ]
  },
  {
   "cell_type": "code",
   "execution_count": 2,
   "id": "antique-gambling",
   "metadata": {},
   "outputs": [],
   "source": [
    "# load data\n",
    "df = pd.read_csv(\"data/train100k.csv\")"
   ]
  },
  {
   "cell_type": "code",
   "execution_count": 3,
   "id": "employed-defendant",
   "metadata": {},
   "outputs": [],
   "source": [
    "# convert to datetime format\n",
    "df.date = pd.to_datetime(df.date)\n",
    "# parse the strings to itemids\n",
    "df.itemids = df.itemids.apply(lambda row: [int(i) for i in row.split(\" \")])"
   ]
  },
  {
   "cell_type": "code",
   "execution_count": 4,
   "id": "2f9a225e",
   "metadata": {},
   "outputs": [
    {
     "name": "stdout",
     "output_type": "stream",
     "text": [
      "<class 'pandas.core.frame.DataFrame'>\n",
      "RangeIndex: 1711877 entries, 0 to 1711876\n",
      "Data columns (total 3 columns):\n",
      " #   Column   Dtype         \n",
      "---  ------   -----         \n",
      " 0   userid   int64         \n",
      " 1   date     datetime64[ns]\n",
      " 2   itemids  object        \n",
      "dtypes: datetime64[ns](1), int64(1), object(1)\n",
      "memory usage: 39.2+ MB\n"
     ]
    },
    {
     "data": {
      "text/html": [
       "<div>\n",
       "<style scoped>\n",
       "    .dataframe tbody tr th:only-of-type {\n",
       "        vertical-align: middle;\n",
       "    }\n",
       "\n",
       "    .dataframe tbody tr th {\n",
       "        vertical-align: top;\n",
       "    }\n",
       "\n",
       "    .dataframe thead th {\n",
       "        text-align: right;\n",
       "    }\n",
       "</style>\n",
       "<table border=\"1\" class=\"dataframe\">\n",
       "  <thead>\n",
       "    <tr style=\"text-align: right;\">\n",
       "      <th></th>\n",
       "      <th>userid</th>\n",
       "      <th>date</th>\n",
       "      <th>itemids</th>\n",
       "    </tr>\n",
       "  </thead>\n",
       "  <tbody>\n",
       "    <tr>\n",
       "      <th>0</th>\n",
       "      <td>7226385</td>\n",
       "      <td>2019-01-22</td>\n",
       "      <td>[42203, 41183, 15823, 39620]</td>\n",
       "    </tr>\n",
       "    <tr>\n",
       "      <th>1</th>\n",
       "      <td>7226385</td>\n",
       "      <td>2019-02-12</td>\n",
       "      <td>[54231, 14939, 39462]</td>\n",
       "    </tr>\n",
       "    <tr>\n",
       "      <th>2</th>\n",
       "      <td>7226385</td>\n",
       "      <td>2019-03-11</td>\n",
       "      <td>[15823, 21028, 39620, 52846]</td>\n",
       "    </tr>\n",
       "    <tr>\n",
       "      <th>3</th>\n",
       "      <td>7226385</td>\n",
       "      <td>2019-04-03</td>\n",
       "      <td>[14939, 39620, 27542, 21028, 19353]</td>\n",
       "    </tr>\n",
       "    <tr>\n",
       "      <th>4</th>\n",
       "      <td>7226385</td>\n",
       "      <td>2019-05-23</td>\n",
       "      <td>[21028, 21028, 14939, 15823]</td>\n",
       "    </tr>\n",
       "  </tbody>\n",
       "</table>\n",
       "</div>"
      ],
      "text/plain": [
       "    userid       date                              itemids\n",
       "0  7226385 2019-01-22         [42203, 41183, 15823, 39620]\n",
       "1  7226385 2019-02-12                [54231, 14939, 39462]\n",
       "2  7226385 2019-03-11         [15823, 21028, 39620, 52846]\n",
       "3  7226385 2019-04-03  [14939, 39620, 27542, 21028, 19353]\n",
       "4  7226385 2019-05-23         [21028, 21028, 14939, 15823]"
      ]
     },
     "execution_count": 4,
     "metadata": {},
     "output_type": "execute_result"
    }
   ],
   "source": [
    "# explore data\n",
    "df.info()\n",
    "df.head()"
   ]
  },
  {
   "cell_type": "code",
   "execution_count": 5,
   "id": "inclusive-family",
   "metadata": {},
   "outputs": [],
   "source": [
    "# feather format preserves dtypes of columns\n",
    "# df.to_feather(\"data/train100k.feather\")"
   ]
  },
  {
   "cell_type": "code",
   "execution_count": 6,
   "id": "35534aa5",
   "metadata": {},
   "outputs": [],
   "source": [
    "# df = pd.read_feather(\"data/train100k.feather\")"
   ]
  },
  {
   "cell_type": "code",
   "execution_count": 7,
   "id": "handmade-london",
   "metadata": {},
   "outputs": [
    {
     "name": "stdout",
     "output_type": "stream",
     "text": [
      "<class 'pandas.core.frame.DataFrame'>\n",
      "RangeIndex: 24000 entries, 0 to 23999\n",
      "Data columns (total 3 columns):\n",
      " #   Column   Non-Null Count  Dtype         \n",
      "---  ------   --------------  -----         \n",
      " 0   userid   24000 non-null  int64         \n",
      " 1   date     24000 non-null  datetime64[ns]\n",
      " 2   itemids  0 non-null      float64       \n",
      "dtypes: datetime64[ns](1), float64(1), int64(1)\n",
      "memory usage: 562.6 KB\n"
     ]
    },
    {
     "data": {
      "text/html": [
       "<div>\n",
       "<style scoped>\n",
       "    .dataframe tbody tr th:only-of-type {\n",
       "        vertical-align: middle;\n",
       "    }\n",
       "\n",
       "    .dataframe tbody tr th {\n",
       "        vertical-align: top;\n",
       "    }\n",
       "\n",
       "    .dataframe thead th {\n",
       "        text-align: right;\n",
       "    }\n",
       "</style>\n",
       "<table border=\"1\" class=\"dataframe\">\n",
       "  <thead>\n",
       "    <tr style=\"text-align: right;\">\n",
       "      <th></th>\n",
       "      <th>userid</th>\n",
       "      <th>date</th>\n",
       "      <th>itemids</th>\n",
       "    </tr>\n",
       "  </thead>\n",
       "  <tbody>\n",
       "    <tr>\n",
       "      <th>0</th>\n",
       "      <td>6568788</td>\n",
       "      <td>2020-01-15</td>\n",
       "      <td>NaN</td>\n",
       "    </tr>\n",
       "    <tr>\n",
       "      <th>1</th>\n",
       "      <td>2771293</td>\n",
       "      <td>2020-01-30</td>\n",
       "      <td>NaN</td>\n",
       "    </tr>\n",
       "    <tr>\n",
       "      <th>2</th>\n",
       "      <td>6761196</td>\n",
       "      <td>2020-01-29</td>\n",
       "      <td>NaN</td>\n",
       "    </tr>\n",
       "    <tr>\n",
       "      <th>3</th>\n",
       "      <td>3711380</td>\n",
       "      <td>2020-01-23</td>\n",
       "      <td>NaN</td>\n",
       "    </tr>\n",
       "    <tr>\n",
       "      <th>4</th>\n",
       "      <td>9576135</td>\n",
       "      <td>2020-01-16</td>\n",
       "      <td>NaN</td>\n",
       "    </tr>\n",
       "  </tbody>\n",
       "</table>\n",
       "</div>"
      ],
      "text/plain": [
       "    userid       date  itemids\n",
       "0  6568788 2020-01-15      NaN\n",
       "1  2771293 2020-01-30      NaN\n",
       "2  6761196 2020-01-29      NaN\n",
       "3  3711380 2020-01-23      NaN\n",
       "4  9576135 2020-01-16      NaN"
      ]
     },
     "execution_count": 7,
     "metadata": {},
     "output_type": "execute_result"
    }
   ],
   "source": [
    "# load test DF + convert col to datetime format\n",
    "testDf = pd.read_csv(\"data/test24k.csv\")\n",
    "testDf.date = pd.to_datetime(testDf.date)\n",
    "testUserIds = set(testDf.userid.unique())\n",
    "testDf.info()\n",
    "testDf.head()"
   ]
  },
  {
   "cell_type": "code",
   "execution_count": 8,
   "id": "0e56e598",
   "metadata": {},
   "outputs": [
    {
     "data": {
      "text/plain": [
       "24000"
      ]
     },
     "execution_count": 8,
     "metadata": {},
     "output_type": "execute_result"
    }
   ],
   "source": [
    "len(testUserIds)"
   ]
  },
  {
   "cell_type": "markdown",
   "id": "pleased-booth",
   "metadata": {},
   "source": [
    "### Baseline - Previous Purchase"
   ]
  },
  {
   "cell_type": "code",
   "execution_count": 9,
   "id": "cabfbabb",
   "metadata": {},
   "outputs": [
    {
     "data": {
      "text/html": [
       "<div>\n",
       "<style scoped>\n",
       "    .dataframe tbody tr th:only-of-type {\n",
       "        vertical-align: middle;\n",
       "    }\n",
       "\n",
       "    .dataframe tbody tr th {\n",
       "        vertical-align: top;\n",
       "    }\n",
       "\n",
       "    .dataframe thead th {\n",
       "        text-align: right;\n",
       "    }\n",
       "</style>\n",
       "<table border=\"1\" class=\"dataframe\">\n",
       "  <thead>\n",
       "    <tr style=\"text-align: right;\">\n",
       "      <th></th>\n",
       "      <th>userid</th>\n",
       "      <th>date</th>\n",
       "      <th>itemids</th>\n",
       "    </tr>\n",
       "  </thead>\n",
       "  <tbody>\n",
       "    <tr>\n",
       "      <th>1520731</th>\n",
       "      <td>8376293</td>\n",
       "      <td>2019-09-03</td>\n",
       "      <td>[59811, 12996, 32332, 21098, 15633, 24518, 46056]</td>\n",
       "    </tr>\n",
       "    <tr>\n",
       "      <th>1520732</th>\n",
       "      <td>8376293</td>\n",
       "      <td>2019-09-24</td>\n",
       "      <td>[38999, 53952, 44195, 58234, 23433, 23433, 157...</td>\n",
       "    </tr>\n",
       "    <tr>\n",
       "      <th>1520733</th>\n",
       "      <td>8376293</td>\n",
       "      <td>2019-10-18</td>\n",
       "      <td>[21098, 38786, 58234, 30723, 34720]</td>\n",
       "    </tr>\n",
       "    <tr>\n",
       "      <th>1520734</th>\n",
       "      <td>8376293</td>\n",
       "      <td>2019-11-29</td>\n",
       "      <td>[25980, 12996, 56015, 21098, 26814]</td>\n",
       "    </tr>\n",
       "    <tr>\n",
       "      <th>1520735</th>\n",
       "      <td>8376293</td>\n",
       "      <td>2019-12-17</td>\n",
       "      <td>[43437, 41755, 44453, 25849, 58234, 34381]</td>\n",
       "    </tr>\n",
       "    <tr>\n",
       "      <th>1520736</th>\n",
       "      <td>8376293</td>\n",
       "      <td>2020-01-21</td>\n",
       "      <td>[21098, 34720, 58234, 53952]</td>\n",
       "    </tr>\n",
       "  </tbody>\n",
       "</table>\n",
       "</div>"
      ],
      "text/plain": [
       "          userid       date                                            itemids\n",
       "1520731  8376293 2019-09-03  [59811, 12996, 32332, 21098, 15633, 24518, 46056]\n",
       "1520732  8376293 2019-09-24  [38999, 53952, 44195, 58234, 23433, 23433, 157...\n",
       "1520733  8376293 2019-10-18                [21098, 38786, 58234, 30723, 34720]\n",
       "1520734  8376293 2019-11-29                [25980, 12996, 56015, 21098, 26814]\n",
       "1520735  8376293 2019-12-17         [43437, 41755, 44453, 25849, 58234, 34381]\n",
       "1520736  8376293 2020-01-21                       [21098, 34720, 58234, 53952]"
      ]
     },
     "metadata": {},
     "output_type": "display_data"
    }
   ],
   "source": [
    "# example\n",
    "exampleUserId = testDf.sample().userid.iloc[0]\n",
    "display(df[df.userid == exampleUserId].sort_values(\"date\").tail(6))"
   ]
  },
  {
   "cell_type": "markdown",
   "id": "novel-extent",
   "metadata": {},
   "source": [
    "Now let's get the last purchase for all of the test users"
   ]
  },
  {
   "cell_type": "code",
   "execution_count": 10,
   "id": "central-fault",
   "metadata": {},
   "outputs": [],
   "source": [
    "# obtain data of testing users\n",
    "test = df[df.userid.isin(testUserIds)].reset_index(drop=True)\n",
    "# train = df[~df.userid.isin(testUserIds)].reset_index(drop=True)"
   ]
  },
  {
   "cell_type": "code",
   "execution_count": 11,
   "id": "emotional-parks",
   "metadata": {},
   "outputs": [
    {
     "data": {
      "text/html": [
       "<div>\n",
       "<style scoped>\n",
       "    .dataframe tbody tr th:only-of-type {\n",
       "        vertical-align: middle;\n",
       "    }\n",
       "\n",
       "    .dataframe tbody tr th {\n",
       "        vertical-align: top;\n",
       "    }\n",
       "\n",
       "    .dataframe thead th {\n",
       "        text-align: right;\n",
       "    }\n",
       "</style>\n",
       "<table border=\"1\" class=\"dataframe\">\n",
       "  <thead>\n",
       "    <tr style=\"text-align: right;\">\n",
       "      <th></th>\n",
       "      <th>userid</th>\n",
       "      <th>date</th>\n",
       "      <th>itemids</th>\n",
       "    </tr>\n",
       "  </thead>\n",
       "  <tbody>\n",
       "    <tr>\n",
       "      <th>186844</th>\n",
       "      <td>1000167</td>\n",
       "      <td>2020-01-15</td>\n",
       "      <td>[56638, 14028, 21645, 32306, 25940, 25940, 58951]</td>\n",
       "    </tr>\n",
       "    <tr>\n",
       "      <th>63867</th>\n",
       "      <td>1000630</td>\n",
       "      <td>2020-08-18</td>\n",
       "      <td>[45033]</td>\n",
       "    </tr>\n",
       "    <tr>\n",
       "      <th>243677</th>\n",
       "      <td>1000648</td>\n",
       "      <td>2020-02-18</td>\n",
       "      <td>[16059, 31856, 56015, 47049, 52206, 55503]</td>\n",
       "    </tr>\n",
       "  </tbody>\n",
       "</table>\n",
       "</div>"
      ],
      "text/plain": [
       "         userid       date                                            itemids\n",
       "186844  1000167 2020-01-15  [56638, 14028, 21645, 32306, 25940, 25940, 58951]\n",
       "63867   1000630 2020-08-18                                            [45033]\n",
       "243677  1000648 2020-02-18         [16059, 31856, 56015, 47049, 52206, 55503]"
      ]
     },
     "execution_count": 11,
     "metadata": {},
     "output_type": "execute_result"
    }
   ],
   "source": [
    "# get last purchase for each userid\n",
    "lastPurchaseDf = test.iloc[test.groupby(\"userid\").date.idxmax()]\n",
    "lastPurchaseDf.head(3)"
   ]
  },
  {
   "cell_type": "code",
   "execution_count": 12,
   "id": "0cee9a3e",
   "metadata": {},
   "outputs": [
    {
     "data": {
      "text/html": [
       "<div>\n",
       "<style scoped>\n",
       "    .dataframe tbody tr th:only-of-type {\n",
       "        vertical-align: middle;\n",
       "    }\n",
       "\n",
       "    .dataframe tbody tr th {\n",
       "        vertical-align: top;\n",
       "    }\n",
       "\n",
       "    .dataframe thead th {\n",
       "        text-align: right;\n",
       "    }\n",
       "</style>\n",
       "<table border=\"1\" class=\"dataframe\">\n",
       "  <thead>\n",
       "    <tr style=\"text-align: right;\">\n",
       "      <th></th>\n",
       "      <th>userid</th>\n",
       "      <th>date</th>\n",
       "    </tr>\n",
       "  </thead>\n",
       "  <tbody>\n",
       "    <tr>\n",
       "      <th>0</th>\n",
       "      <td>6568788</td>\n",
       "      <td>2020-01-15</td>\n",
       "    </tr>\n",
       "    <tr>\n",
       "      <th>1</th>\n",
       "      <td>2771293</td>\n",
       "      <td>2020-01-30</td>\n",
       "    </tr>\n",
       "  </tbody>\n",
       "</table>\n",
       "</div>"
      ],
      "text/plain": [
       "    userid       date\n",
       "0  6568788 2020-01-15\n",
       "1  2771293 2020-01-30"
      ]
     },
     "execution_count": 12,
     "metadata": {},
     "output_type": "execute_result"
    }
   ],
   "source": [
    "testDf[['userid', 'date']].head(2)"
   ]
  },
  {
   "cell_type": "code",
   "execution_count": 13,
   "id": "amber-television",
   "metadata": {},
   "outputs": [
    {
     "data": {
      "text/html": [
       "<div>\n",
       "<style scoped>\n",
       "    .dataframe tbody tr th:only-of-type {\n",
       "        vertical-align: middle;\n",
       "    }\n",
       "\n",
       "    .dataframe tbody tr th {\n",
       "        vertical-align: top;\n",
       "    }\n",
       "\n",
       "    .dataframe thead th {\n",
       "        text-align: right;\n",
       "    }\n",
       "</style>\n",
       "<table border=\"1\" class=\"dataframe\">\n",
       "  <thead>\n",
       "    <tr style=\"text-align: right;\">\n",
       "      <th></th>\n",
       "      <th>userid</th>\n",
       "      <th>date</th>\n",
       "      <th>itemids</th>\n",
       "    </tr>\n",
       "  </thead>\n",
       "  <tbody>\n",
       "    <tr>\n",
       "      <th>0</th>\n",
       "      <td>6568788</td>\n",
       "      <td>2020-01-15</td>\n",
       "      <td>[19240, 32367, 31315]</td>\n",
       "    </tr>\n",
       "    <tr>\n",
       "      <th>1</th>\n",
       "      <td>2771293</td>\n",
       "      <td>2020-01-30</td>\n",
       "      <td>[52979, 28998]</td>\n",
       "    </tr>\n",
       "  </tbody>\n",
       "</table>\n",
       "</div>"
      ],
      "text/plain": [
       "    userid       date                itemids\n",
       "0  6568788 2020-01-15  [19240, 32367, 31315]\n",
       "1  2771293 2020-01-30         [52979, 28998]"
      ]
     },
     "metadata": {},
     "output_type": "display_data"
    },
    {
     "data": {
      "text/html": [
       "<div>\n",
       "<style scoped>\n",
       "    .dataframe tbody tr th:only-of-type {\n",
       "        vertical-align: middle;\n",
       "    }\n",
       "\n",
       "    .dataframe tbody tr th {\n",
       "        vertical-align: top;\n",
       "    }\n",
       "\n",
       "    .dataframe thead th {\n",
       "        text-align: right;\n",
       "    }\n",
       "</style>\n",
       "<table border=\"1\" class=\"dataframe\">\n",
       "  <thead>\n",
       "    <tr style=\"text-align: right;\">\n",
       "      <th></th>\n",
       "      <th>userid</th>\n",
       "      <th>date</th>\n",
       "      <th>itemids</th>\n",
       "    </tr>\n",
       "  </thead>\n",
       "  <tbody>\n",
       "    <tr>\n",
       "      <th>0</th>\n",
       "      <td>6568788</td>\n",
       "      <td>2020-01-15</td>\n",
       "      <td>19240 32367 31315</td>\n",
       "    </tr>\n",
       "    <tr>\n",
       "      <th>1</th>\n",
       "      <td>2771293</td>\n",
       "      <td>2020-01-30</td>\n",
       "      <td>52979 28998</td>\n",
       "    </tr>\n",
       "  </tbody>\n",
       "</table>\n",
       "</div>"
      ],
      "text/plain": [
       "    userid       date            itemids\n",
       "0  6568788 2020-01-15  19240 32367 31315\n",
       "1  2771293 2020-01-30        52979 28998"
      ]
     },
     "metadata": {},
     "output_type": "display_data"
    }
   ],
   "source": [
    "# transform data to submission format and save\n",
    "submission = testDf[['userid', 'date']].merge(lastPurchaseDf[['userid', 'itemids']], left_on='userid', right_on='userid').copy()\n",
    "display(submission.head(2))\n",
    "\n",
    "submission.itemids = submission.itemids.apply(lambda row: \" \".join(str(itemid) for itemid in row))\n",
    "display(submission.head(2))\n",
    "\n",
    "submission.to_csv(\"submission-last-purchase.csv\", index=False)"
   ]
  },
  {
   "cell_type": "markdown",
   "id": "removable-blank",
   "metadata": {},
   "source": [
    "Now we could simply submit the last purchase. But there is a catch. Ideally we would like to know how well the model performs. To do that, we need to create our own evaluation (also called validation) dataset. "
   ]
  },
  {
   "cell_type": "markdown",
   "id": "educated-brave",
   "metadata": {},
   "source": [
    "# Measuring our algorithm - Jaccard similarity\n",
    "\n",
    "In the first round, we are using a score that ignores the counts of the item in the target basket."
   ]
  },
  {
   "cell_type": "code",
   "execution_count": null,
   "id": "olive-empire",
   "metadata": {},
   "outputs": [],
   "source": [
    "def jaccard_simple(list1, list2) -> float:\n",
    "    \"\"\"First round score that ignores the counts of the items.\"\"\"\n",
    "    set1 = set(list1)\n",
    "    set2 = set(list2)\n",
    "    \n",
    "    # Also case of empty == empty\n",
    "    if set1 == set2:\n",
    "        return 1\n",
    "\n",
    "    intersec = len(set1.intersection(set2))\n",
    "    union = len(set1.union(set2))\n",
    "    \n",
    "    return intersec / union if union > 0 else 0"
   ]
  },
  {
   "cell_type": "markdown",
   "id": "prostate-diamond",
   "metadata": {},
   "source": [
    "```python\n",
    ">>> jaccard_simple([1, 2, 3], [1]) \n",
    "0.3333333333333333\n",
    ">>> jaccard_simple([1], [1, 2, 3]) \n",
    "0.3333333333333333\n",
    ">>> jaccard_simple([1, 2, 3], [1, 1, 1])\n",
    "0.3333333333333333\n",
    ">>> jaccard_simple([1, 2, 3], [4])\n",
    "0.0\n",
    "```"
   ]
  },
  {
   "cell_type": "markdown",
   "id": "infectious-instrument",
   "metadata": {},
   "source": [
    "# Validation dataset\n",
    "The goal of machine learning is, generally speaking, to create a model tha generalizes well across different (and most importantly unseen) data. To obtain an unbiased estimate of a model's performance, we traditionally use a separate dataset to train a model (`train`), and to measure its performance (`validation`). Your client then has a separate `test` dataset which is not shared with you. \n",
    "\n",
    "In case of this challenge, we have the list of targets that we want to predict with an accuracy as high as possible (the `test`). But we can submit our efforts only once per hour. This limits us from running many experiments locally, seeing their results and quickly adjusting our algorithms.\n",
    "\n",
    "To measure this, we will create our own, **validation** dataset. Let's examine our targets now."
   ]
  },
  {
   "cell_type": "code",
   "execution_count": null,
   "id": "great-rugby",
   "metadata": {},
   "outputs": [],
   "source": [
    "fig, ax = plt.subplots()\n",
    "targets.groupby(by=[targets.date.dt.year, targets.date.dt.month]).userid.count()\\\n",
    "    .plot(kind=\"bar\", title=\"Number of target purchases in a given month\")\n",
    "ax.set_xlabel(\"month\")\n",
    "ax.set_ylabel(\"number of purchases\")\n",
    "plt.show()"
   ]
  },
  {
   "cell_type": "markdown",
   "id": "quiet-guess",
   "metadata": {},
   "source": [
    "It is worth noting that your validation dataset should be similar to the provided test dataset. What you want is to get as relevant and representative score as possible. We have several options for a validation dataset\n",
    "- create a completely random sample of the users and select a random purchase from their history\n",
    "- create a random sample that has similar distribution of target dates as our test targets\n",
    "- use the last purchase from the given test dataset as our validation (lazy approach)\n",
    "\n",
    "We will go with the lazy approach here, but it is up to your judgement how to validate your model. A price we will pay for this lazy approach is that we will lower the amount of previous purchases that were guaranteed to be at least 5 to 4. There is no free lunch.\n",
    "\n",
    "Also, there is a question of whether you should include the validation users in your training dataset or not. That's up to your decision."
   ]
  },
  {
   "cell_type": "code",
   "execution_count": null,
   "id": "original-hunger",
   "metadata": {},
   "outputs": [],
   "source": [
    "# Get the last purchase (maximum date) for each userid\n",
    "validation = test.iloc[test.groupby(\"userid\").date.idxmax()].copy()"
   ]
  },
  {
   "cell_type": "markdown",
   "id": "purple-spelling",
   "metadata": {},
   "source": [
    "We can see that by being lazy we get somewhat similar distribution over months. Let's hope it represents the true testing data well enough."
   ]
  },
  {
   "cell_type": "code",
   "execution_count": null,
   "id": "generic-natural",
   "metadata": {},
   "outputs": [],
   "source": [
    "fig, ax = plt.subplots()\n",
    "validation.groupby(by=[validation.date.dt.year, validation.date.dt.month]).userid.count()\\\n",
    "    .plot(kind=\"bar\", title=\"Number of validation purchases in a given month\")\n",
    "ax.set_xlabel(\"month\")\n",
    "ax.set_ylabel(\"number of purchases\")\n",
    "plt.show()"
   ]
  },
  {
   "cell_type": "code",
   "execution_count": null,
   "id": "electoral-pointer",
   "metadata": {},
   "outputs": [],
   "source": [
    "# All the test users data except the validation purchase\n",
    "# Not that there is also a whole train dataset above\n",
    "remaining = test.loc[test.index.difference(validation.index)].reset_index(drop=True)"
   ]
  },
  {
   "cell_type": "markdown",
   "id": "missing-russia",
   "metadata": {},
   "source": [
    "# Measuring the last purchase strategy on the validation dataset\n",
    "\n",
    "The `remaining` DataFrame now contains only the validation users. So we don't have to subsample it any further."
   ]
  },
  {
   "cell_type": "code",
   "execution_count": null,
   "id": "ambient-seller",
   "metadata": {},
   "outputs": [],
   "source": [
    "pred = remaining.loc[remaining.groupby(\"userid\").date.idxmax()]"
   ]
  },
  {
   "cell_type": "markdown",
   "id": "turned-boulder",
   "metadata": {},
   "source": [
    "Let's study the case of userid `1000648`. "
   ]
  },
  {
   "cell_type": "code",
   "execution_count": null,
   "id": "dressed-karaoke",
   "metadata": {},
   "outputs": [],
   "source": [
    "val_1000648 = validation[validation.userid == 1000648]\n",
    "val_1000648"
   ]
  },
  {
   "cell_type": "code",
   "execution_count": null,
   "id": "demanding-merit",
   "metadata": {},
   "outputs": [],
   "source": [
    "pred_1000648 = pred[pred.userid == 1000648]\n",
    "pred_1000648"
   ]
  },
  {
   "cell_type": "markdown",
   "id": "young-indicator",
   "metadata": {},
   "source": [
    "Let's see how similar the 2 baskets are"
   ]
  },
  {
   "cell_type": "code",
   "execution_count": null,
   "id": "greenhouse-simulation",
   "metadata": {},
   "outputs": [],
   "source": [
    "jaccard_simple(pred_1000648.itemids.values[0], val_1000648.itemids.values[0])"
   ]
  },
  {
   "cell_type": "markdown",
   "id": "nearby-windows",
   "metadata": {},
   "source": [
    "Now let's see the results for **all** validation users and average them."
   ]
  },
  {
   "cell_type": "code",
   "execution_count": null,
   "id": "affected-tractor",
   "metadata": {},
   "outputs": [],
   "source": [
    "merged = validation.merge(pred, on=\"userid\", suffixes = (\"_val\", \"_pred\"))"
   ]
  },
  {
   "cell_type": "code",
   "execution_count": null,
   "id": "impaired-kingston",
   "metadata": {},
   "outputs": [],
   "source": [
    "merged[\"jaccard\"] = merged.apply(lambda x: jaccard_simple(x.itemids_val, x.itemids_pred), axis=1)"
   ]
  },
  {
   "cell_type": "markdown",
   "id": "prompt-pound",
   "metadata": {},
   "source": [
    "We get the (macro) averaged jaccard similarity over our validation dataset:"
   ]
  },
  {
   "cell_type": "code",
   "execution_count": null,
   "id": "moved-magic",
   "metadata": {},
   "outputs": [],
   "source": [
    "merged.jaccard.mean()"
   ]
  },
  {
   "cell_type": "markdown",
   "id": "aboriginal-seminar",
   "metadata": {},
   "source": [
    "# Beyond the baseline\n",
    "The baseline is quite naive. We weren't using most of our data anyway. We could do better! Let's take the full dataset except our validation targets."
   ]
  },
  {
   "cell_type": "code",
   "execution_count": null,
   "id": "bizarre-local",
   "metadata": {},
   "outputs": [],
   "source": [
    "full = pd.concat([train, remaining])"
   ]
  },
  {
   "cell_type": "markdown",
   "id": "stone-stroke",
   "metadata": {},
   "source": [
    "In collaborative filtering, we use the user-item matrix which is a matrix with users in rows and items in columns. If a user had purchased an item, given user-item cell in the matrix is non-zero. "
   ]
  },
  {
   "cell_type": "code",
   "execution_count": null,
   "id": "wireless-attribute",
   "metadata": {},
   "outputs": [],
   "source": [
    "unique_items = full.itemids.explode().unique()\n",
    "unique_users = full.userid.unique()"
   ]
  },
  {
   "cell_type": "code",
   "execution_count": null,
   "id": "tired-disaster",
   "metadata": {},
   "outputs": [],
   "source": [
    "# Create mappings between user (and item) id's and matrix indexes\n",
    "user2index = dict(zip(unique_users, range(len(unique_users))))\n",
    "index2user = dict(zip(range(len(unique_users)), unique_users))\n",
    "item2index = dict(zip(unique_items, range(len(unique_items))))\n",
    "index2item = dict(zip(range(len(unique_items)), unique_items))"
   ]
  },
  {
   "cell_type": "markdown",
   "id": "alert-wallace",
   "metadata": {},
   "source": [
    "We will try a strategy where we will create one matrix for all previous purchases and one matrix for the last purchase. We use the `prev_matrix` for user purchasing similarity and `last_matrix` to get the prediction for the given user."
   ]
  },
  {
   "cell_type": "code",
   "execution_count": null,
   "id": "charming-willow",
   "metadata": {},
   "outputs": [],
   "source": [
    "# Add a flag whether this purchase was the last one\n",
    "full[\"last_purchase\"] = full.groupby(\"userid\").date.transform('max') == full.date"
   ]
  },
  {
   "cell_type": "code",
   "execution_count": null,
   "id": "foreign-antarctica",
   "metadata": {},
   "outputs": [],
   "source": [
    "# Build the user-item matrixes\n",
    "prev_matrix = np.zeros((len(unique_users), len(unique_items)), dtype=\"int16\")\n",
    "last_matrix = np.zeros((len(unique_users), len(unique_items)), dtype=\"int16\")\n",
    "\n",
    "# This may take a while and is memory intensive\n",
    "for row in full.explode(column=\"itemids\").itertuples():\n",
    "    if row.last_purchase:\n",
    "        last_matrix[user2index[row.userid], item2index[row.itemids]] += 1\n",
    "    else:\n",
    "        prev_matrix[user2index[row.userid], item2index[row.itemids]] += 1"
   ]
  },
  {
   "cell_type": "code",
   "execution_count": null,
   "id": "varying-cartridge",
   "metadata": {},
   "outputs": [],
   "source": [
    "from sklearn.neighbors import NearestNeighbors\n",
    "\n",
    "neigh = NearestNeighbors(n_neighbors=16, metric=\"cosine\", n_jobs=-1)\n",
    "neigh.fit(prev_matrix)"
   ]
  },
  {
   "cell_type": "code",
   "execution_count": null,
   "id": "needed-momentum",
   "metadata": {},
   "outputs": [],
   "source": [
    "# Map the urse ids into matrix indexes and select the validation users\n",
    "validation[\"user_index\"] = validation.userid.map(user2index)\n",
    "validation_users = prev_matrix[validation.user_index.values]"
   ]
  },
  {
   "cell_type": "code",
   "execution_count": null,
   "id": "adaptive-singing",
   "metadata": {},
   "outputs": [],
   "source": [
    "validation_targets = validation.itemids.to_list()"
   ]
  },
  {
   "cell_type": "code",
   "execution_count": null,
   "id": "limited-anaheim",
   "metadata": {},
   "outputs": [],
   "source": [
    "# Compute the k nearest neighbours for the validation users\n",
    "distances, indexes = neigh.kneighbors(validation_users)"
   ]
  },
  {
   "cell_type": "code",
   "execution_count": null,
   "id": "actual-monte",
   "metadata": {},
   "outputs": [],
   "source": [
    "exclude_self = 1"
   ]
  },
  {
   "cell_type": "code",
   "execution_count": null,
   "id": "controlling-yacht",
   "metadata": {},
   "outputs": [],
   "source": [
    "for i, knn in enumerate([2, 4, 6, 8, 10, 12, 16]):\n",
    "    # Do not include the closest neighbour (self)\n",
    "    n_distances = distances[:, exclude_self:knn]\n",
    "    n_indexes = indexes[:, exclude_self:knn]\n",
    "\n",
    "    # Invert the distance into weight\n",
    "    n_distances = 1 - n_distances\n",
    "\n",
    "    # Normalize the distances by broadcasting\n",
    "    sums = n_distances.sum(axis=1)\n",
    "    n_distances = n_distances / sums[:, np.newaxis]\n",
    "\n",
    "    # Do the prediction\n",
    "    n_neigh_last = last_matrix[n_indexes]\n",
    "\n",
    "    # Variable threshold round (you can play with the threshold)\n",
    "    preds = (n_neigh_last * n_distances[:, :, np.newaxis]).sum(axis=1)\n",
    "    preds = np.where(preds > 0.5, 1, 0)\n",
    "\n",
    "    # Get the item ids from the matrix indexes\n",
    "    nonzero_preds = [np.flatnonzero(row) for row in preds]\n",
    "    transformed_preds = [[index2item[idx] for idx in row] for row in nonzero_preds]\n",
    "\n",
    "    score = np.mean([jaccard_simple(pred, target) for pred, target in zip(transformed_preds, validation_targets)])\n",
    "    print(f\"knn: {knn}\\t| {score}\")"
   ]
  }
 ],
 "metadata": {
  "kernelspec": {
   "display_name": "Python 3",
   "language": "python",
   "name": "python3"
  },
  "language_info": {
   "codemirror_mode": {
    "name": "ipython",
    "version": 3
   },
   "file_extension": ".py",
   "mimetype": "text/x-python",
   "name": "python",
   "nbconvert_exporter": "python",
   "pygments_lexer": "ipython3",
   "version": "3.6.13"
  }
 },
 "nbformat": 4,
 "nbformat_minor": 5
}
