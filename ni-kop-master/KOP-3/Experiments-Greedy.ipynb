{
 "cells": [
  {
   "cell_type": "markdown",
   "metadata": {},
   "source": [
    "## Notebook for experimenting with Dynamic Programming algorithm"
   ]
  },
  {
   "cell_type": "code",
   "execution_count": 1,
   "metadata": {},
   "outputs": [],
   "source": [
    "import matplotlib.pyplot as plt\n",
    "import matplotlib\n",
    "import pandas as pd\n",
    "import numpy as np\n",
    "from statistics import mean\n",
    "import os\n",
    "\n",
    "%matplotlib inline \n",
    "matplotlib.style.use('ggplot')"
   ]
  },
  {
   "cell_type": "code",
   "execution_count": 2,
   "metadata": {},
   "outputs": [],
   "source": [
    "def parseParamsFromName(fileName):\n",
    "    split = fileName.split(\"_\")\n",
    "    if len(split) is not 3 and len(split) is not 4:\n",
    "        raise ValueError('Unexpected fileName: ' + fileName)\n",
    "        \n",
    "    if len(split) is 3:\n",
    "        return split[0], split[1], split[2], 1\n",
    "    else:\n",
    "        return split[0], split[1], split[2], split[3]"
   ]
  },
  {
   "cell_type": "code",
   "execution_count": 3,
   "metadata": {},
   "outputs": [],
   "source": [
    "def prepareDFCols(dirName, fileName):\n",
    "    file_df = pd.read_csv(dirName + fileName)\n",
    "    \n",
    "    weightDist, priceWCorel, knapsackKapRatio, k = parseParamsFromName(fileName[:-4])\n",
    "    \n",
    "    file_df = file_df.assign(w_dist=weightDist)\n",
    "    file_df = file_df.assign(c_w_corr=priceWCorel)\n",
    "    file_df = file_df.assign(c_w_ratio=knapsackKapRatio)\n",
    "    file_df = file_df.assign(k=k)\n",
    "    \n",
    "    return file_df"
   ]
  },
  {
   "cell_type": "code",
   "execution_count": 4,
   "metadata": {},
   "outputs": [],
   "source": [
    "# load data from folder, create important columns and concat all files into 1 df\n",
    "def loadDF(dirName):\n",
    "    df = None\n",
    "    \n",
    "    for fileName in os.listdir(dirName):\n",
    "        if df is None:\n",
    "            df = prepareDFCols(dirName, fileName)\n",
    "        else:\n",
    "            df = pd.concat([df, prepareDFCols(dirName, fileName)], ignore_index=True)\n",
    "\n",
    "    # make all ids positive\n",
    "    df['KnapsackId'] = abs(df['KnapsackId'])\n",
    "    return df"
   ]
  },
  {
   "cell_type": "code",
   "execution_count": 5,
   "metadata": {},
   "outputs": [],
   "source": [
    "# definice pouzitelnych promennych\n",
    "ROOT_FOLDER_NAME = './Output/'\n",
    "params_w = ['bal', 'light', 'heavy']\n",
    "params_c = ['uni', 'corr', 'strong']\n",
    "params_m = {\n",
    "    0.01: '001',\n",
    "    0.25: '025',\n",
    "    0.5: '05',\n",
    "    0.8: '08',\n",
    "    1: '1'\n",
    "}\n",
    "\n",
    "greedy = 'Greedy'"
   ]
  },
  {
   "cell_type": "code",
   "execution_count": 6,
   "metadata": {},
   "outputs": [
    {
     "data": {
      "text/html": [
       "<div>\n",
       "<style scoped>\n",
       "    .dataframe tbody tr th:only-of-type {\n",
       "        vertical-align: middle;\n",
       "    }\n",
       "\n",
       "    .dataframe tbody tr th {\n",
       "        vertical-align: top;\n",
       "    }\n",
       "\n",
       "    .dataframe thead th {\n",
       "        text-align: right;\n",
       "    }\n",
       "</style>\n",
       "<table border=\"1\" class=\"dataframe\">\n",
       "  <thead>\n",
       "    <tr style=\"text-align: right;\">\n",
       "      <th></th>\n",
       "      <th>KnapsackId</th>\n",
       "      <th>NumberOfItems</th>\n",
       "      <th>CpuTime</th>\n",
       "      <th>NodesVisited</th>\n",
       "      <th>Error</th>\n",
       "      <th>w_dist</th>\n",
       "      <th>c_w_corr</th>\n",
       "      <th>c_w_ratio</th>\n",
       "      <th>k</th>\n",
       "    </tr>\n",
       "  </thead>\n",
       "  <tbody>\n",
       "    <tr>\n",
       "      <th>0</th>\n",
       "      <td>1</td>\n",
       "      <td>20</td>\n",
       "      <td>0.0</td>\n",
       "      <td>0</td>\n",
       "      <td>0.0</td>\n",
       "      <td>bal</td>\n",
       "      <td>corr</td>\n",
       "      <td>001</td>\n",
       "      <td>1</td>\n",
       "    </tr>\n",
       "    <tr>\n",
       "      <th>1</th>\n",
       "      <td>2</td>\n",
       "      <td>20</td>\n",
       "      <td>0.0</td>\n",
       "      <td>0</td>\n",
       "      <td>0.0</td>\n",
       "      <td>bal</td>\n",
       "      <td>corr</td>\n",
       "      <td>001</td>\n",
       "      <td>1</td>\n",
       "    </tr>\n",
       "    <tr>\n",
       "      <th>2</th>\n",
       "      <td>3</td>\n",
       "      <td>20</td>\n",
       "      <td>0.0</td>\n",
       "      <td>0</td>\n",
       "      <td>0.0</td>\n",
       "      <td>bal</td>\n",
       "      <td>corr</td>\n",
       "      <td>001</td>\n",
       "      <td>1</td>\n",
       "    </tr>\n",
       "    <tr>\n",
       "      <th>3</th>\n",
       "      <td>4</td>\n",
       "      <td>20</td>\n",
       "      <td>0.0</td>\n",
       "      <td>0</td>\n",
       "      <td>NaN</td>\n",
       "      <td>bal</td>\n",
       "      <td>corr</td>\n",
       "      <td>001</td>\n",
       "      <td>1</td>\n",
       "    </tr>\n",
       "    <tr>\n",
       "      <th>4</th>\n",
       "      <td>5</td>\n",
       "      <td>20</td>\n",
       "      <td>0.0</td>\n",
       "      <td>0</td>\n",
       "      <td>0.0</td>\n",
       "      <td>bal</td>\n",
       "      <td>corr</td>\n",
       "      <td>001</td>\n",
       "      <td>1</td>\n",
       "    </tr>\n",
       "  </tbody>\n",
       "</table>\n",
       "</div>"
      ],
      "text/plain": [
       "   KnapsackId  NumberOfItems  CpuTime  NodesVisited  Error w_dist c_w_corr  \\\n",
       "0           1             20      0.0             0    0.0    bal     corr   \n",
       "1           2             20      0.0             0    0.0    bal     corr   \n",
       "2           3             20      0.0             0    0.0    bal     corr   \n",
       "3           4             20      0.0             0    NaN    bal     corr   \n",
       "4           5             20      0.0             0    0.0    bal     corr   \n",
       "\n",
       "  c_w_ratio  k  \n",
       "0       001  1  \n",
       "1       001  1  \n",
       "2       001  1  \n",
       "3       001  1  \n",
       "4       001  1  "
      ]
     },
     "metadata": {},
     "output_type": "display_data"
    }
   ],
   "source": [
    "# ziskani pozadovanych dat\n",
    "df = loadDF(ROOT_FOLDER_NAME + greedy + '/')\n",
    "\n",
    "display(df.head())"
   ]
  },
  {
   "cell_type": "code",
   "execution_count": 7,
   "metadata": {},
   "outputs": [
    {
     "data": {
      "text/html": [
       "<div>\n",
       "<style scoped>\n",
       "    .dataframe tbody tr th:only-of-type {\n",
       "        vertical-align: middle;\n",
       "    }\n",
       "\n",
       "    .dataframe tbody tr th {\n",
       "        vertical-align: top;\n",
       "    }\n",
       "\n",
       "    .dataframe thead th {\n",
       "        text-align: right;\n",
       "    }\n",
       "</style>\n",
       "<table border=\"1\" class=\"dataframe\">\n",
       "  <thead>\n",
       "    <tr style=\"text-align: right;\">\n",
       "      <th></th>\n",
       "      <th>FileName</th>\n",
       "      <th>AlgoName</th>\n",
       "      <th>CpuTime</th>\n",
       "      <th>Date</th>\n",
       "      <th>w_dist</th>\n",
       "      <th>c_w_corr</th>\n",
       "      <th>c_w_ratio</th>\n",
       "      <th>k</th>\n",
       "    </tr>\n",
       "  </thead>\n",
       "  <tbody>\n",
       "    <tr>\n",
       "      <th>216</th>\n",
       "      <td>bal_uni_001</td>\n",
       "      <td>Greedy</td>\n",
       "      <td>0.093750</td>\n",
       "      <td>2020-11-17</td>\n",
       "      <td>bal</td>\n",
       "      <td>uni</td>\n",
       "      <td>001</td>\n",
       "      <td>1</td>\n",
       "    </tr>\n",
       "    <tr>\n",
       "      <th>217</th>\n",
       "      <td>light_strong_08</td>\n",
       "      <td>Greedy</td>\n",
       "      <td>0.078125</td>\n",
       "      <td>2020-11-17</td>\n",
       "      <td>light</td>\n",
       "      <td>strong</td>\n",
       "      <td>08</td>\n",
       "      <td>1</td>\n",
       "    </tr>\n",
       "    <tr>\n",
       "      <th>218</th>\n",
       "      <td>bal_uni_025_098</td>\n",
       "      <td>Greedy</td>\n",
       "      <td>0.078125</td>\n",
       "      <td>2020-11-17</td>\n",
       "      <td>bal</td>\n",
       "      <td>uni</td>\n",
       "      <td>025</td>\n",
       "      <td>098</td>\n",
       "    </tr>\n",
       "    <tr>\n",
       "      <th>219</th>\n",
       "      <td>light_strong_05</td>\n",
       "      <td>Greedy</td>\n",
       "      <td>0.078125</td>\n",
       "      <td>2020-11-17</td>\n",
       "      <td>light</td>\n",
       "      <td>strong</td>\n",
       "      <td>05</td>\n",
       "      <td>1</td>\n",
       "    </tr>\n",
       "    <tr>\n",
       "      <th>220</th>\n",
       "      <td>bal_uni_025_099</td>\n",
       "      <td>Greedy</td>\n",
       "      <td>0.046875</td>\n",
       "      <td>2020-11-17</td>\n",
       "      <td>bal</td>\n",
       "      <td>uni</td>\n",
       "      <td>025</td>\n",
       "      <td>099</td>\n",
       "    </tr>\n",
       "  </tbody>\n",
       "</table>\n",
       "</div>"
      ],
      "text/plain": [
       "            FileName AlgoName   CpuTime        Date w_dist c_w_corr c_w_ratio  \\\n",
       "216      bal_uni_001   Greedy  0.093750  2020-11-17    bal      uni       001   \n",
       "217  light_strong_08   Greedy  0.078125  2020-11-17  light   strong        08   \n",
       "218  bal_uni_025_098   Greedy  0.078125  2020-11-17    bal      uni       025   \n",
       "219  light_strong_05   Greedy  0.078125  2020-11-17  light   strong        05   \n",
       "220  bal_uni_025_099   Greedy  0.046875  2020-11-17    bal      uni       025   \n",
       "\n",
       "       k  \n",
       "216    1  \n",
       "217    1  \n",
       "218  098  \n",
       "219    1  \n",
       "220  099  "
      ]
     },
     "metadata": {},
     "output_type": "display_data"
    }
   ],
   "source": [
    "# load results.csv\n",
    "res = pd.read_csv('results.csv')\n",
    "res = res[res['AlgoName'] == greedy]\n",
    "for index, row in res.iterrows():\n",
    "    weightDist, priceWCorel, knapsackKapRatio, k = parseParamsFromName(row['FileName'])\n",
    "    res.loc[index, 'w_dist'] = weightDist\n",
    "    res.loc[index, 'c_w_corr'] = priceWCorel\n",
    "    res.loc[index, 'c_w_ratio'] = knapsackKapRatio\n",
    "    res.loc[index, 'k'] = k\n",
    "    \n",
    "display(res.head())"
   ]
  },
  {
   "cell_type": "code",
   "execution_count": 8,
   "metadata": {},
   "outputs": [
    {
     "data": {
      "image/png": "[encoded data removed]",
      "text/plain": [
       "<Figure size 1800x1080 with 9 Axes>"
      ]
     },
     "metadata": {},
     "output_type": "display_data"
    }
   ],
   "source": [
    "# plot pilot data\n",
    "columnName = 'Error'\n",
    "i = 331\n",
    "plt.figure(figsize=(25,15))\n",
    "\n",
    "for w in params_w:\n",
    "    for c in params_c:\n",
    "        plt.subplot(i)\n",
    "        for m in params_m.keys():\n",
    "            plt.bar(m,\n",
    "                    df[(df['w_dist'] == w) & (df['c_w_corr'] == c)\n",
    "                        & (df['c_w_ratio'] == params_m[m]) & (df['k'] == 1)][columnName].mean(),\n",
    "                    width = 0.15\n",
    "                   )\n",
    "        plt.title(w + ' - ' + c)\n",
    "        if w is params_w[-1]:\n",
    "            plt.xlabel('m')\n",
    "        if c is params_c[0]:\n",
    "            plt.ylabel('Relativní chyba')\n",
    "        plt.ylim(0, 0.075)\n",
    "        i += 1"
   ]
  },
  {
   "cell_type": "code",
   "execution_count": 9,
   "metadata": {},
   "outputs": [
    {
     "data": {
      "image/png": "[encoded data removed]",
      "text/plain": [
       "<Figure size 720x288 with 2 Axes>"
      ]
     },
     "metadata": {},
     "output_type": "display_data"
    }
   ],
   "source": [
    "# bigger weight\n",
    "columnName = 'Error'\n",
    "i = 121\n",
    "plt.figure(figsize=(10,4))\n",
    "\n",
    "plt.subplot(i)\n",
    "for m in params_m.keys():\n",
    "    plt.bar(m,\n",
    "            df[(df['w_dist'] == 'bal') & (df['c_w_corr'] == 'uni')\n",
    "               & (df['c_w_ratio'] == params_m[m]) & (df['k'] == '099')\n",
    "              ][columnName].mean(),\n",
    "            width = 0.15\n",
    "           )\n",
    "plt.title('bal - uni - bigger max weight')\n",
    "plt.xlabel('m')\n",
    "plt.ylabel('Relativní chyba')\n",
    "plt.ylim(0, 0.07)\n",
    "i += 1\n",
    "\n",
    "# bigger price\n",
    "plt.subplot(i)\n",
    "for m in params_m.keys():\n",
    "    plt.bar(m,\n",
    "            df[(df['w_dist'] == 'bal') & (df['c_w_corr'] == 'uni')\n",
    "               & (df['c_w_ratio'] == params_m[m]) & (df['k'] == '098')\n",
    "              ][columnName].mean(),\n",
    "            width = 0.15\n",
    "           )\n",
    "plt.title('bal - uni - bigger max price')\n",
    "plt.xlabel('m')\n",
    "plt.ylim(0, 0.07)\n",
    "plt.show()"
   ]
  },
  {
   "cell_type": "code",
   "execution_count": 10,
   "metadata": {},
   "outputs": [
    {
     "data": {
      "text/plain": [
       "array([-2., -1.,  0.,  1.,  2.,  3.,  4.])"
      ]
     },
     "execution_count": 10,
     "metadata": {},
     "output_type": "execute_result"
    }
   ],
   "source": [
    "np.linspace(-2, 4, 7)"
   ]
  },
  {
   "cell_type": "code",
   "execution_count": 11,
   "metadata": {},
   "outputs": [
    {
     "data": {
      "text/plain": [
       "(0.0, 0.055)"
      ]
     },
     "execution_count": 11,
     "metadata": {},
     "output_type": "execute_result"
    },
    {
     "data": {
      "image/png": "[encoded data removed]",
      "text/plain": [
       "<Figure size 720x288 with 2 Axes>"
      ]
     },
     "metadata": {},
     "output_type": "display_data"
    }
   ],
   "source": [
    "# big experiment - different k values\n",
    "columnName = 'Error'\n",
    "params_k = {\n",
    "    -2: 'm2',\n",
    "    -1: 'm1',\n",
    "    0: '0',\n",
    "    1: '11',\n",
    "    2: '2',\n",
    "    3: '3',\n",
    "    4: '4'\n",
    "}\n",
    "\n",
    "i = 121\n",
    "plt.figure(figsize=(10,4))\n",
    "\n",
    "# bal - uni\n",
    "plt.subplot(i)\n",
    "for k in params_k.keys():\n",
    "    plt.bar(k,\n",
    "            df[(df['w_dist'] == 'bal') & (df['c_w_corr'] == 'uni')\n",
    "                & (df['c_w_ratio'] == '05') & (df['k'] == params_k[k])\n",
    "               ][columnName].mean(),\n",
    "            width = 0.6\n",
    "           )\n",
    "plt.title('bal - uni - m = 0.5')\n",
    "plt.xlabel('k')\n",
    "plt.ylabel('Relativní chyba')\n",
    "plt.ylim(0, 0.055)\n",
    "i += 1\n",
    "\n",
    "# heavy - strong\n",
    "plt.subplot(i)\n",
    "for k in params_k.keys():\n",
    "    plt.bar(k,\n",
    "            df[(df['w_dist'] == 'heavy') & (df['c_w_corr'] == 'strong')\n",
    "                & (df['c_w_ratio'] == '05') & (df['k'] == params_k[k])\n",
    "               ][columnName].mean(),\n",
    "            width = 0.6\n",
    "           )\n",
    "plt.title('heavy - strong - m = 0.5')\n",
    "plt.xlabel('k')\n",
    "plt.ylim(0, 0.055)"
   ]
  }
 ],
 "metadata": {
  "kernelspec": {
   "display_name": "Python 3",
   "language": "python",
   "name": "python3"
  },
  "language_info": {
   "codemirror_mode": {
    "name": "ipython",
    "version": 3
   },
   "file_extension": ".py",
   "mimetype": "text/x-python",
   "name": "python",
   "nbconvert_exporter": "python",
   "pygments_lexer": "ipython3",
   "version": "3.7.8"
  }
 },
 "nbformat": 4,
 "nbformat_minor": 4
}
