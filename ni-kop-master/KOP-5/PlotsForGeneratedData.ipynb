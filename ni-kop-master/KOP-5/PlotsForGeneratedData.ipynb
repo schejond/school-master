{
 "cells": [
  {
   "cell_type": "markdown",
   "metadata": {},
   "source": [
    "## Notebook for experimenting with BruteForce algorithm"
   ]
  },
  {
   "cell_type": "code",
   "execution_count": 1,
   "metadata": {},
   "outputs": [],
   "source": [
    "import matplotlib.pyplot as plt\n",
    "import matplotlib\n",
    "import pandas as pd\n",
    "import numpy as np\n",
    "from statistics import mean\n",
    "import os\n",
    "\n",
    "%matplotlib inline \n",
    "matplotlib.style.use('ggplot')"
   ]
  },
  {
   "cell_type": "code",
   "execution_count": 2,
   "metadata": {},
   "outputs": [],
   "source": [
    "def parseParamsFromName(fileName):\n",
    "    split = fileName.split(\"_\")\n",
    "    if len(split) is not 5:\n",
    "        raise ValueError('Unexpected fileName: ' + fileName)\n",
    "        \n",
    "    return int(split[1]), int(split[2]), int(split[3]), int(split[4])"
   ]
  },
  {
   "cell_type": "code",
   "execution_count": 3,
   "metadata": {},
   "outputs": [],
   "source": [
    "def prepareDFCols(dirName, fileName):\n",
    "    file_df = pd.read_csv(dirName + fileName)\n",
    "    \n",
    "    n, k, w, id = parseParamsFromName(fileName[:-10])\n",
    "    \n",
    "    file_df = file_df.assign(n=n)\n",
    "    file_df = file_df.assign(k=k)\n",
    "    file_df = file_df.assign(w=w)\n",
    "    file_df = file_df.assign(id=id)\n",
    "    \n",
    "    return file_df"
   ]
  },
  {
   "cell_type": "code",
   "execution_count": 4,
   "metadata": {},
   "outputs": [],
   "source": [
    "# load data from folder, create important columns and concat all files into 1 df\n",
    "def loadDF(dirName):\n",
    "    df = None\n",
    "    \n",
    "    for fileName in os.listdir(dirName):\n",
    "        if df is None:\n",
    "            df = prepareDFCols(dirName, fileName)\n",
    "        else:\n",
    "            df = pd.concat([df, prepareDFCols(dirName, fileName)], ignore_index=True)\n",
    "\n",
    "    return df"
   ]
  },
  {
   "cell_type": "code",
   "execution_count": 5,
   "metadata": {},
   "outputs": [],
   "source": [
    "params_w = [50, 500, 1000, 1500, 2000]\n",
    "params_k = [80, 200, 500, 1000, 1500]\n",
    "params_n = [20, 80, 160, 240]"
   ]
  },
  {
   "cell_type": "code",
   "execution_count": 6,
   "metadata": {},
   "outputs": [
    {
     "data": {
      "text/html": [
       "<div>\n",
       "<style scoped>\n",
       "    .dataframe tbody tr th:only-of-type {\n",
       "        vertical-align: middle;\n",
       "    }\n",
       "\n",
       "    .dataframe tbody tr th {\n",
       "        vertical-align: top;\n",
       "    }\n",
       "\n",
       "    .dataframe thead th {\n",
       "        text-align: right;\n",
       "    }\n",
       "</style>\n",
       "<table border=\"1\" class=\"dataframe\">\n",
       "  <thead>\n",
       "    <tr style=\"text-align: right;\">\n",
       "      <th></th>\n",
       "      <th>FormulaId</th>\n",
       "      <th>NumberOfClauses</th>\n",
       "      <th>CpuTime</th>\n",
       "      <th>RelativeError</th>\n",
       "      <th>n</th>\n",
       "      <th>k</th>\n",
       "      <th>w</th>\n",
       "      <th>id</th>\n",
       "    </tr>\n",
       "  </thead>\n",
       "  <tbody>\n",
       "    <tr>\n",
       "      <th>0</th>\n",
       "      <td>1000_1</td>\n",
       "      <td>20</td>\n",
       "      <td>0.015625</td>\n",
       "      <td>0.0</td>\n",
       "      <td>20</td>\n",
       "      <td>80</td>\n",
       "      <td>1000</td>\n",
       "      <td>1</td>\n",
       "    </tr>\n",
       "    <tr>\n",
       "      <th>1</th>\n",
       "      <td>1000_10</td>\n",
       "      <td>20</td>\n",
       "      <td>0.046875</td>\n",
       "      <td>0.0</td>\n",
       "      <td>20</td>\n",
       "      <td>80</td>\n",
       "      <td>1000</td>\n",
       "      <td>10</td>\n",
       "    </tr>\n",
       "  </tbody>\n",
       "</table>\n",
       "</div>"
      ],
      "text/plain": [
       "  FormulaId  NumberOfClauses   CpuTime  RelativeError   n   k     w  id\n",
       "0    1000_1               20  0.015625            0.0  20  80  1000   1\n",
       "1   1000_10               20  0.046875            0.0  20  80  1000  10"
      ]
     },
     "metadata": {},
     "output_type": "display_data"
    },
    {
     "data": {
      "text/html": [
       "<div>\n",
       "<style scoped>\n",
       "    .dataframe tbody tr th:only-of-type {\n",
       "        vertical-align: middle;\n",
       "    }\n",
       "\n",
       "    .dataframe tbody tr th {\n",
       "        vertical-align: top;\n",
       "    }\n",
       "\n",
       "    .dataframe thead th {\n",
       "        text-align: right;\n",
       "    }\n",
       "</style>\n",
       "<table border=\"1\" class=\"dataframe\">\n",
       "  <thead>\n",
       "    <tr style=\"text-align: right;\">\n",
       "      <th></th>\n",
       "      <th>FormulaId</th>\n",
       "      <th>NumberOfClauses</th>\n",
       "      <th>CpuTime</th>\n",
       "      <th>RelativeError</th>\n",
       "      <th>n</th>\n",
       "      <th>k</th>\n",
       "      <th>w</th>\n",
       "      <th>id</th>\n",
       "    </tr>\n",
       "  </thead>\n",
       "  <tbody>\n",
       "    <tr>\n",
       "      <th>0</th>\n",
       "      <td>0_200_1</td>\n",
       "      <td>20</td>\n",
       "      <td>0.421875</td>\n",
       "      <td>0.0</td>\n",
       "      <td>20</td>\n",
       "      <td>1000</td>\n",
       "      <td>200</td>\n",
       "      <td>1</td>\n",
       "    </tr>\n",
       "    <tr>\n",
       "      <th>1</th>\n",
       "      <td>0_200_10</td>\n",
       "      <td>20</td>\n",
       "      <td>0.343750</td>\n",
       "      <td>0.0</td>\n",
       "      <td>20</td>\n",
       "      <td>1000</td>\n",
       "      <td>200</td>\n",
       "      <td>10</td>\n",
       "    </tr>\n",
       "  </tbody>\n",
       "</table>\n",
       "</div>"
      ],
      "text/plain": [
       "  FormulaId  NumberOfClauses   CpuTime  RelativeError   n     k    w  id\n",
       "0   0_200_1               20  0.421875            0.0  20  1000  200   1\n",
       "1  0_200_10               20  0.343750            0.0  20  1000  200  10"
      ]
     },
     "metadata": {},
     "output_type": "display_data"
    },
    {
     "data": {
      "text/html": [
       "<div>\n",
       "<style scoped>\n",
       "    .dataframe tbody tr th:only-of-type {\n",
       "        vertical-align: middle;\n",
       "    }\n",
       "\n",
       "    .dataframe tbody tr th {\n",
       "        vertical-align: top;\n",
       "    }\n",
       "\n",
       "    .dataframe thead th {\n",
       "        text-align: right;\n",
       "    }\n",
       "</style>\n",
       "<table border=\"1\" class=\"dataframe\">\n",
       "  <thead>\n",
       "    <tr style=\"text-align: right;\">\n",
       "      <th></th>\n",
       "      <th>FormulaId</th>\n",
       "      <th>NumberOfClauses</th>\n",
       "      <th>CpuTime</th>\n",
       "      <th>RelativeError</th>\n",
       "      <th>n</th>\n",
       "      <th>k</th>\n",
       "      <th>w</th>\n",
       "      <th>id</th>\n",
       "    </tr>\n",
       "  </thead>\n",
       "  <tbody>\n",
       "    <tr>\n",
       "      <th>0</th>\n",
       "      <td>0_500_1</td>\n",
       "      <td>160</td>\n",
       "      <td>3.25</td>\n",
       "      <td>0.0</td>\n",
       "      <td>160</td>\n",
       "      <td>400</td>\n",
       "      <td>500</td>\n",
       "      <td>1</td>\n",
       "    </tr>\n",
       "    <tr>\n",
       "      <th>1</th>\n",
       "      <td>0_500_10</td>\n",
       "      <td>160</td>\n",
       "      <td>5.00</td>\n",
       "      <td>0.0</td>\n",
       "      <td>160</td>\n",
       "      <td>400</td>\n",
       "      <td>500</td>\n",
       "      <td>10</td>\n",
       "    </tr>\n",
       "  </tbody>\n",
       "</table>\n",
       "</div>"
      ],
      "text/plain": [
       "  FormulaId  NumberOfClauses  CpuTime  RelativeError    n    k    w  id\n",
       "0   0_500_1              160     3.25            0.0  160  400  500   1\n",
       "1  0_500_10              160     5.00            0.0  160  400  500  10"
      ]
     },
     "metadata": {},
     "output_type": "display_data"
    }
   ],
   "source": [
    "FOLDER_NAME = './Output/SimulatedAnnealing/'\n",
    "# ziskani pozadovanych dat\n",
    "df_weight = loadDF(FOLDER_NAME + 'WeightTest/')\n",
    "df_clauses = loadDF(FOLDER_NAME + 'ClausesTest/')\n",
    "df_var = loadDF(FOLDER_NAME + 'VarTest/')\n",
    "\n",
    "display(df_weight.head(2))\n",
    "display(df_clauses.head(2))\n",
    "display(df_var.head(2))"
   ]
  },
  {
   "cell_type": "code",
   "execution_count": 7,
   "metadata": {},
   "outputs": [
    {
     "data": {
      "image/png": "[encoded data removed]",
      "text/plain": [
       "<Figure size 1800x1080 with 2 Axes>"
      ]
     },
     "metadata": {},
     "output_type": "display_data"
    }
   ],
   "source": [
    "# weight test\n",
    "i = 331\n",
    "plt.figure(figsize=(25,15))\n",
    "columnName = 'RelativeError'\n",
    "plt.subplot(i)\n",
    "for w in params_w:\n",
    "    plt.bar(\n",
    "            w,\n",
    "            df_weight[(df_weight['w'] == w) & (df_weight['k'] == 80)\n",
    "                & (df_weight['n'] == 20)\n",
    "            ][columnName].mean(),\n",
    "            width = 130\n",
    "    )\n",
    "    plt.title(\"n = 20 k = 80\")\n",
    "    plt.xlabel('Váha')\n",
    "    plt.ylabel('Hodnota průměrné relativní chyby')\n",
    "\n",
    "i += 1\n",
    "\n",
    "columnName = 'CpuTime'\n",
    "plt.subplot(i)\n",
    "for w in params_w:\n",
    "    plt.bar(\n",
    "            w,\n",
    "            df_weight[(df_weight['w'] == w) & (df_weight['k'] == 80)\n",
    "                & (df_weight['n'] == 20)\n",
    "            ][columnName].mean(),\n",
    "            width = 130\n",
    "    )\n",
    "    plt.title(\"n = 20 k = 80\")\n",
    "    plt.xlabel('Váha')\n",
    "    plt.ylabel('Průměrný CPU čas v sekundách')"
   ]
  },
  {
   "cell_type": "code",
   "execution_count": 8,
   "metadata": {},
   "outputs": [
    {
     "data": {
      "image/png": "[encoded data removed]",
      "text/plain": [
       "<Figure size 1800x1080 with 2 Axes>"
      ]
     },
     "metadata": {},
     "output_type": "display_data"
    }
   ],
   "source": [
    "# clauses test\n",
    "i = 331\n",
    "plt.figure(figsize=(25,15))\n",
    "columnName = 'RelativeError'\n",
    "plt.subplot(i)\n",
    "for k in params_k:\n",
    "    plt.bar(\n",
    "            k,\n",
    "            df_clauses[(df_clauses['w'] == 200) & (df_clauses['k'] == k)\n",
    "                & (df_clauses['n'] == 20)\n",
    "            ][columnName].mean(),\n",
    "            width = 100\n",
    "    )\n",
    "    plt.title(\"n = 20 w = 200\")\n",
    "    plt.xlabel('Počet klauzulí')\n",
    "    plt.ylabel('Hodnota průměrné relativní chyby')\n",
    "\n",
    "i += 1\n",
    "\n",
    "columnName = 'CpuTime'\n",
    "plt.subplot(i)\n",
    "for k in params_k:\n",
    "    plt.bar(\n",
    "            k,\n",
    "            df_clauses[(df_clauses['w'] == 200) & (df_clauses['k'] == k)\n",
    "                & (df_clauses['n'] == 20)\n",
    "            ][columnName].mean(),\n",
    "            width = 100\n",
    "    )\n",
    "    plt.title(\"n = 20 w = 200\")\n",
    "    plt.xlabel('Počet klauzulí')\n",
    "    plt.ylabel('Průměrný CPU čas v sekundách')"
   ]
  },
  {
   "cell_type": "code",
   "execution_count": 9,
   "metadata": {},
   "outputs": [
    {
     "data": {
      "image/png": "[encoded data removed]",
      "text/plain": [
       "<Figure size 432x288 with 1 Axes>"
      ]
     },
     "metadata": {},
     "output_type": "display_data"
    }
   ],
   "source": [
    "# variable count test\n",
    "columnName = 'CpuTime'\n",
    "for n in params_n:\n",
    "    plt.bar(\n",
    "            n,\n",
    "            df_var[(df_var['w'] == 500) & (df_var['k'] == 400)\n",
    "                & (df_var['n'] == n)\n",
    "            ][columnName].mean(),\n",
    "            width = 10\n",
    "    )\n",
    "    plt.title(\"k = 400 w = 500\")\n",
    "    plt.xlabel('Počet proměnných')\n",
    "    plt.ylabel('Průměrný CPU čas v sekundách')"
   ]
  },
  {
   "cell_type": "code",
   "execution_count": null,
   "metadata": {},
   "outputs": [],
   "source": []
  }
 ],
 "metadata": {
  "kernelspec": {
   "display_name": "Python 3",
   "language": "python",
   "name": "python3"
  },
  "language_info": {
   "codemirror_mode": {
    "name": "ipython",
    "version": 3
   },
   "file_extension": ".py",
   "mimetype": "text/x-python",
   "name": "python",
   "nbconvert_exporter": "python",
   "pygments_lexer": "ipython3",
   "version": "3.7.8"
  }
 },
 "nbformat": 4,
 "nbformat_minor": 4
}
