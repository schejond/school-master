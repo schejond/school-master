{
 "cells": [
  {
   "cell_type": "markdown",
   "metadata": {},
   "source": [
    "## Notebook for plotting results of Simulated Annealing"
   ]
  },
  {
   "cell_type": "code",
   "execution_count": 1,
   "metadata": {},
   "outputs": [],
   "source": [
    "import matplotlib.pyplot as plt\n",
    "import matplotlib\n",
    "import pandas as pd\n",
    "import numpy as np\n",
    "from statistics import mean\n",
    "import os\n",
    "\n",
    "%matplotlib inline \n",
    "matplotlib.style.use('ggplot')"
   ]
  },
  {
   "cell_type": "code",
   "execution_count": 2,
   "metadata": {},
   "outputs": [],
   "source": [
    "def parseParamsFromName(fileName):\n",
    "    folderName = ''\n",
    "    n = ''\n",
    "    for char in fileName:\n",
    "        if not char.isdigit():\n",
    "            folderName += char\n",
    "        else:\n",
    "            n += char\n",
    "    return folderName, int(n)"
   ]
  },
  {
   "cell_type": "code",
   "execution_count": 3,
   "metadata": {},
   "outputs": [],
   "source": [
    "def prepareDFCols(dirName, fileName):\n",
    "    file_df = pd.read_csv(dirName + fileName)\n",
    "    \n",
    "    folderName, n = parseParamsFromName(fileName[:-4])\n",
    "    \n",
    "    file_df = file_df.assign(folderName=folderName)\n",
    "    file_df = file_df.assign(n=n)\n",
    "    \n",
    "    return file_df"
   ]
  },
  {
   "cell_type": "code",
   "execution_count": 4,
   "metadata": {},
   "outputs": [],
   "source": [
    "# load data from folder, create important columns and concat all files into 1 df\n",
    "def loadDF(dirName):\n",
    "    df = None\n",
    "    \n",
    "    for fileName in os.listdir(dirName):\n",
    "        if df is None:\n",
    "            df = prepareDFCols(dirName, fileName)\n",
    "        else:\n",
    "            df = pd.concat([df, prepareDFCols(dirName, fileName)], ignore_index=True)\n",
    "\n",
    "    # make all ids positive\n",
    "    df['KnapsackId'] = abs(df['KnapsackId'])\n",
    "    return df"
   ]
  },
  {
   "cell_type": "code",
   "execution_count": 5,
   "metadata": {},
   "outputs": [],
   "source": [
    "# definice pouzitelnych promennych\n",
    "ROOT_FOLDER_NAME = './Output/'\n",
    "ALGO_NAME = 'SimulatedAnnealing'"
   ]
  },
  {
   "cell_type": "code",
   "execution_count": 6,
   "metadata": {},
   "outputs": [
    {
     "data": {
      "text/html": [
       "<div>\n",
       "<style scoped>\n",
       "    .dataframe tbody tr th:only-of-type {\n",
       "        vertical-align: middle;\n",
       "    }\n",
       "\n",
       "    .dataframe tbody tr th {\n",
       "        vertical-align: top;\n",
       "    }\n",
       "\n",
       "    .dataframe thead th {\n",
       "        text-align: right;\n",
       "    }\n",
       "</style>\n",
       "<table border=\"1\" class=\"dataframe\">\n",
       "  <thead>\n",
       "    <tr style=\"text-align: right;\">\n",
       "      <th></th>\n",
       "      <th>KnapsackId</th>\n",
       "      <th>NumberOfItems</th>\n",
       "      <th>CpuTime</th>\n",
       "      <th>NodesVisited</th>\n",
       "      <th>Error</th>\n",
       "      <th>folderName</th>\n",
       "      <th>n</th>\n",
       "    </tr>\n",
       "  </thead>\n",
       "  <tbody>\n",
       "    <tr>\n",
       "      <th>0</th>\n",
       "      <td>1</td>\n",
       "      <td>10</td>\n",
       "      <td>0.015625</td>\n",
       "      <td>0</td>\n",
       "      <td>1.0</td>\n",
       "      <td>NK</td>\n",
       "      <td>10</td>\n",
       "    </tr>\n",
       "    <tr>\n",
       "      <th>1</th>\n",
       "      <td>2</td>\n",
       "      <td>10</td>\n",
       "      <td>0.015625</td>\n",
       "      <td>0</td>\n",
       "      <td>1.0</td>\n",
       "      <td>NK</td>\n",
       "      <td>10</td>\n",
       "    </tr>\n",
       "    <tr>\n",
       "      <th>2</th>\n",
       "      <td>3</td>\n",
       "      <td>10</td>\n",
       "      <td>0.015625</td>\n",
       "      <td>0</td>\n",
       "      <td>0.0</td>\n",
       "      <td>NK</td>\n",
       "      <td>10</td>\n",
       "    </tr>\n",
       "    <tr>\n",
       "      <th>3</th>\n",
       "      <td>4</td>\n",
       "      <td>10</td>\n",
       "      <td>0.015625</td>\n",
       "      <td>0</td>\n",
       "      <td>0.0</td>\n",
       "      <td>NK</td>\n",
       "      <td>10</td>\n",
       "    </tr>\n",
       "    <tr>\n",
       "      <th>4</th>\n",
       "      <td>5</td>\n",
       "      <td>10</td>\n",
       "      <td>0.015625</td>\n",
       "      <td>0</td>\n",
       "      <td>0.0</td>\n",
       "      <td>NK</td>\n",
       "      <td>10</td>\n",
       "    </tr>\n",
       "  </tbody>\n",
       "</table>\n",
       "</div>"
      ],
      "text/plain": [
       "   KnapsackId  NumberOfItems   CpuTime  NodesVisited  Error folderName   n\n",
       "0           1             10  0.015625             0    1.0         NK  10\n",
       "1           2             10  0.015625             0    1.0         NK  10\n",
       "2           3             10  0.015625             0    0.0         NK  10\n",
       "3           4             10  0.015625             0    0.0         NK  10\n",
       "4           5             10  0.015625             0    0.0         NK  10"
      ]
     },
     "metadata": {},
     "output_type": "display_data"
    }
   ],
   "source": [
    "# ziskani pozadovanych dat\n",
    "df = loadDF(ROOT_FOLDER_NAME + ALGO_NAME + '/')\n",
    "\n",
    "display(df.head())"
   ]
  },
  {
   "cell_type": "code",
   "execution_count": 7,
   "metadata": {},
   "outputs": [
    {
     "data": {
      "text/html": [
       "<div>\n",
       "<style scoped>\n",
       "    .dataframe tbody tr th:only-of-type {\n",
       "        vertical-align: middle;\n",
       "    }\n",
       "\n",
       "    .dataframe tbody tr th {\n",
       "        vertical-align: top;\n",
       "    }\n",
       "\n",
       "    .dataframe thead th {\n",
       "        text-align: right;\n",
       "    }\n",
       "</style>\n",
       "<table border=\"1\" class=\"dataframe\">\n",
       "  <thead>\n",
       "    <tr style=\"text-align: right;\">\n",
       "      <th></th>\n",
       "      <th>FileName</th>\n",
       "      <th>AlgoName</th>\n",
       "      <th>CpuTime</th>\n",
       "      <th>AvgRelativeError</th>\n",
       "      <th>Date</th>\n",
       "      <th>folderName</th>\n",
       "      <th>n</th>\n",
       "    </tr>\n",
       "  </thead>\n",
       "  <tbody>\n",
       "    <tr>\n",
       "      <th>0</th>\n",
       "      <td>NK25</td>\n",
       "      <td>SimulatedAnnealing</td>\n",
       "      <td>45.312500</td>\n",
       "      <td>0.370027</td>\n",
       "      <td>2020-12-12</td>\n",
       "      <td>NK</td>\n",
       "      <td>25.0</td>\n",
       "    </tr>\n",
       "    <tr>\n",
       "      <th>1</th>\n",
       "      <td>NK15</td>\n",
       "      <td>SimulatedAnnealing</td>\n",
       "      <td>26.937500</td>\n",
       "      <td>0.327115</td>\n",
       "      <td>2020-12-12</td>\n",
       "      <td>NK</td>\n",
       "      <td>15.0</td>\n",
       "    </tr>\n",
       "    <tr>\n",
       "      <th>2</th>\n",
       "      <td>NK37</td>\n",
       "      <td>SimulatedAnnealing</td>\n",
       "      <td>74.843750</td>\n",
       "      <td>0.355967</td>\n",
       "      <td>2020-12-12</td>\n",
       "      <td>NK</td>\n",
       "      <td>37.0</td>\n",
       "    </tr>\n",
       "    <tr>\n",
       "      <th>3</th>\n",
       "      <td>NK27</td>\n",
       "      <td>SimulatedAnnealing</td>\n",
       "      <td>41.390625</td>\n",
       "      <td>0.363500</td>\n",
       "      <td>2020-12-12</td>\n",
       "      <td>NK</td>\n",
       "      <td>27.0</td>\n",
       "    </tr>\n",
       "    <tr>\n",
       "      <th>4</th>\n",
       "      <td>NK4</td>\n",
       "      <td>SimulatedAnnealing</td>\n",
       "      <td>2.906250</td>\n",
       "      <td>0.352000</td>\n",
       "      <td>2020-12-12</td>\n",
       "      <td>NK</td>\n",
       "      <td>4.0</td>\n",
       "    </tr>\n",
       "  </tbody>\n",
       "</table>\n",
       "</div>"
      ],
      "text/plain": [
       "  FileName            AlgoName    CpuTime  AvgRelativeError        Date  \\\n",
       "0     NK25  SimulatedAnnealing  45.312500          0.370027  2020-12-12   \n",
       "1     NK15  SimulatedAnnealing  26.937500          0.327115  2020-12-12   \n",
       "2     NK37  SimulatedAnnealing  74.843750          0.355967  2020-12-12   \n",
       "3     NK27  SimulatedAnnealing  41.390625          0.363500  2020-12-12   \n",
       "4      NK4  SimulatedAnnealing   2.906250          0.352000  2020-12-12   \n",
       "\n",
       "  folderName     n  \n",
       "0         NK  25.0  \n",
       "1         NK  15.0  \n",
       "2         NK  37.0  \n",
       "3         NK  27.0  \n",
       "4         NK   4.0  "
      ]
     },
     "metadata": {},
     "output_type": "display_data"
    }
   ],
   "source": [
    "# load results.csv\n",
    "res = pd.read_csv('results.csv')\n",
    "for index, row in res.iterrows():\n",
    "    folderName, n = parseParamsFromName(row['FileName'])\n",
    "    res.loc[index, 'folderName'] = folderName\n",
    "    res.loc[index, 'n'] = n\n",
    "    \n",
    "display(res.head())"
   ]
  },
  {
   "cell_type": "code",
   "execution_count": 8,
   "metadata": {},
   "outputs": [
    {
     "data": {
      "text/plain": [
       "array([25., 15., 37., 27.,  4., 10., 32., 22., 35., 40., 30., 20.])"
      ]
     },
     "execution_count": 8,
     "metadata": {},
     "output_type": "execute_result"
    }
   ],
   "source": [
    "res.n.unique()"
   ]
  },
  {
   "cell_type": "code",
   "execution_count": 9,
   "metadata": {},
   "outputs": [
    {
     "data": {
      "text/plain": [
       "0.306"
      ]
     },
     "execution_count": 9,
     "metadata": {},
     "output_type": "execute_result"
    }
   ],
   "source": [
    "np.asarray(df[(df['n'] == 4) & (df['folderName'] == 'NK')]['Error'], dtype=np.float).mean()"
   ]
  },
  {
   "cell_type": "code",
   "execution_count": 10,
   "metadata": {},
   "outputs": [
    {
     "data": {
      "image/png": "[encoded data removed]",
      "text/plain": [
       "<Figure size 720x288 with 2 Axes>"
      ]
     },
     "metadata": {},
     "output_type": "display_data"
    }
   ],
   "source": [
    "columnName = 'AvgRelativeError'\n",
    "i = 121\n",
    "plt.figure(figsize=(10,4))\n",
    "\n",
    "# ZKC dataset\n",
    "plt.subplot(i)\n",
    "for n in res.n.unique():\n",
    "    if n > 4 and n < 32:\n",
    "        plt.bar(n,\n",
    "                res[(res['n'] == n) & (res['folderName'] == 'ZKC')][columnName],\n",
    "                width = 1.6\n",
    "               )\n",
    "plt.title('Instance z ZKC')\n",
    "plt.xlabel('n')\n",
    "plt.ylabel('Průměrná hodnota relativní chyby')\n",
    "i += 1\n",
    "\n",
    "# NK dataset\n",
    "plt.subplot(i)\n",
    "for n in res.n.unique():\n",
    "    if n > 4 and n < 32:\n",
    "        plt.bar(n,\n",
    "                res[(res['n'] == n) & (res['folderName'] == 'NK')][columnName],\n",
    "                width = 1.6\n",
    "               )\n",
    "plt.title('Instance z NK')\n",
    "plt.xlabel('n')\n",
    "i += 1"
   ]
  },
  {
   "cell_type": "code",
   "execution_count": 11,
   "metadata": {},
   "outputs": [
    {
     "data": {
      "image/png": "[encoded data removed]",
      "text/plain": [
       "<Figure size 720x288 with 2 Axes>"
      ]
     },
     "metadata": {},
     "output_type": "display_data"
    }
   ],
   "source": [
    "columnName = 'CpuTime'\n",
    "i = 121\n",
    "plt.figure(figsize=(10,4))\n",
    "\n",
    "# ZKC dataset\n",
    "plt.subplot(i)\n",
    "for n in res.n.unique():\n",
    "    if n > 4 and n < 32:\n",
    "        plt.bar(n,\n",
    "                res[(res['n'] == n) & (res['folderName'] == 'ZKC')][columnName],\n",
    "                width = 1.6\n",
    "               )\n",
    "plt.title('Instance z ZKC')\n",
    "plt.xlabel('n')\n",
    "plt.ylabel('Průměrná CPU čas v sekundách')\n",
    "i += 1\n",
    "\n",
    "# NK dataset\n",
    "plt.subplot(i)\n",
    "for n in res.n.unique():\n",
    "    if n > 4 and n < 32:\n",
    "        plt.bar(n,\n",
    "                res[(res['n'] == n) & (res['folderName'] == 'NK')][columnName],\n",
    "                width = 1.6\n",
    "               )\n",
    "plt.title('Instance z NK')\n",
    "plt.xlabel('n')\n",
    "i += 1"
   ]
  },
  {
   "cell_type": "code",
   "execution_count": null,
   "metadata": {},
   "outputs": [],
   "source": []
  }
 ],
 "metadata": {
  "kernelspec": {
   "display_name": "Python 3",
   "language": "python",
   "name": "python3"
  },
  "language_info": {
   "codemirror_mode": {
    "name": "ipython",
    "version": 3
   },
   "file_extension": ".py",
   "mimetype": "text/x-python",
   "name": "python",
   "nbconvert_exporter": "python",
   "pygments_lexer": "ipython3",
   "version": "3.7.8"
  }
 },
 "nbformat": 4,
 "nbformat_minor": 4
}
