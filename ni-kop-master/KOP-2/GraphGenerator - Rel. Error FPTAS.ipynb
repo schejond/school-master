{
 "cells": [
  {
   "cell_type": "markdown",
   "metadata": {},
   "source": [
    "## This notebook serves for creating simple plots from generated data"
   ]
  },
  {
   "cell_type": "code",
   "execution_count": 1,
   "metadata": {},
   "outputs": [],
   "source": [
    "import matplotlib.pyplot as plt\n",
    "import matplotlib\n",
    "import pandas as pd\n",
    "import numpy as np\n",
    "from statistics import mean\n",
    "\n",
    "%matplotlib inline \n",
    "matplotlib.style.use('ggplot')"
   ]
  },
  {
   "cell_type": "code",
   "execution_count": 2,
   "metadata": {},
   "outputs": [],
   "source": [
    "# load data from csv and concat them\n",
    "def loadDF(algoName, folderName, nList):  \n",
    "    fileNameTemplate = './Output/{0}_{1}_{2}.csv'\n",
    "\n",
    "    df = None\n",
    "    for n in nList:\n",
    "        if df is None:\n",
    "            df = pd.read_csv(fileNameTemplate.format(folderName, algoName, n))\n",
    "        else:\n",
    "            df = pd.concat([df, pd.read_csv(fileNameTemplate.format(folderName, algoName, n))], ignore_index=True)\n",
    "    \n",
    "    # make all ids positive\n",
    "    df['KnapsackId'] = abs(df['KnapsackId'])\n",
    "    return df"
   ]
  },
  {
   "cell_type": "code",
   "execution_count": 3,
   "metadata": {},
   "outputs": [
    {
     "data": {
      "text/html": [
       "<div>\n",
       "<style scoped>\n",
       "    .dataframe tbody tr th:only-of-type {\n",
       "        vertical-align: middle;\n",
       "    }\n",
       "\n",
       "    .dataframe tbody tr th {\n",
       "        vertical-align: top;\n",
       "    }\n",
       "\n",
       "    .dataframe thead th {\n",
       "        text-align: right;\n",
       "    }\n",
       "</style>\n",
       "<table border=\"1\" class=\"dataframe\">\n",
       "  <thead>\n",
       "    <tr style=\"text-align: right;\">\n",
       "      <th></th>\n",
       "      <th>FileName</th>\n",
       "      <th>AlgoName</th>\n",
       "      <th>CpuTime</th>\n",
       "      <th>Date</th>\n",
       "      <th>n</th>\n",
       "      <th>folder</th>\n",
       "    </tr>\n",
       "  </thead>\n",
       "  <tbody>\n",
       "    <tr>\n",
       "      <th>0</th>\n",
       "      <td>NK27</td>\n",
       "      <td>BruteForce</td>\n",
       "      <td>1372.25</td>\n",
       "      <td>2020-10-25</td>\n",
       "      <td>27</td>\n",
       "      <td>NK</td>\n",
       "    </tr>\n",
       "  </tbody>\n",
       "</table>\n",
       "</div>"
      ],
      "text/plain": [
       "  FileName    AlgoName  CpuTime        Date   n folder\n",
       "0     NK27  BruteForce  1372.25  2020-10-25  27     NK"
      ]
     },
     "metadata": {},
     "output_type": "display_data"
    },
    {
     "data": {
      "text/html": [
       "<div>\n",
       "<style scoped>\n",
       "    .dataframe tbody tr th:only-of-type {\n",
       "        vertical-align: middle;\n",
       "    }\n",
       "\n",
       "    .dataframe tbody tr th {\n",
       "        vertical-align: top;\n",
       "    }\n",
       "\n",
       "    .dataframe thead th {\n",
       "        text-align: right;\n",
       "    }\n",
       "</style>\n",
       "<table border=\"1\" class=\"dataframe\">\n",
       "  <thead>\n",
       "    <tr style=\"text-align: right;\">\n",
       "      <th></th>\n",
       "      <th>FileName</th>\n",
       "      <th>AlgoName</th>\n",
       "      <th>CpuTime</th>\n",
       "      <th>Date</th>\n",
       "      <th>n</th>\n",
       "      <th>folder</th>\n",
       "    </tr>\n",
       "  </thead>\n",
       "  <tbody>\n",
       "    <tr>\n",
       "      <th>241</th>\n",
       "      <td>ZKW25</td>\n",
       "      <td>FPTAS_E0.2</td>\n",
       "      <td>0.0625</td>\n",
       "      <td>2020-10-31</td>\n",
       "      <td>25</td>\n",
       "      <td>ZKW</td>\n",
       "    </tr>\n",
       "  </tbody>\n",
       "</table>\n",
       "</div>"
      ],
      "text/plain": [
       "    FileName    AlgoName  CpuTime        Date   n folder\n",
       "241    ZKW25  FPTAS_E0.2   0.0625  2020-10-31  25    ZKW"
      ]
     },
     "metadata": {},
     "output_type": "display_data"
    }
   ],
   "source": [
    "# load results.csv\n",
    "res = pd.read_csv('results.csv')\n",
    "for index, row in res.iterrows():\n",
    "    if row['FileName'][0] == 'Z':\n",
    "        res.loc[index, 'n'] = row['FileName'][3:]\n",
    "        res.loc[index, 'folder'] = row['FileName'][:3]\n",
    "    else:\n",
    "        res.loc[index, 'n'] = row['FileName'][2:]\n",
    "        res.loc[index, 'folder'] = row['FileName'][:2]\n",
    "\n",
    "display(res.head(1))\n",
    "display(res.tail(1))"
   ]
  },
  {
   "cell_type": "code",
   "execution_count": 4,
   "metadata": {},
   "outputs": [],
   "source": [
    "# definice pouzitelnych promennych\n",
    "NK = 'NK'\n",
    "ZKC = 'ZKC'\n",
    "ZKW = 'ZKW'\n",
    "bruteForce = 'BruteForce'\n",
    "bnb = 'BranchAndBound'\n",
    "greedy = 'Greedy'\n",
    "greedyRedux = 'GreedyRedux'\n",
    "dp = 'DP_PD'\n",
    "epsilon = 0.01 # or 0.05, 0.1, 0.2\n",
    "fptas = 'FPTAS_E' + str(epsilon)"
   ]
  },
  {
   "cell_type": "code",
   "execution_count": 5,
   "metadata": {},
   "outputs": [],
   "source": [
    "# ziskani pozadovanych dat\n",
    "# + lze omezit/rozsirit nacitane nka\n",
    "# vyber zpracovavanou slozku\n",
    "nList = [4,10,15,20,22,25,27,30]#,32]#,35,37,40\n",
    "fn = NK\n",
    "\n",
    "fptas001 = 'FPTAS_E0.01'\n",
    "fptas005 = 'FPTAS_E0.05'\n",
    "fptas01 = 'FPTAS_E0.1'\n",
    "fptas02 = 'FPTAS_E0.2'\n",
    "\n",
    "df_fptas001 = loadDF(fptas001, fn, nList)\n",
    "df_fptas005 = loadDF(fptas005, fn, nList)\n",
    "df_fptas01 = loadDF(fptas01, fn, nList)\n",
    "df_fptas02 = loadDF(fptas02, fn, nList)"
   ]
  },
  {
   "cell_type": "code",
   "execution_count": 6,
   "metadata": {},
   "outputs": [],
   "source": [
    "# odebrani nejspis neuzitecnych sloupcu Item_0 az Item_29\n",
    "for i in range(30):\n",
    "    df_fptas001.drop(columns='Item_' + str(i), inplace=True)\n",
    "    df_fptas005.drop(columns='Item_' + str(i), inplace=True)\n",
    "    df_fptas01.drop(columns='Item_' + str(i), inplace=True)\n",
    "    df_fptas02.drop(columns='Item_' + str(i), inplace=True)"
   ]
  },
  {
   "cell_type": "code",
   "execution_count": 7,
   "metadata": {},
   "outputs": [],
   "source": [
    "def getFinalTable(resCsv, df, folderName, algoName):\n",
    "    df_final = pd.DataFrame(columns=['n', 'Avg_Err', 'Avg_Cpu_Time', 'Max_Cpu', 'Max_Err', 'Total_CPU'])\n",
    "#     if 'Error' not in df.columns:\n",
    "#         df['Error'] = 0\n",
    "    for n in df.NumberOfItems.unique():\n",
    "        row_data = [\n",
    "            n,\n",
    "            df[df.NumberOfItems == n]['Error'].mean(),\n",
    "            resCsv.loc[(resCsv['n'] == str(n)) & (resCsv['AlgoName'] == algoName) & (resCsv['folder'] == folderName)].iloc[0].CpuTime/len(df[df.NumberOfItems == n]),\n",
    "            df[df.NumberOfItems == n]['CpuTime'].max(),\n",
    "            df[df.NumberOfItems == n]['Error'].max(),\n",
    "            resCsv.loc[(resCsv['n'] == str(n)) & (resCsv['AlgoName'] == algoName) & (resCsv['folder'] == folderName)].iloc[0].CpuTime\n",
    "        ]\n",
    "        df_final.loc[len(df_final)] = row_data\n",
    "    return df_final"
   ]
  },
  {
   "cell_type": "code",
   "execution_count": 8,
   "metadata": {},
   "outputs": [],
   "source": [
    "df_fptas001_fin = getFinalTable(res, df_fptas001, fn, fptas001)\n",
    "df_fptas005_fin = getFinalTable(res, df_fptas005, fn, fptas005)\n",
    "df_fptas01_fin = getFinalTable(res, df_fptas01, fn, fptas01)\n",
    "df_fptas02_fin = getFinalTable(res, df_fptas02, fn, fptas02)"
   ]
  },
  {
   "cell_type": "code",
   "execution_count": 9,
   "metadata": {},
   "outputs": [
    {
     "data": {
      "image/png": "[encoded data removed]",
      "text/plain": [
       "<Figure size 432x288 with 1 Axes>"
      ]
     },
     "metadata": {},
     "output_type": "display_data"
    }
   ],
   "source": [
    "# graf pro porovnani prumerne relativni chyby mezi fptas s ruznymi hodnotami epsilon\n",
    "plt.bar(df_fptas001_fin['n']-0.5, df_fptas001_fin['Avg_Err'], align='center', color='r')\n",
    "plt.bar(df_fptas005_fin['n'], df_fptas005_fin['Avg_Err'], align='center', color='g')\n",
    "plt.bar(df_fptas01_fin['n']+0.5, df_fptas01_fin['Avg_Err'], align='center', color='b')\n",
    "plt.bar(df_fptas02_fin['n']+1, df_fptas02_fin['Avg_Err'], align='center', color='y')\n",
    "plt.title('Průměrná relativní chyba v ' + fn)\n",
    "plt.xlabel('n')\n",
    "plt.ylabel('Prům. relativní chyba')\n",
    "plt.show()"
   ]
  },
  {
   "cell_type": "code",
   "execution_count": 10,
   "metadata": {},
   "outputs": [
    {
     "data": {
      "image/png": "[encoded data removed]",
      "text/plain": [
       "<Figure size 432x288 with 1 Axes>"
      ]
     },
     "metadata": {},
     "output_type": "display_data"
    }
   ],
   "source": [
    "# graf pro porovnani maximalni relativni chyby mezi fptas s ruznymi hodnotami epsilon\n",
    "plt.bar(df_fptas001_fin['n']-0.5, df_fptas001_fin['Avg_Err'], align='center', color='r')\n",
    "plt.bar(df_fptas005_fin['n'], df_fptas005_fin['Avg_Err'], align='center', color='g')\n",
    "plt.bar(df_fptas01_fin['n']+0.5, df_fptas01_fin['Avg_Err'], align='center', color='b')\n",
    "plt.bar(df_fptas02_fin['n']+1, df_fptas02_fin['Avg_Err'], align='center', color='y')\n",
    "plt.title('Maximální hodnota relativní chyby v ' + fn)\n",
    "plt.xlabel('n')\n",
    "plt.ylabel('Maximální relativní chyba')\n",
    "plt.show()"
   ]
  },
  {
   "cell_type": "code",
   "execution_count": null,
   "metadata": {},
   "outputs": [],
   "source": []
  }
 ],
 "metadata": {
  "kernelspec": {
   "display_name": "Python 3",
   "language": "python",
   "name": "python3"
  },
  "language_info": {
   "codemirror_mode": {
    "name": "ipython",
    "version": 3
   },
   "file_extension": ".py",
   "mimetype": "text/x-python",
   "name": "python",
   "nbconvert_exporter": "python",
   "pygments_lexer": "ipython3",
   "version": "3.7.8"
  }
 },
 "nbformat": 4,
 "nbformat_minor": 4
}
