{
 "cells": [
  {
   "cell_type": "markdown",
   "metadata": {},
   "source": [
    "## This notebook serves for creating simple plots from generated data"
   ]
  },
  {
   "cell_type": "code",
   "execution_count": 1,
   "metadata": {},
   "outputs": [],
   "source": [
    "import matplotlib.pyplot as plt\n",
    "import matplotlib\n",
    "import pandas as pd\n",
    "import numpy as np\n",
    "from statistics import mean\n",
    "\n",
    "%matplotlib inline \n",
    "matplotlib.style.use('ggplot')"
   ]
  },
  {
   "cell_type": "code",
   "execution_count": 2,
   "metadata": {},
   "outputs": [],
   "source": [
    "# load data from csv and concat them\n",
    "def loadDF(algoName, folderName, nList):  \n",
    "    fileNameTemplate = './Output/{0}_{1}_{2}.csv'\n",
    "\n",
    "    df = None\n",
    "    for n in nList:\n",
    "        if df is None:\n",
    "            df = pd.read_csv(fileNameTemplate.format(folderName, algoName, n))\n",
    "        else:\n",
    "            df = pd.concat([df, pd.read_csv(fileNameTemplate.format(folderName, algoName, n))], ignore_index=True)\n",
    "    \n",
    "    # make all ids positive\n",
    "    df['KnapsackId'] = abs(df['KnapsackId'])\n",
    "    return df"
   ]
  },
  {
   "cell_type": "code",
   "execution_count": 3,
   "metadata": {},
   "outputs": [
    {
     "data": {
      "text/html": [
       "<div>\n",
       "<style scoped>\n",
       "    .dataframe tbody tr th:only-of-type {\n",
       "        vertical-align: middle;\n",
       "    }\n",
       "\n",
       "    .dataframe tbody tr th {\n",
       "        vertical-align: top;\n",
       "    }\n",
       "\n",
       "    .dataframe thead th {\n",
       "        text-align: right;\n",
       "    }\n",
       "</style>\n",
       "<table border=\"1\" class=\"dataframe\">\n",
       "  <thead>\n",
       "    <tr style=\"text-align: right;\">\n",
       "      <th></th>\n",
       "      <th>FileName</th>\n",
       "      <th>AlgoName</th>\n",
       "      <th>CpuTime</th>\n",
       "      <th>Date</th>\n",
       "      <th>n</th>\n",
       "      <th>folder</th>\n",
       "    </tr>\n",
       "  </thead>\n",
       "  <tbody>\n",
       "    <tr>\n",
       "      <th>0</th>\n",
       "      <td>NK27</td>\n",
       "      <td>BruteForce</td>\n",
       "      <td>1372.25000</td>\n",
       "      <td>2020-10-25</td>\n",
       "      <td>27</td>\n",
       "      <td>NK</td>\n",
       "    </tr>\n",
       "    <tr>\n",
       "      <th>1</th>\n",
       "      <td>NK4</td>\n",
       "      <td>BruteForce</td>\n",
       "      <td>0.28125</td>\n",
       "      <td>2020-10-25</td>\n",
       "      <td>4</td>\n",
       "      <td>NK</td>\n",
       "    </tr>\n",
       "  </tbody>\n",
       "</table>\n",
       "</div>"
      ],
      "text/plain": [
       "  FileName    AlgoName     CpuTime        Date   n folder\n",
       "0     NK27  BruteForce  1372.25000  2020-10-25  27     NK\n",
       "1      NK4  BruteForce     0.28125  2020-10-25   4     NK"
      ]
     },
     "metadata": {},
     "output_type": "display_data"
    },
    {
     "data": {
      "text/html": [
       "<div>\n",
       "<style scoped>\n",
       "    .dataframe tbody tr th:only-of-type {\n",
       "        vertical-align: middle;\n",
       "    }\n",
       "\n",
       "    .dataframe tbody tr th {\n",
       "        vertical-align: top;\n",
       "    }\n",
       "\n",
       "    .dataframe thead th {\n",
       "        text-align: right;\n",
       "    }\n",
       "</style>\n",
       "<table border=\"1\" class=\"dataframe\">\n",
       "  <thead>\n",
       "    <tr style=\"text-align: right;\">\n",
       "      <th></th>\n",
       "      <th>FileName</th>\n",
       "      <th>AlgoName</th>\n",
       "      <th>CpuTime</th>\n",
       "      <th>Date</th>\n",
       "      <th>n</th>\n",
       "      <th>folder</th>\n",
       "    </tr>\n",
       "  </thead>\n",
       "  <tbody>\n",
       "    <tr>\n",
       "      <th>240</th>\n",
       "      <td>ZKW15</td>\n",
       "      <td>FPTAS_E0.2</td>\n",
       "      <td>0.171875</td>\n",
       "      <td>2020-10-31</td>\n",
       "      <td>15</td>\n",
       "      <td>ZKW</td>\n",
       "    </tr>\n",
       "    <tr>\n",
       "      <th>241</th>\n",
       "      <td>ZKW25</td>\n",
       "      <td>FPTAS_E0.2</td>\n",
       "      <td>0.062500</td>\n",
       "      <td>2020-10-31</td>\n",
       "      <td>25</td>\n",
       "      <td>ZKW</td>\n",
       "    </tr>\n",
       "  </tbody>\n",
       "</table>\n",
       "</div>"
      ],
      "text/plain": [
       "    FileName    AlgoName   CpuTime        Date   n folder\n",
       "240    ZKW15  FPTAS_E0.2  0.171875  2020-10-31  15    ZKW\n",
       "241    ZKW25  FPTAS_E0.2  0.062500  2020-10-31  25    ZKW"
      ]
     },
     "metadata": {},
     "output_type": "display_data"
    }
   ],
   "source": [
    "# load results.csv\n",
    "res = pd.read_csv('results.csv')\n",
    "for index, row in res.iterrows():\n",
    "    if row['FileName'][0] == 'Z':\n",
    "        res.loc[index, 'n'] = row['FileName'][3:]\n",
    "        res.loc[index, 'folder'] = row['FileName'][:3]\n",
    "    else:\n",
    "        res.loc[index, 'n'] = row['FileName'][2:]\n",
    "        res.loc[index, 'folder'] = row['FileName'][:2]\n",
    "\n",
    "display(res.head(2))\n",
    "display(res.tail(2))"
   ]
  },
  {
   "cell_type": "code",
   "execution_count": 4,
   "metadata": {},
   "outputs": [],
   "source": [
    "# definice pouzitelnych promennych\n",
    "NK = 'NK'\n",
    "ZKC = 'ZKC'\n",
    "ZKW = 'ZKW'\n",
    "bruteForce = 'BruteForce'\n",
    "bnb = 'BranchAndBound'\n",
    "greedy = 'Greedy'\n",
    "greedyRedux = 'GreedyRedux'\n",
    "dp = 'DP_PD'\n",
    "epsilon = 0.01 # or 0.05, 0.1, 0.2\n",
    "fptas = 'FPTAS_E' + str(epsilon)"
   ]
  },
  {
   "cell_type": "code",
   "execution_count": 5,
   "metadata": {},
   "outputs": [
    {
     "data": {
      "text/html": [
       "<div>\n",
       "<style scoped>\n",
       "    .dataframe tbody tr th:only-of-type {\n",
       "        vertical-align: middle;\n",
       "    }\n",
       "\n",
       "    .dataframe tbody tr th {\n",
       "        vertical-align: top;\n",
       "    }\n",
       "\n",
       "    .dataframe thead th {\n",
       "        text-align: right;\n",
       "    }\n",
       "</style>\n",
       "<table border=\"1\" class=\"dataframe\">\n",
       "  <thead>\n",
       "    <tr style=\"text-align: right;\">\n",
       "      <th></th>\n",
       "      <th>KnapsackId</th>\n",
       "      <th>NumberOfItems</th>\n",
       "      <th>CpuTime</th>\n",
       "      <th>NodesVisited</th>\n",
       "      <th>Item_0</th>\n",
       "      <th>Item_1</th>\n",
       "      <th>Item_2</th>\n",
       "      <th>Item_3</th>\n",
       "      <th>Item_4</th>\n",
       "      <th>Item_5</th>\n",
       "      <th>...</th>\n",
       "      <th>Item_20</th>\n",
       "      <th>Item_21</th>\n",
       "      <th>Item_22</th>\n",
       "      <th>Item_23</th>\n",
       "      <th>Item_24</th>\n",
       "      <th>Item_25</th>\n",
       "      <th>Item_26</th>\n",
       "      <th>Item_27</th>\n",
       "      <th>Item_28</th>\n",
       "      <th>Item_29</th>\n",
       "    </tr>\n",
       "  </thead>\n",
       "  <tbody>\n",
       "    <tr>\n",
       "      <th>0</th>\n",
       "      <td>1</td>\n",
       "      <td>4</td>\n",
       "      <td>0.0</td>\n",
       "      <td>3</td>\n",
       "      <td>False</td>\n",
       "      <td>True</td>\n",
       "      <td>False</td>\n",
       "      <td>False</td>\n",
       "      <td>NaN</td>\n",
       "      <td>NaN</td>\n",
       "      <td>...</td>\n",
       "      <td>NaN</td>\n",
       "      <td>NaN</td>\n",
       "      <td>NaN</td>\n",
       "      <td>NaN</td>\n",
       "      <td>NaN</td>\n",
       "      <td>NaN</td>\n",
       "      <td>NaN</td>\n",
       "      <td>NaN</td>\n",
       "      <td>NaN</td>\n",
       "      <td>NaN</td>\n",
       "    </tr>\n",
       "    <tr>\n",
       "      <th>1</th>\n",
       "      <td>2</td>\n",
       "      <td>4</td>\n",
       "      <td>0.0</td>\n",
       "      <td>6</td>\n",
       "      <td>False</td>\n",
       "      <td>True</td>\n",
       "      <td>True</td>\n",
       "      <td>False</td>\n",
       "      <td>NaN</td>\n",
       "      <td>NaN</td>\n",
       "      <td>...</td>\n",
       "      <td>NaN</td>\n",
       "      <td>NaN</td>\n",
       "      <td>NaN</td>\n",
       "      <td>NaN</td>\n",
       "      <td>NaN</td>\n",
       "      <td>NaN</td>\n",
       "      <td>NaN</td>\n",
       "      <td>NaN</td>\n",
       "      <td>NaN</td>\n",
       "      <td>NaN</td>\n",
       "    </tr>\n",
       "  </tbody>\n",
       "</table>\n",
       "<p>2 rows × 34 columns</p>\n",
       "</div>"
      ],
      "text/plain": [
       "   KnapsackId  NumberOfItems  CpuTime  NodesVisited  Item_0  Item_1  Item_2  \\\n",
       "0           1              4      0.0             3   False    True   False   \n",
       "1           2              4      0.0             6   False    True    True   \n",
       "\n",
       "   Item_3 Item_4 Item_5  ... Item_20 Item_21 Item_22 Item_23 Item_24 Item_25  \\\n",
       "0   False    NaN    NaN  ...     NaN     NaN     NaN     NaN     NaN     NaN   \n",
       "1   False    NaN    NaN  ...     NaN     NaN     NaN     NaN     NaN     NaN   \n",
       "\n",
       "  Item_26 Item_27 Item_28 Item_29  \n",
       "0     NaN     NaN     NaN     NaN  \n",
       "1     NaN     NaN     NaN     NaN  \n",
       "\n",
       "[2 rows x 34 columns]"
      ]
     },
     "metadata": {},
     "output_type": "display_data"
    },
    {
     "data": {
      "text/html": [
       "<div>\n",
       "<style scoped>\n",
       "    .dataframe tbody tr th:only-of-type {\n",
       "        vertical-align: middle;\n",
       "    }\n",
       "\n",
       "    .dataframe tbody tr th {\n",
       "        vertical-align: top;\n",
       "    }\n",
       "\n",
       "    .dataframe thead th {\n",
       "        text-align: right;\n",
       "    }\n",
       "</style>\n",
       "<table border=\"1\" class=\"dataframe\">\n",
       "  <thead>\n",
       "    <tr style=\"text-align: right;\">\n",
       "      <th></th>\n",
       "      <th>KnapsackId</th>\n",
       "      <th>NumberOfItems</th>\n",
       "      <th>CpuTime</th>\n",
       "      <th>NodesVisited</th>\n",
       "      <th>Error</th>\n",
       "      <th>Item_0</th>\n",
       "      <th>Item_1</th>\n",
       "      <th>Item_2</th>\n",
       "      <th>Item_3</th>\n",
       "      <th>Item_4</th>\n",
       "      <th>...</th>\n",
       "      <th>Item_20</th>\n",
       "      <th>Item_21</th>\n",
       "      <th>Item_22</th>\n",
       "      <th>Item_23</th>\n",
       "      <th>Item_24</th>\n",
       "      <th>Item_25</th>\n",
       "      <th>Item_26</th>\n",
       "      <th>Item_27</th>\n",
       "      <th>Item_28</th>\n",
       "      <th>Item_29</th>\n",
       "    </tr>\n",
       "  </thead>\n",
       "  <tbody>\n",
       "    <tr>\n",
       "      <th>0</th>\n",
       "      <td>1</td>\n",
       "      <td>4</td>\n",
       "      <td>0.0</td>\n",
       "      <td>0</td>\n",
       "      <td>0.0</td>\n",
       "      <td>False</td>\n",
       "      <td>True</td>\n",
       "      <td>False</td>\n",
       "      <td>False</td>\n",
       "      <td>NaN</td>\n",
       "      <td>...</td>\n",
       "      <td>NaN</td>\n",
       "      <td>NaN</td>\n",
       "      <td>NaN</td>\n",
       "      <td>NaN</td>\n",
       "      <td>NaN</td>\n",
       "      <td>NaN</td>\n",
       "      <td>NaN</td>\n",
       "      <td>NaN</td>\n",
       "      <td>NaN</td>\n",
       "      <td>NaN</td>\n",
       "    </tr>\n",
       "    <tr>\n",
       "      <th>1</th>\n",
       "      <td>2</td>\n",
       "      <td>4</td>\n",
       "      <td>0.0</td>\n",
       "      <td>0</td>\n",
       "      <td>0.0</td>\n",
       "      <td>False</td>\n",
       "      <td>True</td>\n",
       "      <td>True</td>\n",
       "      <td>False</td>\n",
       "      <td>NaN</td>\n",
       "      <td>...</td>\n",
       "      <td>NaN</td>\n",
       "      <td>NaN</td>\n",
       "      <td>NaN</td>\n",
       "      <td>NaN</td>\n",
       "      <td>NaN</td>\n",
       "      <td>NaN</td>\n",
       "      <td>NaN</td>\n",
       "      <td>NaN</td>\n",
       "      <td>NaN</td>\n",
       "      <td>NaN</td>\n",
       "    </tr>\n",
       "  </tbody>\n",
       "</table>\n",
       "<p>2 rows × 35 columns</p>\n",
       "</div>"
      ],
      "text/plain": [
       "   KnapsackId  NumberOfItems  CpuTime  NodesVisited  Error  Item_0  Item_1  \\\n",
       "0           1              4      0.0             0    0.0   False    True   \n",
       "1           2              4      0.0             0    0.0   False    True   \n",
       "\n",
       "   Item_2  Item_3 Item_4  ... Item_20 Item_21 Item_22 Item_23 Item_24 Item_25  \\\n",
       "0   False   False    NaN  ...     NaN     NaN     NaN     NaN     NaN     NaN   \n",
       "1    True   False    NaN  ...     NaN     NaN     NaN     NaN     NaN     NaN   \n",
       "\n",
       "  Item_26 Item_27 Item_28 Item_29  \n",
       "0     NaN     NaN     NaN     NaN  \n",
       "1     NaN     NaN     NaN     NaN  \n",
       "\n",
       "[2 rows x 35 columns]"
      ]
     },
     "metadata": {},
     "output_type": "display_data"
    }
   ],
   "source": [
    "# ziskani pozadovanych dat\n",
    "# + lze omezit/rozsirit nacitane nka\n",
    "# vyber zpracovavanou slozku\n",
    "nList = [4,10,15,20,22,25,27,30]#,32]#,35,37,40\n",
    "fn = NK\n",
    "\n",
    "df_bf = loadDF(bruteForce, fn, nList)\n",
    "df_bnb = loadDF(bnb, fn, nList)\n",
    "df_gr = loadDF(greedy, fn, nList)\n",
    "df_grx = loadDF(greedyRedux, fn, nList)\n",
    "df_dp = loadDF(dp, fn, nList)\n",
    "df_fptas = loadDF(fptas, fn, nList)\n",
    "\n",
    "display(df_bf.head(2))\n",
    "display(df_fptas.head(2))"
   ]
  },
  {
   "cell_type": "code",
   "execution_count": 6,
   "metadata": {},
   "outputs": [
    {
     "data": {
      "text/html": [
       "<div>\n",
       "<style scoped>\n",
       "    .dataframe tbody tr th:only-of-type {\n",
       "        vertical-align: middle;\n",
       "    }\n",
       "\n",
       "    .dataframe tbody tr th {\n",
       "        vertical-align: top;\n",
       "    }\n",
       "\n",
       "    .dataframe thead th {\n",
       "        text-align: right;\n",
       "    }\n",
       "</style>\n",
       "<table border=\"1\" class=\"dataframe\">\n",
       "  <thead>\n",
       "    <tr style=\"text-align: right;\">\n",
       "      <th></th>\n",
       "      <th>KnapsackId</th>\n",
       "      <th>NumberOfItems</th>\n",
       "      <th>CpuTime</th>\n",
       "      <th>NodesVisited</th>\n",
       "    </tr>\n",
       "  </thead>\n",
       "  <tbody>\n",
       "    <tr>\n",
       "      <th>0</th>\n",
       "      <td>1</td>\n",
       "      <td>4</td>\n",
       "      <td>0.0</td>\n",
       "      <td>3</td>\n",
       "    </tr>\n",
       "    <tr>\n",
       "      <th>1</th>\n",
       "      <td>2</td>\n",
       "      <td>4</td>\n",
       "      <td>0.0</td>\n",
       "      <td>6</td>\n",
       "    </tr>\n",
       "  </tbody>\n",
       "</table>\n",
       "</div>"
      ],
      "text/plain": [
       "   KnapsackId  NumberOfItems  CpuTime  NodesVisited\n",
       "0           1              4      0.0             3\n",
       "1           2              4      0.0             6"
      ]
     },
     "metadata": {},
     "output_type": "display_data"
    },
    {
     "data": {
      "text/html": [
       "<div>\n",
       "<style scoped>\n",
       "    .dataframe tbody tr th:only-of-type {\n",
       "        vertical-align: middle;\n",
       "    }\n",
       "\n",
       "    .dataframe tbody tr th {\n",
       "        vertical-align: top;\n",
       "    }\n",
       "\n",
       "    .dataframe thead th {\n",
       "        text-align: right;\n",
       "    }\n",
       "</style>\n",
       "<table border=\"1\" class=\"dataframe\">\n",
       "  <thead>\n",
       "    <tr style=\"text-align: right;\">\n",
       "      <th></th>\n",
       "      <th>KnapsackId</th>\n",
       "      <th>NumberOfItems</th>\n",
       "      <th>CpuTime</th>\n",
       "      <th>NodesVisited</th>\n",
       "      <th>Error</th>\n",
       "    </tr>\n",
       "  </thead>\n",
       "  <tbody>\n",
       "    <tr>\n",
       "      <th>0</th>\n",
       "      <td>1</td>\n",
       "      <td>4</td>\n",
       "      <td>0.0</td>\n",
       "      <td>0</td>\n",
       "      <td>0.0</td>\n",
       "    </tr>\n",
       "    <tr>\n",
       "      <th>1</th>\n",
       "      <td>2</td>\n",
       "      <td>4</td>\n",
       "      <td>0.0</td>\n",
       "      <td>0</td>\n",
       "      <td>0.0</td>\n",
       "    </tr>\n",
       "  </tbody>\n",
       "</table>\n",
       "</div>"
      ],
      "text/plain": [
       "   KnapsackId  NumberOfItems  CpuTime  NodesVisited  Error\n",
       "0           1              4      0.0             0    0.0\n",
       "1           2              4      0.0             0    0.0"
      ]
     },
     "metadata": {},
     "output_type": "display_data"
    }
   ],
   "source": [
    "# odebrani nejspis neuzitecnych sloupcu Item_0 az Item_29\n",
    "for i in range(30):\n",
    "    df_bf.drop(columns='Item_' + str(i), inplace=True)\n",
    "    df_bnb.drop(columns='Item_' + str(i), inplace=True)\n",
    "    df_gr.drop(columns='Item_' + str(i), inplace=True)\n",
    "    df_grx.drop(columns='Item_' + str(i), inplace=True)\n",
    "    df_dp.drop(columns='Item_' + str(i), inplace=True)\n",
    "    df_fptas.drop(columns='Item_' + str(i), inplace=True)\n",
    "display(df_bf.head(2))\n",
    "display(df_fptas.head(2))"
   ]
  },
  {
   "cell_type": "code",
   "execution_count": 7,
   "metadata": {},
   "outputs": [],
   "source": [
    "def getFinalTable(resCsv, df, folderName, algoName):\n",
    "    df_final = pd.DataFrame(columns=['n', 'Avg_Err', 'Avg_Cpu_Time', 'Max_Cpu', 'Max_Err', 'Total_CPU'])\n",
    "    if 'Error' not in df.columns:\n",
    "        df['Error'] = 0\n",
    "    for n in df.NumberOfItems.unique():\n",
    "        row_data = [\n",
    "            n,\n",
    "            df[df.NumberOfItems == n]['Error'].mean(),\n",
    "            resCsv.loc[(resCsv['n'] == str(n)) & (resCsv['AlgoName'] == algoName) & (resCsv['folder'] == folderName)].iloc[0].CpuTime/len(df[df.NumberOfItems == n]),\n",
    "            df[df.NumberOfItems == n]['CpuTime'].max(),\n",
    "            df[df.NumberOfItems == n]['Error'].max(),\n",
    "            resCsv.loc[(resCsv['n'] == str(n)) & (resCsv['AlgoName'] == algoName) & (resCsv['folder'] == folderName)].iloc[0].CpuTime\n",
    "        ]\n",
    "        df_final.loc[len(df_final)] = row_data\n",
    "    return df_final"
   ]
  },
  {
   "cell_type": "code",
   "execution_count": 8,
   "metadata": {},
   "outputs": [
    {
     "data": {
      "text/html": [
       "<div>\n",
       "<style scoped>\n",
       "    .dataframe tbody tr th:only-of-type {\n",
       "        vertical-align: middle;\n",
       "    }\n",
       "\n",
       "    .dataframe tbody tr th {\n",
       "        vertical-align: top;\n",
       "    }\n",
       "\n",
       "    .dataframe thead th {\n",
       "        text-align: right;\n",
       "    }\n",
       "</style>\n",
       "<table border=\"1\" class=\"dataframe\">\n",
       "  <thead>\n",
       "    <tr style=\"text-align: right;\">\n",
       "      <th></th>\n",
       "      <th>n</th>\n",
       "      <th>Avg_Err</th>\n",
       "      <th>Avg_Cpu_Time</th>\n",
       "      <th>Max_Cpu</th>\n",
       "      <th>Max_Err</th>\n",
       "      <th>Total_CPU</th>\n",
       "    </tr>\n",
       "  </thead>\n",
       "  <tbody>\n",
       "    <tr>\n",
       "      <th>0</th>\n",
       "      <td>4.0</td>\n",
       "      <td>0.0</td>\n",
       "      <td>0.000562</td>\n",
       "      <td>0.0</td>\n",
       "      <td>0.0</td>\n",
       "      <td>0.281250</td>\n",
       "    </tr>\n",
       "    <tr>\n",
       "      <th>1</th>\n",
       "      <td>10.0</td>\n",
       "      <td>0.0</td>\n",
       "      <td>0.000719</td>\n",
       "      <td>0.0</td>\n",
       "      <td>0.0</td>\n",
       "      <td>0.359375</td>\n",
       "    </tr>\n",
       "  </tbody>\n",
       "</table>\n",
       "</div>"
      ],
      "text/plain": [
       "      n  Avg_Err  Avg_Cpu_Time  Max_Cpu  Max_Err  Total_CPU\n",
       "0   4.0      0.0      0.000562      0.0      0.0   0.281250\n",
       "1  10.0      0.0      0.000719      0.0      0.0   0.359375"
      ]
     },
     "metadata": {},
     "output_type": "display_data"
    },
    {
     "data": {
      "text/html": [
       "<div>\n",
       "<style scoped>\n",
       "    .dataframe tbody tr th:only-of-type {\n",
       "        vertical-align: middle;\n",
       "    }\n",
       "\n",
       "    .dataframe tbody tr th {\n",
       "        vertical-align: top;\n",
       "    }\n",
       "\n",
       "    .dataframe thead th {\n",
       "        text-align: right;\n",
       "    }\n",
       "</style>\n",
       "<table border=\"1\" class=\"dataframe\">\n",
       "  <thead>\n",
       "    <tr style=\"text-align: right;\">\n",
       "      <th></th>\n",
       "      <th>n</th>\n",
       "      <th>Avg_Err</th>\n",
       "      <th>Avg_Cpu_Time</th>\n",
       "      <th>Max_Cpu</th>\n",
       "      <th>Max_Err</th>\n",
       "      <th>Total_CPU</th>\n",
       "    </tr>\n",
       "  </thead>\n",
       "  <tbody>\n",
       "    <tr>\n",
       "      <th>0</th>\n",
       "      <td>4.0</td>\n",
       "      <td>5.062010e-06</td>\n",
       "      <td>0.000625</td>\n",
       "      <td>0.015625</td>\n",
       "      <td>0.002531</td>\n",
       "      <td>0.3125</td>\n",
       "    </tr>\n",
       "    <tr>\n",
       "      <th>1</th>\n",
       "      <td>10.0</td>\n",
       "      <td>3.436474e-07</td>\n",
       "      <td>0.001250</td>\n",
       "      <td>0.015625</td>\n",
       "      <td>0.000101</td>\n",
       "      <td>0.6250</td>\n",
       "    </tr>\n",
       "  </tbody>\n",
       "</table>\n",
       "</div>"
      ],
      "text/plain": [
       "      n       Avg_Err  Avg_Cpu_Time   Max_Cpu   Max_Err  Total_CPU\n",
       "0   4.0  5.062010e-06      0.000625  0.015625  0.002531     0.3125\n",
       "1  10.0  3.436474e-07      0.001250  0.015625  0.000101     0.6250"
      ]
     },
     "metadata": {},
     "output_type": "display_data"
    }
   ],
   "source": [
    "df_bf_fin = getFinalTable(res, df_bf, fn, bruteForce)\n",
    "df_bnb_fin = getFinalTable(res, df_bnb, fn, bnb)\n",
    "df_gr_fin = getFinalTable(res, df_gr, fn, greedy)\n",
    "df_grx_fin = getFinalTable(res, df_grx, fn, greedyRedux)\n",
    "df_dp_fin = getFinalTable(res, df_dp, fn, dp)\n",
    "df_fptas_fin = getFinalTable(res, df_fptas, fn, fptas)\n",
    "\n",
    "display(df_bf_fin.head(2))\n",
    "display(df_fptas_fin.head(2))"
   ]
  },
  {
   "cell_type": "code",
   "execution_count": 9,
   "metadata": {},
   "outputs": [
    {
     "data": {
      "image/png": "[encoded data removed]",
      "text/plain": [
       "<Figure size 432x288 with 1 Axes>"
      ]
     },
     "metadata": {},
     "output_type": "display_data"
    }
   ],
   "source": [
    "# graf pro porovnani prumerneho cpu casu u bnb, greedyRedux, dp, fptas\n",
    "plt.bar(df_fptas_fin['n']+1, df_fptas_fin['Avg_Cpu_Time'], align='center', color='b')\n",
    "plt.bar(df_grx_fin['n']-0.5, df_grx_fin['Avg_Cpu_Time'], align='center', color='r')\n",
    "plt.bar(df_bnb_fin['n'], df_bnb_fin['Avg_Cpu_Time'], align='center', color='g')\n",
    "plt.bar(df_dp_fin['n']+0.5, df_dp_fin['Avg_Cpu_Time'], align='center', color='y')\n",
    "plt.title('Průměrný CPU čas pro jednotlivá n z datasetu ' + fn)\n",
    "plt.xlabel('n')\n",
    "plt.ylabel('Prům. CPU čas/batoh v sekundách')\n",
    "plt.show()"
   ]
  },
  {
   "cell_type": "code",
   "execution_count": 10,
   "metadata": {},
   "outputs": [
    {
     "data": {
      "image/png": "[encoded data removed]",
      "text/plain": [
       "<Figure size 432x288 with 1 Axes>"
      ]
     },
     "metadata": {},
     "output_type": "display_data"
    }
   ],
   "source": [
    "# graf pro porovnani celkoveho cpu casu u bnb, greedyRedux, dp, fptas\n",
    "plt.bar(df_fptas_fin['n']+1, df_fptas_fin['Total_CPU'], align='center', color='b')\n",
    "plt.bar(df_grx_fin['n']-0.5, df_grx_fin['Total_CPU'], align='center', color='r')\n",
    "plt.bar(df_bnb_fin['n'], df_bnb_fin['Total_CPU'], align='center', color='g')\n",
    "plt.bar(df_dp_fin['n']+0.5, df_dp_fin['Total_CPU'], align='center', color='y')\n",
    "plt.title('CPU čas jednotlivých souborů s n prvky z datasetu ' + fn)\n",
    "plt.xlabel('n')\n",
    "plt.ylabel('CPU čas pro složku v sekundách')\n",
    "plt.show()"
   ]
  },
  {
   "cell_type": "code",
   "execution_count": 11,
   "metadata": {},
   "outputs": [
    {
     "data": {
      "image/png": "[encoded data removed]",
      "text/plain": [
       "<Figure size 432x288 with 1 Axes>"
      ]
     },
     "metadata": {},
     "output_type": "display_data"
    }
   ],
   "source": [
    "# graf pro porovnani nejdelsiho cpu casu pru jednotliva n u bnb, greedyRedux, dp, fptas\n",
    "plt.bar(df_fptas_fin['n']+1.1, df_fptas_fin['Max_Cpu'], align='center', color='b')\n",
    "plt.bar(df_bnb_fin['n']-0.25, df_bnb_fin['Max_Cpu'], align='center', color='g')\n",
    "plt.bar(df_dp_fin['n']+0.5, df_dp_fin['Max_Cpu'], align='center', color='y')\n",
    "plt.title('Nejdelší CPU čas konstrukce batohu pro jednotlivá n v sekundách z dat ' + fn)\n",
    "plt.xlabel('n')\n",
    "plt.ylabel('Max CPU čas batohu v sekundách')\n",
    "plt.show()"
   ]
  },
  {
   "cell_type": "markdown",
   "metadata": {},
   "source": [
    "### Grafy pro BruteForce algo"
   ]
  },
  {
   "cell_type": "code",
   "execution_count": 12,
   "metadata": {},
   "outputs": [
    {
     "data": {
      "image/png": "[encoded data removed]",
      "text/plain": [
       "<Figure size 432x288 with 1 Axes>"
      ]
     },
     "metadata": {},
     "output_type": "display_data"
    }
   ],
   "source": [
    "plt.bar(df_bf_fin['n'], df_bf_fin['Avg_Cpu_Time'], align='center', color='orange')\n",
    "# plt.bar(df_bnb_fin['n'], df_bnb_fin['Avg_Cpu_Time'], align='center', color='g')\n",
    "# plt.bar(df_dp_fin['n']+0.75, df_dp_fin['Avg_Cpu_Time'], align='center', color='y')\n",
    "plt.title('Průměrný CPU čas pro jednotlivá n z datasetu ' + fn)\n",
    "plt.xlabel('n')\n",
    "plt.ylabel('Prům. CPU čas/batoh v sekundách')\n",
    "plt.show()"
   ]
  },
  {
   "cell_type": "code",
   "execution_count": 13,
   "metadata": {},
   "outputs": [
    {
     "data": {
      "image/png": "[encoded data removed]",
      "text/plain": [
       "<Figure size 432x288 with 1 Axes>"
      ]
     },
     "metadata": {},
     "output_type": "display_data"
    }
   ],
   "source": [
    "plt.bar(df_bf_fin['n'], df_bf_fin['Total_CPU'], align='center', color='orange')\n",
    "# plt.bar(df_bnb_fin['n'], df_bnb_fin['Total_CPU'], align='center', color='g')\n",
    "# plt.bar(df_dp_fin['n']+0.75, df_dp_fin['Total_CPU'], align='center', color='y')\n",
    "plt.title('CPU čas jednotlivých souborů s n prvky z datasetu ' + fn)\n",
    "plt.xlabel('n')\n",
    "plt.ylabel('CPU čas pro složku v sekundách')\n",
    "plt.show()"
   ]
  },
  {
   "cell_type": "code",
   "execution_count": 14,
   "metadata": {},
   "outputs": [
    {
     "data": {
      "image/png": "[encoded data removed]",
      "text/plain": [
       "<Figure size 432x288 with 1 Axes>"
      ]
     },
     "metadata": {},
     "output_type": "display_data"
    }
   ],
   "source": [
    "plt.bar(df_bf_fin['n'], df_bf_fin['Max_Cpu'], align='center', color='orange')\n",
    "# plt.bar(df_bnb_fin['n'], df_bnb_fin['Max_Cpu'], align='center', color='g')\n",
    "# plt.bar(df_dp_fin['n']+0.75, df_dp_fin['Max_Cpu'], align='center', color='y')\n",
    "plt.title('Nejdelší CPU čas konstrukce batohu pro jednotlivá n v sekundách z dat ' + fn)\n",
    "plt.xlabel('n')\n",
    "plt.ylabel('Max CPU čas batohu v sekundách')\n",
    "plt.show()"
   ]
  },
  {
   "cell_type": "code",
   "execution_count": null,
   "metadata": {},
   "outputs": [],
   "source": []
  }
 ],
 "metadata": {
  "kernelspec": {
   "display_name": "Python 3",
   "language": "python",
   "name": "python3"
  },
  "language_info": {
   "codemirror_mode": {
    "name": "ipython",
    "version": 3
   },
   "file_extension": ".py",
   "mimetype": "text/x-python",
   "name": "python",
   "nbconvert_exporter": "python",
   "pygments_lexer": "ipython3",
   "version": "3.7.8"
  }
 },
 "nbformat": 4,
 "nbformat_minor": 4
}
