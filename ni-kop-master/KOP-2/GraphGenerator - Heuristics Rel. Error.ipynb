{
 "cells": [
  {
   "cell_type": "markdown",
   "metadata": {},
   "source": [
    "## This notebook serves for creating simple plots from generated data"
   ]
  },
  {
   "cell_type": "code",
   "execution_count": 1,
   "metadata": {},
   "outputs": [],
   "source": [
    "import matplotlib.pyplot as plt\n",
    "import matplotlib\n",
    "import pandas as pd\n",
    "import numpy as np\n",
    "from statistics import mean\n",
    "\n",
    "%matplotlib inline \n",
    "matplotlib.style.use('ggplot')"
   ]
  },
  {
   "cell_type": "code",
   "execution_count": 2,
   "metadata": {},
   "outputs": [],
   "source": [
    "# load data from csv and concat them\n",
    "def loadDF(algoName, folderName, nList):  \n",
    "    fileNameTemplate = './Output/{0}_{1}_{2}.csv'\n",
    "\n",
    "    df = None\n",
    "    for n in nList:\n",
    "        if df is None:\n",
    "            df = pd.read_csv(fileNameTemplate.format(folderName, algoName, n))\n",
    "        else:\n",
    "            df = pd.concat([df, pd.read_csv(fileNameTemplate.format(folderName, algoName, n))], ignore_index=True)\n",
    "    \n",
    "    # make all ids positive\n",
    "    df['KnapsackId'] = abs(df['KnapsackId'])\n",
    "    return df"
   ]
  },
  {
   "cell_type": "code",
   "execution_count": 3,
   "metadata": {},
   "outputs": [
    {
     "data": {
      "text/html": [
       "<div>\n",
       "<style scoped>\n",
       "    .dataframe tbody tr th:only-of-type {\n",
       "        vertical-align: middle;\n",
       "    }\n",
       "\n",
       "    .dataframe tbody tr th {\n",
       "        vertical-align: top;\n",
       "    }\n",
       "\n",
       "    .dataframe thead th {\n",
       "        text-align: right;\n",
       "    }\n",
       "</style>\n",
       "<table border=\"1\" class=\"dataframe\">\n",
       "  <thead>\n",
       "    <tr style=\"text-align: right;\">\n",
       "      <th></th>\n",
       "      <th>FileName</th>\n",
       "      <th>AlgoName</th>\n",
       "      <th>CpuTime</th>\n",
       "      <th>Date</th>\n",
       "      <th>n</th>\n",
       "      <th>folder</th>\n",
       "    </tr>\n",
       "  </thead>\n",
       "  <tbody>\n",
       "    <tr>\n",
       "      <th>0</th>\n",
       "      <td>NK27</td>\n",
       "      <td>BruteForce</td>\n",
       "      <td>1372.25</td>\n",
       "      <td>2020-10-25</td>\n",
       "      <td>27</td>\n",
       "      <td>NK</td>\n",
       "    </tr>\n",
       "  </tbody>\n",
       "</table>\n",
       "</div>"
      ],
      "text/plain": [
       "  FileName    AlgoName  CpuTime        Date   n folder\n",
       "0     NK27  BruteForce  1372.25  2020-10-25  27     NK"
      ]
     },
     "metadata": {},
     "output_type": "display_data"
    },
    {
     "data": {
      "text/html": [
       "<div>\n",
       "<style scoped>\n",
       "    .dataframe tbody tr th:only-of-type {\n",
       "        vertical-align: middle;\n",
       "    }\n",
       "\n",
       "    .dataframe tbody tr th {\n",
       "        vertical-align: top;\n",
       "    }\n",
       "\n",
       "    .dataframe thead th {\n",
       "        text-align: right;\n",
       "    }\n",
       "</style>\n",
       "<table border=\"1\" class=\"dataframe\">\n",
       "  <thead>\n",
       "    <tr style=\"text-align: right;\">\n",
       "      <th></th>\n",
       "      <th>FileName</th>\n",
       "      <th>AlgoName</th>\n",
       "      <th>CpuTime</th>\n",
       "      <th>Date</th>\n",
       "      <th>n</th>\n",
       "      <th>folder</th>\n",
       "    </tr>\n",
       "  </thead>\n",
       "  <tbody>\n",
       "    <tr>\n",
       "      <th>241</th>\n",
       "      <td>ZKW25</td>\n",
       "      <td>FPTAS_E0.2</td>\n",
       "      <td>0.0625</td>\n",
       "      <td>2020-10-31</td>\n",
       "      <td>25</td>\n",
       "      <td>ZKW</td>\n",
       "    </tr>\n",
       "  </tbody>\n",
       "</table>\n",
       "</div>"
      ],
      "text/plain": [
       "    FileName    AlgoName  CpuTime        Date   n folder\n",
       "241    ZKW25  FPTAS_E0.2   0.0625  2020-10-31  25    ZKW"
      ]
     },
     "metadata": {},
     "output_type": "display_data"
    }
   ],
   "source": [
    "# load results.csv\n",
    "res = pd.read_csv('results.csv')\n",
    "for index, row in res.iterrows():\n",
    "    if row['FileName'][0] == 'Z':\n",
    "        res.loc[index, 'n'] = row['FileName'][3:]\n",
    "        res.loc[index, 'folder'] = row['FileName'][:3]\n",
    "    else:\n",
    "        res.loc[index, 'n'] = row['FileName'][2:]\n",
    "        res.loc[index, 'folder'] = row['FileName'][:2]\n",
    "\n",
    "display(res.head(1))\n",
    "display(res.tail(1))"
   ]
  },
  {
   "cell_type": "code",
   "execution_count": 4,
   "metadata": {},
   "outputs": [],
   "source": [
    "# definice pouzitelnych promennych\n",
    "NK = 'NK'\n",
    "ZKC = 'ZKC'\n",
    "ZKW = 'ZKW'\n",
    "bruteForce = 'BruteForce'\n",
    "bnb = 'BranchAndBound'\n",
    "greedy = 'Greedy'\n",
    "greedyRedux = 'GreedyRedux'\n",
    "dp = 'DP_PD'\n",
    "epsilon = 0.01 # or 0.05, 0.1, 0.2\n",
    "fptas = 'FPTAS_E' + str(epsilon)"
   ]
  },
  {
   "cell_type": "code",
   "execution_count": 5,
   "metadata": {},
   "outputs": [],
   "source": [
    "# ziskani pozadovanych dat\n",
    "# + lze omezit/rozsirit nacitane nka\n",
    "# vyber zpracovavanou slozku\n",
    "nList = [4,10,15,20,22,25,27,30]#,32]#,35,37,40\n",
    "fn = NK\n",
    "\n",
    "# df_bf = loadDF(bruteForce, fn, nList)\n",
    "# df_bnb = loadDF(bnb, fn, nList)\n",
    "df_gr = loadDF(greedy, fn, nList)\n",
    "df_grx = loadDF(greedyRedux, fn, nList)\n",
    "# df_dp = loadDF(dp, fn, nList)\n",
    "# df_fptas = loadDF(fptas, fn, nList)\n",
    "\n",
    "# display(df_bf.head(2))\n",
    "# display(df_fptas.head(2))"
   ]
  },
  {
   "cell_type": "code",
   "execution_count": 6,
   "metadata": {},
   "outputs": [],
   "source": [
    "# odebrani nejspis neuzitecnych sloupcu Item_0 az Item_29\n",
    "for i in range(30):\n",
    "#     df_bf.drop(columns='Item_' + str(i), inplace=True)\n",
    "#     df_bnb.drop(columns='Item_' + str(i), inplace=True)\n",
    "    df_gr.drop(columns='Item_' + str(i), inplace=True)\n",
    "    df_grx.drop(columns='Item_' + str(i), inplace=True)\n",
    "#     df_dp.drop(columns='Item_' + str(i), inplace=True)\n",
    "#     df_fptas.drop(columns='Item_' + str(i), inplace=True)\n",
    "# display(df_bf.head(2))\n",
    "# display(df_fptas.head(2))"
   ]
  },
  {
   "cell_type": "code",
   "execution_count": 7,
   "metadata": {},
   "outputs": [],
   "source": [
    "def getFinalTable(resCsv, df, folderName, algoName):\n",
    "    df_final = pd.DataFrame(columns=['n', 'Avg_Err', 'Avg_Cpu_Time', 'Max_Cpu', 'Max_Err', 'Total_CPU'])\n",
    "    if 'Error' not in df.columns:\n",
    "        df['Error'] = 0\n",
    "    for n in df.NumberOfItems.unique():\n",
    "        row_data = [\n",
    "            n,\n",
    "            df[df.NumberOfItems == n]['Error'].mean(),\n",
    "            resCsv.loc[(resCsv['n'] == str(n)) & (resCsv['AlgoName'] == algoName) & (resCsv['folder'] == folderName)].iloc[0].CpuTime/len(df[df.NumberOfItems == n]),\n",
    "            df[df.NumberOfItems == n]['CpuTime'].max(),\n",
    "            df[df.NumberOfItems == n]['Error'].max(),\n",
    "            resCsv.loc[(resCsv['n'] == str(n)) & (resCsv['AlgoName'] == algoName) & (resCsv['folder'] == folderName)].iloc[0].CpuTime\n",
    "        ]\n",
    "        df_final.loc[len(df_final)] = row_data\n",
    "    return df_final"
   ]
  },
  {
   "cell_type": "code",
   "execution_count": 8,
   "metadata": {},
   "outputs": [],
   "source": [
    "# df_bf_fin = getFinalTable(res, df_bf, fn, bruteForce)\n",
    "# df_bnb_fin = getFinalTable(res, df_bnb, fn, bnb)\n",
    "df_gr_fin = getFinalTable(res, df_gr, fn, greedy)\n",
    "df_grx_fin = getFinalTable(res, df_grx, fn, greedyRedux)\n",
    "# df_dp_fin = getFinalTable(res, df_dp, fn, dp)\n",
    "# df_fptas_fin = getFinalTable(res, df_fptas, fn, fptas)\n",
    "\n",
    "# display(df_bf_fin.head(2))\n",
    "# display(df_fptas_fin.head(2))"
   ]
  },
  {
   "cell_type": "code",
   "execution_count": 9,
   "metadata": {},
   "outputs": [
    {
     "data": {
      "image/png": "[encoded data removed]",
      "text/plain": [
       "<Figure size 432x288 with 1 Axes>"
      ]
     },
     "metadata": {},
     "output_type": "display_data"
    }
   ],
   "source": [
    "# graf pro porovnani prumerne relativni chyby mezi greedy a greedyRedux\n",
    "plt.bar(df_gr_fin['n'], df_gr_fin['Avg_Err'], align='center', color='b')\n",
    "plt.bar(df_grx_fin['n']+0.75, df_grx_fin['Avg_Err'], align='center', color='r')\n",
    "plt.title('Průměrná relativní chyba v ' + fn)\n",
    "plt.xlabel('n')\n",
    "plt.ylabel('Prům. relativní chyba')\n",
    "plt.show()"
   ]
  },
  {
   "cell_type": "code",
   "execution_count": 10,
   "metadata": {},
   "outputs": [
    {
     "data": {
      "image/png": "[encoded data removed]",
      "text/plain": [
       "<Figure size 432x288 with 1 Axes>"
      ]
     },
     "metadata": {},
     "output_type": "display_data"
    }
   ],
   "source": [
    "# graf pro porovnani maximalni relativni chyby mezi greedy a greedyRedux\n",
    "plt.bar(df_gr_fin['n'], df_gr_fin['Max_Err'], align='center', color='b')\n",
    "plt.bar(df_grx_fin['n']+0.75, df_grx_fin['Max_Err'], align='center', color='r')\n",
    "plt.title('Maximální hodnota relativní chyby v ' + fn)\n",
    "plt.xlabel('n')\n",
    "plt.ylabel('Maximální relativní chyba')\n",
    "plt.show()"
   ]
  },
  {
   "cell_type": "code",
   "execution_count": null,
   "metadata": {},
   "outputs": [],
   "source": []
  }
 ],
 "metadata": {
  "kernelspec": {
   "display_name": "Python 3",
   "language": "python",
   "name": "python3"
  },
  "language_info": {
   "codemirror_mode": {
    "name": "ipython",
    "version": 3
   },
   "file_extension": ".py",
   "mimetype": "text/x-python",
   "name": "python",
   "nbconvert_exporter": "python",
   "pygments_lexer": "ipython3",
   "version": "3.7.8"
  }
 },
 "nbformat": 4,
 "nbformat_minor": 4
}
