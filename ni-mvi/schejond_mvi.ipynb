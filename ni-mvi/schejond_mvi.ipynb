{
  "nbformat": 4,
  "nbformat_minor": 0,
  "metadata": {
    "colab": {
      "name": "schejond_mvi.ipynb",
      "provenance": [],
      "collapsed_sections": []
    },
    "kernelspec": {
      "name": "python3",
      "display_name": "Python 3"
    }
  },
  "cells": [
    {
      "cell_type": "markdown",
      "metadata": {
        "id": "no3zg0Q4GAgW"
      },
      "source": [
        "**NI-MVI** - Semestral assignment\r\n",
        "\r\n",
        "This notebook contains code for loading, preprocessing and evaluating the arXiv dataset which consists of many scientific papers. Selected models were trained with goal to predict the papers category labels.\r\n",
        "\r\n",
        "The full info about arXiv and the task can be found here https://www.kaggle.com/Cornell-University/arxiv\r\n",
        "\r\n",
        "The code expects to be run in colab environment, some cells may not work in other editors.\r\n",
        "\r\n",
        "@schejond"
      ]
    },
    {
      "cell_type": "markdown",
      "metadata": {
        "id": "8MiQSb1-GFs5"
      },
      "source": [
        "First we need to load the dataset into colab. I have used the kaggle api, which gives the fastest access to the dataset."
      ]
    },
    {
      "cell_type": "code",
      "metadata": {
        "colab": {
          "resources": {
            "http://localhost:8080/nbextensions/google.colab/files.js": {
              "data": "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",
              "ok": true,
              "headers": [
                [
                  "content-type",
                  "application/javascript"
                ]
              ],
              "status": 200,
              "status_text": ""
            }
          },
          "base_uri": "https://localhost:8080/",
          "height": 72
        },
        "id": "przEIJCdD9WI",
        "outputId": "eac19661-9a83-4368-f31c-b58655ee9fac"
      },
      "source": [
        "!python -m pip install -q kaggle\r\n",
        "from google.colab import files\r\n",
        "kaggleApiToken = files.upload()\r\n",
        "\r\n",
        "!mkdir ~/.kaggle\r\n",
        "! cp kaggle.json ~/.kaggle/\r\n",
        "! chmod 600 ~/.kaggle/kaggle.json"
      ],
      "execution_count": null,
      "outputs": [
        {
          "output_type": "display_data",
          "data": {
            "text/html": [
              "\n",
              "     <input type=\"file\" id=\"files-8d4fa3f1-4b2d-4f70-9f7f-bf0822378e6b\" name=\"files[]\" multiple disabled\n",
              "        style=\"border:none\" />\n",
              "     <output id=\"result-8d4fa3f1-4b2d-4f70-9f7f-bf0822378e6b\">\n",
              "      Upload widget is only available when the cell has been executed in the\n",
              "      current browser session. Please rerun this cell to enable.\n",
              "      </output>\n",
              "      <script src=\"/nbextensions/google.colab/files.js\"></script> "
            ],
            "text/plain": [
              "<IPython.core.display.HTML object>"
            ]
          },
          "metadata": {
            "tags": []
          }
        },
        {
          "output_type": "stream",
          "text": [
            "Saving kaggle.json to kaggle.json\n"
          ],
          "name": "stdout"
        }
      ]
    },
    {
      "cell_type": "code",
      "metadata": {
        "colab": {
          "base_uri": "https://localhost:8080/"
        },
        "id": "RKp3dFVzap66",
        "outputId": "3a8ebade-93b9-49de-e547-983abfddc0c1"
      },
      "source": [
        "%%time\r\n",
        "ARXIV_DATASET_PATH = \"/content/arxiv-metadata-oai-snapshot.json\"\r\n",
        "\r\n",
        "import os.path\r\n",
        "if not os.path.isfile(ARXIV_DATASET_PATH):\r\n",
        "  !kaggle datasets download --force --unzip -d Cornell-University/arxiv"
      ],
      "execution_count": null,
      "outputs": [
        {
          "output_type": "stream",
          "text": [
            "Downloading arxiv.zip to /content\n",
            " 98% 889M/906M [00:22<00:00, 41.7MB/s]\n",
            "100% 906M/906M [00:22<00:00, 41.8MB/s]\n",
            "CPU times: user 180 ms, sys: 37.5 ms, total: 217 ms\n",
            "Wall time: 1min 10s\n"
          ],
          "name": "stdout"
        }
      ]
    },
    {
      "cell_type": "code",
      "metadata": {
        "id": "ponsTohVOfFl"
      },
      "source": [
        "# imports\r\n",
        "import pandas as pd\r\n",
        "import numpy as np\r\n",
        "import matplotlib.pyplot as plt\r\n",
        "import json\r\n",
        "import re"
      ],
      "execution_count": null,
      "outputs": []
    },
    {
      "cell_type": "code",
      "metadata": {
        "id": "UmssS1aTLUbN"
      },
      "source": [
        "# the snapshot can't be loaded directly so we need to obtain it using python generators\r\n",
        "def getSnapshotData():\r\n",
        "    with open(ARXIV_DATASET_PATH, 'r') as f:\r\n",
        "        for line in f:\r\n",
        "            yield line"
      ],
      "execution_count": null,
      "outputs": []
    },
    {
      "cell_type": "code",
      "metadata": {
        "colab": {
          "base_uri": "https://localhost:8080/"
        },
        "id": "LXXcdxEpLcoF",
        "outputId": "1f2bd42d-9db1-46fe-84ea-47ed388a6105"
      },
      "source": [
        "# first look on data\r\n",
        "snapshotData = getSnapshotData()\r\n",
        "for paper in snapshotData:\r\n",
        "    for key, val in json.loads(paper).items():\r\n",
        "        print(key, val)\r\n",
        "    break"
      ],
      "execution_count": null,
      "outputs": [
        {
          "output_type": "stream",
          "text": [
            "id 0704.0001\n",
            "submitter Pavel Nadolsky\n",
            "authors C. Bal\\'azs, E. L. Berger, P. M. Nadolsky, C.-P. Yuan\n",
            "title Calculation of prompt diphoton production cross sections at Tevatron and\n",
            "  LHC energies\n",
            "comments 37 pages, 15 figures; published version\n",
            "journal-ref Phys.Rev.D76:013009,2007\n",
            "doi 10.1103/PhysRevD.76.013009\n",
            "report-no ANL-HEP-PR-07-12\n",
            "categories hep-ph\n",
            "license None\n",
            "abstract   A fully differential calculation in perturbative quantum chromodynamics is\n",
            "presented for the production of massive photon pairs at hadron colliders. All\n",
            "next-to-leading order perturbative contributions from quark-antiquark,\n",
            "gluon-(anti)quark, and gluon-gluon subprocesses are included, as well as\n",
            "all-orders resummation of initial-state gluon radiation valid at\n",
            "next-to-next-to-leading logarithmic accuracy. The region of phase space is\n",
            "specified in which the calculation is most reliable. Good agreement is\n",
            "demonstrated with data from the Fermilab Tevatron, and predictions are made for\n",
            "more detailed tests with CDF and DO data. Predictions are shown for\n",
            "distributions of diphoton pairs produced at the energy of the Large Hadron\n",
            "Collider (LHC). Distributions of the diphoton pairs from the decay of a Higgs\n",
            "boson are contrasted with those produced from QCD processes at the LHC, showing\n",
            "that enhanced sensitivity to the signal can be obtained with judicious\n",
            "selection of events.\n",
            "\n",
            "versions [{'version': 'v1', 'created': 'Mon, 2 Apr 2007 19:18:42 GMT'}, {'version': 'v2', 'created': 'Tue, 24 Jul 2007 20:10:27 GMT'}]\n",
            "update_date 2008-11-26\n",
            "authors_parsed [['Balázs', 'C.', ''], ['Berger', 'E. L.', ''], ['Nadolsky', 'P. M.', ''], ['Yuan', 'C. -P.', '']]\n"
          ],
          "name": "stdout"
        }
      ]
    },
    {
      "cell_type": "markdown",
      "metadata": {
        "id": "5tfAij-3Lnqb"
      },
      "source": [
        "#### We can see that paper contain numerous information, but I think that only few of them are relevant and important for determining the paper category/ies\r\n",
        "* I have decided to experiment with **_id, title, categories, abstract and authors_parsed_** columns and their different combinations"
      ]
    },
    {
      "cell_type": "code",
      "metadata": {
        "id": "Jmy572lwLteB"
      },
      "source": [
        "def getRelevantAttributesForRow(relevantColumns, paper):\r\n",
        "  rowData = {}\r\n",
        "  for colName in relevantColumns:\r\n",
        "    if colName not in paper.keys():\r\n",
        "      raise ValueError('Unexpected values! Line keys are not unique! Duplicate key found: ' + colName)\r\n",
        "    rowData[colName] = paper[colName]\r\n",
        "    \r\n",
        "  return rowData"
      ],
      "execution_count": null,
      "outputs": []
    },
    {
      "cell_type": "code",
      "metadata": {
        "id": "FA1ukMsYLxSl"
      },
      "source": [
        "# experimented with different sets of columns\r\n",
        "SELECTED_COLUMNS = ['id', 'title', 'categories', 'abstract', 'authors_parsed']"
      ],
      "execution_count": null,
      "outputs": []
    },
    {
      "cell_type": "code",
      "metadata": {
        "colab": {
          "base_uri": "https://localhost:8080/"
        },
        "id": "cHg8_nAQL1D1",
        "outputId": "7baef5e5-52b1-4283-9b76-aa80de895a2a"
      },
      "source": [
        "%%time\r\n",
        "# load selected columns into DataFrame\r\n",
        "df = pd.DataFrame(columns = SELECTED_COLUMNS)\r\n",
        "for paper in getSnapshotData():\r\n",
        "    paper_json = json.loads(paper)\r\n",
        "    rowData = getRelevantAttributesForRow(SELECTED_COLUMNS, paper_json)\r\n",
        "\r\n",
        "    df = df.append(\r\n",
        "        rowData,\r\n",
        "        ignore_index = True\r\n",
        "    )\r\n",
        "    # for faster loading when i want to write and test code...remove for final experiments\r\n",
        "    if len(df) > 50000:\r\n",
        "        break"
      ],
      "execution_count": null,
      "outputs": [
        {
          "output_type": "stream",
          "text": [
            "CPU times: user 3min 13s, sys: 1.14 s, total: 3min 14s\n",
            "Wall time: 3min 14s\n"
          ],
          "name": "stdout"
        }
      ]
    },
    {
      "cell_type": "code",
      "metadata": {
        "colab": {
          "base_uri": "https://localhost:8080/",
          "height": 195
        },
        "id": "_5VHqu22Qg5A",
        "outputId": "a1a6c474-eb94-473f-d193-47cd347675ce"
      },
      "source": [
        "df.head()"
      ],
      "execution_count": null,
      "outputs": [
        {
          "output_type": "execute_result",
          "data": {
            "text/html": [
              "<div>\n",
              "<style scoped>\n",
              "    .dataframe tbody tr th:only-of-type {\n",
              "        vertical-align: middle;\n",
              "    }\n",
              "\n",
              "    .dataframe tbody tr th {\n",
              "        vertical-align: top;\n",
              "    }\n",
              "\n",
              "    .dataframe thead th {\n",
              "        text-align: right;\n",
              "    }\n",
              "</style>\n",
              "<table border=\"1\" class=\"dataframe\">\n",
              "  <thead>\n",
              "    <tr style=\"text-align: right;\">\n",
              "      <th></th>\n",
              "      <th>id</th>\n",
              "      <th>title</th>\n",
              "      <th>categories</th>\n",
              "      <th>abstract</th>\n",
              "      <th>authors_parsed</th>\n",
              "    </tr>\n",
              "  </thead>\n",
              "  <tbody>\n",
              "    <tr>\n",
              "      <th>0</th>\n",
              "      <td>0704.0001</td>\n",
              "      <td>Calculation of prompt diphoton production cros...</td>\n",
              "      <td>hep-ph</td>\n",
              "      <td>A fully differential calculation in perturba...</td>\n",
              "      <td>[[Balázs, C., ], [Berger, E. L., ], [Nadolsky,...</td>\n",
              "    </tr>\n",
              "    <tr>\n",
              "      <th>1</th>\n",
              "      <td>0704.0002</td>\n",
              "      <td>Sparsity-certifying Graph Decompositions</td>\n",
              "      <td>math.CO cs.CG</td>\n",
              "      <td>We describe a new algorithm, the $(k,\\ell)$-...</td>\n",
              "      <td>[[Streinu, Ileana, ], [Theran, Louis, ]]</td>\n",
              "    </tr>\n",
              "    <tr>\n",
              "      <th>2</th>\n",
              "      <td>0704.0003</td>\n",
              "      <td>The evolution of the Earth-Moon system based o...</td>\n",
              "      <td>physics.gen-ph</td>\n",
              "      <td>The evolution of Earth-Moon system is descri...</td>\n",
              "      <td>[[Pan, Hongjun, ]]</td>\n",
              "    </tr>\n",
              "    <tr>\n",
              "      <th>3</th>\n",
              "      <td>0704.0004</td>\n",
              "      <td>A determinant of Stirling cycle numbers counts...</td>\n",
              "      <td>math.CO</td>\n",
              "      <td>We show that a determinant of Stirling cycle...</td>\n",
              "      <td>[[Callan, David, ]]</td>\n",
              "    </tr>\n",
              "    <tr>\n",
              "      <th>4</th>\n",
              "      <td>0704.0005</td>\n",
              "      <td>From dyadic $\\Lambda_{\\alpha}$ to $\\Lambda_{\\a...</td>\n",
              "      <td>math.CA math.FA</td>\n",
              "      <td>In this paper we show how to compute the $\\L...</td>\n",
              "      <td>[[Abu-Shammala, Wael, ], [Torchinsky, Alberto, ]]</td>\n",
              "    </tr>\n",
              "  </tbody>\n",
              "</table>\n",
              "</div>"
            ],
            "text/plain": [
              "          id  ...                                     authors_parsed\n",
              "0  0704.0001  ...  [[Balázs, C., ], [Berger, E. L., ], [Nadolsky,...\n",
              "1  0704.0002  ...           [[Streinu, Ileana, ], [Theran, Louis, ]]\n",
              "2  0704.0003  ...                                 [[Pan, Hongjun, ]]\n",
              "3  0704.0004  ...                                [[Callan, David, ]]\n",
              "4  0704.0005  ...  [[Abu-Shammala, Wael, ], [Torchinsky, Alberto, ]]\n",
              "\n",
              "[5 rows x 5 columns]"
            ]
          },
          "metadata": {
            "tags": []
          },
          "execution_count": 9
        }
      ]
    },
    {
      "cell_type": "code",
      "metadata": {
        "id": "0P9lMmhDRtOv"
      },
      "source": [
        "df_orig = df.copy()"
      ],
      "execution_count": null,
      "outputs": []
    },
    {
      "cell_type": "code",
      "metadata": {
        "colab": {
          "base_uri": "https://localhost:8080/",
          "height": 319
        },
        "id": "Q8713QFpRuwf",
        "outputId": "ad0af6e2-7ad2-4e73-cd60-b7683cac8762"
      },
      "source": [
        "df.info()\r\n",
        "# display(df.title.head())\r\n",
        "display(df.categories.head())\r\n",
        "# display(df.abstract.head())"
      ],
      "execution_count": null,
      "outputs": [
        {
          "output_type": "stream",
          "text": [
            "<class 'pandas.core.frame.DataFrame'>\n",
            "RangeIndex: 50001 entries, 0 to 50000\n",
            "Data columns (total 5 columns):\n",
            " #   Column          Non-Null Count  Dtype \n",
            "---  ------          --------------  ----- \n",
            " 0   id              50001 non-null  object\n",
            " 1   title           50001 non-null  object\n",
            " 2   categories      50001 non-null  object\n",
            " 3   abstract        50001 non-null  object\n",
            " 4   authors_parsed  50001 non-null  object\n",
            "dtypes: object(5)\n",
            "memory usage: 1.9+ MB\n"
          ],
          "name": "stdout"
        },
        {
          "output_type": "display_data",
          "data": {
            "text/plain": [
              "0             hep-ph\n",
              "1      math.CO cs.CG\n",
              "2     physics.gen-ph\n",
              "3            math.CO\n",
              "4    math.CA math.FA\n",
              "Name: categories, dtype: object"
            ]
          },
          "metadata": {
            "tags": []
          }
        }
      ]
    },
    {
      "cell_type": "code",
      "metadata": {
        "id": "s9Rmix4DRv7W"
      },
      "source": [
        "# collect all categories\r\n",
        "allCategories = []\r\n",
        "for index, row in df.iterrows():\r\n",
        "    if ' ' in row.categories:\r\n",
        "        for category in row.categories.split(' '):\r\n",
        "            allCategories.append(category)\r\n",
        "    else:\r\n",
        "        allCategories.append(row.categories)"
      ],
      "execution_count": null,
      "outputs": []
    },
    {
      "cell_type": "code",
      "metadata": {
        "id": "Cg_EvzQVRw2_"
      },
      "source": [
        "unique, counts = np.unique(allCategories, return_counts=True)"
      ],
      "execution_count": null,
      "outputs": []
    },
    {
      "cell_type": "code",
      "metadata": {
        "id": "XrRDDdlPRzE-"
      },
      "source": [
        "frequencies = np.asarray((unique, counts)).T\r\n",
        "sortedCategoryCounts = sorted(frequencies, key=lambda x: int(x[1]))"
      ],
      "execution_count": null,
      "outputs": []
    },
    {
      "cell_type": "code",
      "metadata": {
        "colab": {
          "base_uri": "https://localhost:8080/",
          "height": 1000
        },
        "id": "aTSRXwm_R0n-",
        "outputId": "5001a56c-7d5c-4fca-ca2b-d1e37da38bd0"
      },
      "source": [
        "labels = [x[0] for x in sortedCategoryCounts]\r\n",
        "counts = [x[1] for x in sortedCategoryCounts]\r\n",
        "\r\n",
        "fig = plt.figure(figsize=(16, 9))\r\n",
        "ax = fig.gca()\r\n",
        "fig.suptitle('25 Most frequent categories', fontsize=20)\r\n",
        "plt.ylabel('Number of Papers', fontsize=14)\r\n",
        "plt.xlabel('Category', fontsize=14)\r\n",
        "plt.setp(ax.get_xticklabels(), ha=\"right\", rotation=45, fontsize=14) # Specify a rotation for the tick labels \r\n",
        "plt.bar(labels[-25:], counts[-25:])\r\n",
        "plt.show()\r\n",
        "\r\n",
        "fig = plt.figure(figsize=(16, 9))\r\n",
        "ax = fig.gca()\r\n",
        "fig.suptitle('20 Least frequent categories', fontsize=20)\r\n",
        "plt.ylabel('Number of Papers', fontsize=14)\r\n",
        "plt.xlabel('Category', fontsize=14)\r\n",
        "plt.setp(ax.get_xticklabels(), ha=\"right\", rotation=45, fontsize=14) # Specify a rotation for the tick labels \r\n",
        "plt.bar(labels[:20], counts[:20])\r\n",
        "plt.show()"
      ],
      "execution_count": null,
      "outputs": [
        {
          "output_type": "display_data",
          "data": {
            "image/png": "[encoded data removed]",
            "text/plain": [
              "<Figure size 1152x648 with 1 Axes>"
            ]
          },
          "metadata": {
            "tags": [],
            "needs_background": "light"
          }
        },
        {
          "output_type": "display_data",
          "data": {
            "image/png": "[encoded data removed]",
            "text/plain": [
              "<Figure size 1152x648 with 1 Axes>"
            ]
          },
          "metadata": {
            "tags": [],
            "needs_background": "light"
          }
        }
      ]
    },
    {
      "cell_type": "markdown",
      "metadata": {
        "id": "sFdOYkTDR3jH"
      },
      "source": [
        "## Data preprocessing\r\n",
        "* While discovering the data I have noticed that some papers has been withdrawned. So as my first step I have decided to remove those records."
      ]
    },
    {
      "cell_type": "code",
      "metadata": {
        "id": "GvqLOEXPSCnw"
      },
      "source": [
        "df = df[df['abstract'].str.contains('paper has been withdrawn') == False]"
      ],
      "execution_count": null,
      "outputs": []
    },
    {
      "cell_type": "markdown",
      "metadata": {
        "id": "Glj8N-cqSFRB"
      },
      "source": [
        "1) Get rid of newlines in the **_abstract_** column"
      ]
    },
    {
      "cell_type": "code",
      "metadata": {
        "id": "FQR89oIGSGqc"
      },
      "source": [
        "df['abstract'] = df['abstract'].apply(lambda abstract: abstract.replace(\"\\n\",\"\"))"
      ],
      "execution_count": null,
      "outputs": []
    },
    {
      "cell_type": "markdown",
      "metadata": {
        "id": "LVK1iJUFSHi9"
      },
      "source": [
        "2) Based on the stats shown above and also the text classification assignment from kaggle I have decided to edit some of the categories so most of them have more general labels -> the point is to make predicted categories more general to improve the prediction quality.\r\n",
        "\r\n",
        "For example from cs.OS I create just cs, which stands for computer science generally."
      ]
    },
    {
      "cell_type": "code",
      "metadata": {
        "id": "g22ZbW_pSQZI"
      },
      "source": [
        "def cropCategories(categories):\r\n",
        "    if ' ' in str(categories):\r\n",
        "        result = []\r\n",
        "        for category in str(categories).split(' '):\r\n",
        "            result.append(category.split('.')[0])\r\n",
        "        return result\r\n",
        "    \r\n",
        "    return [str(categories).split('.')[0]]"
      ],
      "execution_count": null,
      "outputs": []
    },
    {
      "cell_type": "code",
      "metadata": {
        "id": "h5qrEvkaSK5I"
      },
      "source": [
        "df['categories'] = df.categories.apply(cropCategories)"
      ],
      "execution_count": null,
      "outputs": []
    },
    {
      "cell_type": "markdown",
      "metadata": {
        "id": "WjQjJIXZK8me"
      },
      "source": [
        "The unique categories should be updated after changes above"
      ]
    },
    {
      "cell_type": "code",
      "metadata": {
        "id": "syjVv4_ZK9M3"
      },
      "source": [
        "allCategories = []\r\n",
        "for index, row in df.iterrows():\r\n",
        "    for category in row.categories:\r\n",
        "      allCategories.append(category)\r\n",
        "uniqueCategories = np.unique(allCategories)"
      ],
      "execution_count": null,
      "outputs": []
    },
    {
      "cell_type": "markdown",
      "metadata": {
        "id": "ZYDy53sFhsGY"
      },
      "source": [
        "Some rows may contain duplicates of the same categories now (like [math, math])"
      ]
    },
    {
      "cell_type": "code",
      "metadata": {
        "id": "N85Se-fThizL"
      },
      "source": [
        "def removeDuplicates(categoryList):\r\n",
        "  myset = set(categoryList)\r\n",
        "  return list(myset)"
      ],
      "execution_count": null,
      "outputs": []
    },
    {
      "cell_type": "code",
      "metadata": {
        "id": "FZ57_HL-h7WX"
      },
      "source": [
        "df['categories'] = df.categories.apply(removeDuplicates)"
      ],
      "execution_count": null,
      "outputs": []
    },
    {
      "cell_type": "markdown",
      "metadata": {
        "id": "x8JojKTiSUlj"
      },
      "source": [
        "3) Strip **__abstract__** and **__title__** of too long white spaces"
      ]
    },
    {
      "cell_type": "code",
      "metadata": {
        "id": "xIX6IFhzSV5g"
      },
      "source": [
        "df['abstract'] = df['abstract'].apply(lambda x: x.strip())\r\n",
        "df['title'] = df['title'].apply(lambda x: x.strip())"
      ],
      "execution_count": null,
      "outputs": []
    },
    {
      "cell_type": "markdown",
      "metadata": {
        "id": "HbTkF5uqRAx7"
      },
      "source": [
        "4) I have noticed that some of the texts contains special characters (like mathematic symbols) so I decided to create a function which would do some general preprocessing techniques on the texts"
      ]
    },
    {
      "cell_type": "code",
      "metadata": {
        "id": "5l1DeC77Rd3E"
      },
      "source": [
        "TAG_RE = re.compile(r'<[^>]+>')\r\n",
        "\r\n",
        "def remove_tags(text):\r\n",
        "    return TAG_RE.sub('', text)"
      ],
      "execution_count": null,
      "outputs": []
    },
    {
      "cell_type": "code",
      "metadata": {
        "id": "dQszSzEaRsgN"
      },
      "source": [
        "def preprocess_text(sen):\r\n",
        "    # Removing html tags\r\n",
        "    sentence = remove_tags(sen)\r\n",
        "\r\n",
        "    # Remove punctuations and numbers\r\n",
        "    sentence = re.sub('[^a-zA-Z]', ' ', sentence)\r\n",
        "\r\n",
        "    # Single character removal\r\n",
        "    sentence = re.sub(r\"\\s+[a-zA-Z]\\s+\", ' ', sentence)\r\n",
        "\r\n",
        "    return sentence"
      ],
      "execution_count": null,
      "outputs": []
    },
    {
      "cell_type": "code",
      "metadata": {
        "id": "9EwWMjw6Rv2v"
      },
      "source": [
        "df['abstract'] = df['abstract'].apply(preprocess_text)\r\n",
        "df['title'] = df['title'].apply(preprocess_text)"
      ],
      "execution_count": null,
      "outputs": []
    },
    {
      "cell_type": "markdown",
      "metadata": {
        "id": "DhCLlwzXSXkF"
      },
      "source": [
        "5) Remove stop words from **__abstract__** column"
      ]
    },
    {
      "cell_type": "code",
      "metadata": {
        "id": "i-34l4g_SYIc",
        "colab": {
          "base_uri": "https://localhost:8080/"
        },
        "outputId": "a85a9253-0ca6-4ace-cce7-18f42f26de7d"
      },
      "source": [
        "import nltk\r\n",
        "nltk.download('stopwords')\r\n",
        "nltk.download('punkt')\r\n",
        "from nltk.corpus import stopwords\r\n",
        "from nltk.tokenize import word_tokenize"
      ],
      "execution_count": null,
      "outputs": [
        {
          "output_type": "stream",
          "text": [
            "[nltk_data] Downloading package stopwords to /root/nltk_data...\n",
            "[nltk_data]   Unzipping corpora/stopwords.zip.\n",
            "[nltk_data] Downloading package punkt to /root/nltk_data...\n",
            "[nltk_data]   Unzipping tokenizers/punkt.zip.\n"
          ],
          "name": "stdout"
        }
      ]
    },
    {
      "cell_type": "code",
      "metadata": {
        "id": "FHCKmk42SdV1"
      },
      "source": [
        "def removeStopWords(text):\r\n",
        "    textTokens = word_tokenize(text)\r\n",
        "    tokensWithoutStopWords = [word for word in textTokens if not word in stopwords.words()]\r\n",
        "    textWithoutStopWords = (\" \").join(tokensWithoutStopWords)\r\n",
        "    return textWithoutStopWords"
      ],
      "execution_count": null,
      "outputs": []
    },
    {
      "cell_type": "code",
      "metadata": {
        "id": "zsH4YzoVJvcb",
        "colab": {
          "base_uri": "https://localhost:8080/"
        },
        "outputId": "7f08c6c9-93a5-4991-faa4-6eb7bfed511f"
      },
      "source": [
        "%%time\r\n",
        "df_stopwords_removed = df.copy()\r\n",
        "df_stopwords_removed['abstract'] = df['abstract'].apply(removeStopWords)\r\n",
        "df = df_stopwords_removed.copy()"
      ],
      "execution_count": null,
      "outputs": [
        {
          "output_type": "stream",
          "text": [
            "CPU times: user 3h 47min 30s, sys: 25min 49s, total: 4h 13min 19s\n",
            "Wall time: 4h 13min 25s\n"
          ],
          "name": "stdout"
        }
      ]
    },
    {
      "cell_type": "markdown",
      "metadata": {
        "id": "dlAVJpTigwcM"
      },
      "source": [
        "Stop-words removal took approx. 1 hour for just 10k records.\r\n",
        "In the final test with 50k records the stop-words removal took 4h and 13 minutes"
      ]
    },
    {
      "cell_type": "markdown",
      "metadata": {
        "id": "xtQrr5mGHIFc"
      },
      "source": [
        "6) Lemmatize\r\n",
        "* I have decided to use two techniques for the lemmatization. The more common - Wordnet lemmatization and spacy."
      ]
    },
    {
      "cell_type": "code",
      "metadata": {
        "colab": {
          "base_uri": "https://localhost:8080/"
        },
        "id": "tSFah5fRSelW",
        "outputId": "3bb51c90-d0bd-4a50-a035-3039672b69f9"
      },
      "source": [
        "import sys\r\n",
        "# needs admin rights\r\n",
        "!{sys.executable} -m spacy download en\r\n",
        "spacyEnModulName = 'en_core_web_sm' # if the command above was ran without admin rights use 'en_core_web_sm' otherwise use 'en'\r\n",
        "import spacy"
      ],
      "execution_count": null,
      "outputs": [
        {
          "output_type": "stream",
          "text": [
            "Requirement already satisfied: en_core_web_sm==2.2.5 from https://github.com/explosion/spacy-models/releases/download/en_core_web_sm-2.2.5/en_core_web_sm-2.2.5.tar.gz#egg=en_core_web_sm==2.2.5 in /usr/local/lib/python3.6/dist-packages (2.2.5)\n",
            "Requirement already satisfied: spacy>=2.2.2 in /usr/local/lib/python3.6/dist-packages (from en_core_web_sm==2.2.5) (2.2.4)\n",
            "Requirement already satisfied: wasabi<1.1.0,>=0.4.0 in /usr/local/lib/python3.6/dist-packages (from spacy>=2.2.2->en_core_web_sm==2.2.5) (0.8.0)\n",
            "Requirement already satisfied: plac<1.2.0,>=0.9.6 in /usr/local/lib/python3.6/dist-packages (from spacy>=2.2.2->en_core_web_sm==2.2.5) (1.1.3)\n",
            "Requirement already satisfied: requests<3.0.0,>=2.13.0 in /usr/local/lib/python3.6/dist-packages (from spacy>=2.2.2->en_core_web_sm==2.2.5) (2.23.0)\n",
            "Requirement already satisfied: numpy>=1.15.0 in /usr/local/lib/python3.6/dist-packages (from spacy>=2.2.2->en_core_web_sm==2.2.5) (1.19.4)\n",
            "Requirement already satisfied: srsly<1.1.0,>=1.0.2 in /usr/local/lib/python3.6/dist-packages (from spacy>=2.2.2->en_core_web_sm==2.2.5) (1.0.5)\n",
            "Requirement already satisfied: murmurhash<1.1.0,>=0.28.0 in /usr/local/lib/python3.6/dist-packages (from spacy>=2.2.2->en_core_web_sm==2.2.5) (1.0.5)\n",
            "Requirement already satisfied: catalogue<1.1.0,>=0.0.7 in /usr/local/lib/python3.6/dist-packages (from spacy>=2.2.2->en_core_web_sm==2.2.5) (1.0.0)\n",
            "Requirement already satisfied: tqdm<5.0.0,>=4.38.0 in /usr/local/lib/python3.6/dist-packages (from spacy>=2.2.2->en_core_web_sm==2.2.5) (4.41.1)\n",
            "Requirement already satisfied: preshed<3.1.0,>=3.0.2 in /usr/local/lib/python3.6/dist-packages (from spacy>=2.2.2->en_core_web_sm==2.2.5) (3.0.5)\n",
            "Requirement already satisfied: cymem<2.1.0,>=2.0.2 in /usr/local/lib/python3.6/dist-packages (from spacy>=2.2.2->en_core_web_sm==2.2.5) (2.0.5)\n",
            "Requirement already satisfied: blis<0.5.0,>=0.4.0 in /usr/local/lib/python3.6/dist-packages (from spacy>=2.2.2->en_core_web_sm==2.2.5) (0.4.1)\n",
            "Requirement already satisfied: setuptools in /usr/local/lib/python3.6/dist-packages (from spacy>=2.2.2->en_core_web_sm==2.2.5) (50.3.2)\n",
            "Requirement already satisfied: thinc==7.4.0 in /usr/local/lib/python3.6/dist-packages (from spacy>=2.2.2->en_core_web_sm==2.2.5) (7.4.0)\n",
            "Requirement already satisfied: certifi>=2017.4.17 in /usr/local/lib/python3.6/dist-packages (from requests<3.0.0,>=2.13.0->spacy>=2.2.2->en_core_web_sm==2.2.5) (2020.12.5)\n",
            "Requirement already satisfied: idna<3,>=2.5 in /usr/local/lib/python3.6/dist-packages (from requests<3.0.0,>=2.13.0->spacy>=2.2.2->en_core_web_sm==2.2.5) (2.10)\n",
            "Requirement already satisfied: chardet<4,>=3.0.2 in /usr/local/lib/python3.6/dist-packages (from requests<3.0.0,>=2.13.0->spacy>=2.2.2->en_core_web_sm==2.2.5) (3.0.4)\n",
            "Requirement already satisfied: urllib3!=1.25.0,!=1.25.1,<1.26,>=1.21.1 in /usr/local/lib/python3.6/dist-packages (from requests<3.0.0,>=2.13.0->spacy>=2.2.2->en_core_web_sm==2.2.5) (1.24.3)\n",
            "Requirement already satisfied: importlib-metadata>=0.20; python_version < \"3.8\" in /usr/local/lib/python3.6/dist-packages (from catalogue<1.1.0,>=0.0.7->spacy>=2.2.2->en_core_web_sm==2.2.5) (3.3.0)\n",
            "Requirement already satisfied: zipp>=0.5 in /usr/local/lib/python3.6/dist-packages (from importlib-metadata>=0.20; python_version < \"3.8\"->catalogue<1.1.0,>=0.0.7->spacy>=2.2.2->en_core_web_sm==2.2.5) (3.4.0)\n",
            "Requirement already satisfied: typing-extensions>=3.6.4; python_version < \"3.8\" in /usr/local/lib/python3.6/dist-packages (from importlib-metadata>=0.20; python_version < \"3.8\"->catalogue<1.1.0,>=0.0.7->spacy>=2.2.2->en_core_web_sm==2.2.5) (3.7.4.3)\n",
            "\u001b[38;5;2m✔ Download and installation successful\u001b[0m\n",
            "You can now load the model via spacy.load('en_core_web_sm')\n",
            "\u001b[38;5;2m✔ Linking successful\u001b[0m\n",
            "/usr/local/lib/python3.6/dist-packages/en_core_web_sm -->\n",
            "/usr/local/lib/python3.6/dist-packages/spacy/data/en\n",
            "You can now load the model via spacy.load('en')\n"
          ],
          "name": "stdout"
        }
      ]
    },
    {
      "cell_type": "code",
      "metadata": {
        "id": "ywRdnzN4Sfw-"
      },
      "source": [
        "def spacyLemmatize(text):\r\n",
        "    sp = spacy.load(spacyEnModulName, disable=['parser', 'ner'])\r\n",
        "    # Parse the sentence using the loaded 'en' model\r\n",
        "    doc = sp(text)\r\n",
        "    # return lemmatized text\r\n",
        "    return \" \".join([token.lemma_ for token in doc])"
      ],
      "execution_count": null,
      "outputs": []
    },
    {
      "cell_type": "code",
      "metadata": {
        "id": "yPV7OM8bSij3",
        "colab": {
          "base_uri": "https://localhost:8080/"
        },
        "outputId": "08a9e199-883e-4d9c-e220-ea3ffa72e5ee"
      },
      "source": [
        "%%time\r\n",
        "df_spacy = df['abstract'].apply(spacyLemmatize)"
      ],
      "execution_count": null,
      "outputs": [
        {
          "output_type": "stream",
          "text": [
            "CPU times: user 1h 10min 44s, sys: 38.6 s, total: 1h 11min 22s\n",
            "Wall time: 1h 11min 23s\n"
          ],
          "name": "stdout"
        }
      ]
    },
    {
      "cell_type": "code",
      "metadata": {
        "colab": {
          "base_uri": "https://localhost:8080/"
        },
        "id": "eESInrTMEVnr",
        "outputId": "4bc33288-3b6b-485d-c2a8-b9cf5ef1e927"
      },
      "source": [
        "df_spacy['abstract'].head()"
      ],
      "execution_count": null,
      "outputs": [
        {
          "output_type": "execute_result",
          "data": {
            "text/plain": [
              "0    a fully differential calculation perturbative ...\n",
              "1    -PRON- describe new algorithm           ell   ...\n",
              "2    the evolution Earth Moon system describe dark ...\n",
              "3    -PRON- show determinant stirle cycle number co...\n",
              "4    in paper show compute     Lambda      alpha   ...\n",
              "Name: abstract, dtype: object"
            ]
          },
          "metadata": {
            "tags": []
          },
          "execution_count": 64
        }
      ]
    },
    {
      "cell_type": "markdown",
      "metadata": {
        "id": "lTAdfA3btnyh"
      },
      "source": [
        "Lemmatization with spacy took 1 h and 10 minutes for 10k of records, which is really slow. Let's compare it to the **Wordnet Lemmatizer**"
      ]
    },
    {
      "cell_type": "code",
      "metadata": {
        "id": "hBKcpRQbuJjY",
        "colab": {
          "base_uri": "https://localhost:8080/"
        },
        "outputId": "191c57ea-eb18-42fc-dd0b-181d45958e21"
      },
      "source": [
        "nltk.download('wordnet')\r\n",
        "nltk.download('averaged_perceptron_tagger')\r\n",
        "from nltk.stem import WordNetLemmatizer \r\n",
        "from nltk.corpus import wordnet\r\n",
        "wordnet_lemmatizer = WordNetLemmatizer()"
      ],
      "execution_count": null,
      "outputs": [
        {
          "output_type": "stream",
          "text": [
            "[nltk_data] Downloading package wordnet to /root/nltk_data...\n",
            "[nltk_data]   Unzipping corpora/wordnet.zip.\n",
            "[nltk_data] Downloading package averaged_perceptron_tagger to\n",
            "[nltk_data]     /root/nltk_data...\n",
            "[nltk_data]   Unzipping taggers/averaged_perceptron_tagger.zip.\n"
          ],
          "name": "stdout"
        }
      ]
    },
    {
      "cell_type": "code",
      "metadata": {
        "id": "xADpS0I6JbaZ"
      },
      "source": [
        "def get_wordnet_pos_tag(word):\r\n",
        "    # maps POS tag to first character lemmatize() accepts\r\n",
        "    tag = nltk.pos_tag([word])[0][1][0].upper()\r\n",
        "    tag_dict = {\"J\": wordnet.ADJ,\r\n",
        "                \"N\": wordnet.NOUN,\r\n",
        "                \"V\": wordnet.VERB,\r\n",
        "                \"R\": wordnet.ADV}\r\n",
        "\r\n",
        "    return tag_dict.get(tag, wordnet.NOUN)"
      ],
      "execution_count": null,
      "outputs": []
    },
    {
      "cell_type": "code",
      "metadata": {
        "id": "ArdkR7kUJl2S"
      },
      "source": [
        "def wordnetLemmatize(sentence):\r\n",
        "  return ' '.join([wordnet_lemmatizer.lemmatize(w, get_wordnet_pos_tag(w)) for w in nltk.word_tokenize(sentence)])"
      ],
      "execution_count": null,
      "outputs": []
    },
    {
      "cell_type": "code",
      "metadata": {
        "id": "ZjpQHC31Jhr0",
        "colab": {
          "base_uri": "https://localhost:8080/"
        },
        "outputId": "92c36ed0-65b8-48e5-8b0d-59420b6a0324"
      },
      "source": [
        "%%time\r\n",
        "df_wordnet = df.copy()\r\n",
        "df_wordnet['abstract'] = df['abstract'].apply(wordnetLemmatize)"
      ],
      "execution_count": null,
      "outputs": [
        {
          "output_type": "stream",
          "text": [
            "CPU times: user 6min 57s, sys: 18.8 s, total: 7min 16s\n",
            "Wall time: 7min 16s\n"
          ],
          "name": "stdout"
        }
      ]
    },
    {
      "cell_type": "code",
      "metadata": {
        "id": "kgYxHWxxSNnH",
        "colab": {
          "base_uri": "https://localhost:8080/"
        },
        "outputId": "273b8dbd-f776-4a2d-cde7-7a491a3a3c3a"
      },
      "source": [
        "df_wordnet['abstract'].head()"
      ],
      "execution_count": null,
      "outputs": [
        {
          "output_type": "execute_result",
          "data": {
            "text/plain": [
              "0    A fully differential calculation perturbative ...\n",
              "1    We describe new algorithm ell pebble game colo...\n",
              "2    The evolution Earth Moon system described dark...\n",
              "3    We show determinant Stirling cycle number coun...\n",
              "4    In paper show compute Lambda alpha norm alpha ...\n",
              "Name: abstract, dtype: object"
            ]
          },
          "metadata": {
            "tags": []
          },
          "execution_count": 34
        }
      ]
    },
    {
      "cell_type": "code",
      "metadata": {
        "id": "55ahYzYObFWX"
      },
      "source": [
        "df = df_wordnet.copy()"
      ],
      "execution_count": null,
      "outputs": []
    },
    {
      "cell_type": "markdown",
      "metadata": {
        "id": "nNvePP7xw_PI"
      },
      "source": [
        "I was suprised by just how faster the classic wornet lemmatizer is. It took just around 1 minute to proceed 10k of records. I will use it for the rest of the tests and also for the final run."
      ]
    },
    {
      "cell_type": "markdown",
      "metadata": {
        "id": "K7GydU54ZqbF"
      },
      "source": [
        "Code cells below were heplfull for saving computed dataset into .csv and loading it, so the experiments can be redone without having to wait long time."
      ]
    },
    {
      "cell_type": "code",
      "metadata": {
        "id": "ni2eICWPS0bC",
        "colab": {
          "base_uri": "https://localhost:8080/"
        },
        "outputId": "b2e6cd7e-8e75-43a8-9683-86fdc2da02ff"
      },
      "source": [
        "# save computed data to drive\r\n",
        "from google.colab import drive\r\n",
        "drive.mount('drive')"
      ],
      "execution_count": null,
      "outputs": [
        {
          "output_type": "stream",
          "text": [
            "Mounted at drive\n"
          ],
          "name": "stdout"
        }
      ]
    },
    {
      "cell_type": "code",
      "metadata": {
        "id": "clxUOCeUS7zI"
      },
      "source": [
        "# df_spacy.to_csv('df_spacy.csv')\r\n",
        "# !cp df_spacy.csv \"drive/My Drive/\"\r\n",
        "# df_wordnet.to_csv('df_wordnet.csv')\r\n",
        "# !cp df_wordnet.csv \"drive/My Drive/\"\r\n",
        "# df_stopwords_removed.to_csv('df_stopwords_removed.csv')\r\n",
        "# !cp df_stopwords_removed.csv \"drive/My Drive/\"\r\n",
        "\r\n",
        "df_stopwords_removed.to_csv('df_stopwords_removed_50k.csv')\r\n",
        "!cp df_stopwords_removed_50k.csv \"drive/My Drive/\""
      ],
      "execution_count": null,
      "outputs": []
    },
    {
      "cell_type": "code",
      "metadata": {
        "id": "YtBgu32T2syT"
      },
      "source": [
        "# # loading of saved df from drive\r\n",
        "# !pip install -U -q PyDrive\r\n",
        "# from pydrive.auth import GoogleAuth\r\n",
        "# from pydrive.drive import GoogleDrive\r\n",
        "# from google.colab import auth\r\n",
        "# from oauth2client.client import GoogleCredentials\r\n",
        "# # Authenticate and create the PyDrive client.\r\n",
        "# auth.authenticate_user()\r\n",
        "# gauth = GoogleAuth()\r\n",
        "# gauth.credentials = GoogleCredentials.get_application_default()\r\n",
        "# drive = GoogleDrive(gauth)"
      ],
      "execution_count": null,
      "outputs": []
    },
    {
      "cell_type": "code",
      "metadata": {
        "id": "kH4tHsuVf9x5",
        "colab": {
          "base_uri": "https://localhost:8080/",
          "height": 111
        },
        "outputId": "860df07e-f47a-4069-999c-20b4752c715d"
      },
      "source": [
        "# # id = '100vLC0ngLdIKFgUiLk4xx42AiEp6qQ_p_'  # file id for wordnet\r\n",
        "# # id = '1n3DFVPOm9lVYPoYIRwulNrsqDihDgMhyp'  # file id for stop_words_removed\r\n",
        "# id = '1Cw6mc4t598UZgyqpu7qsDh_uFswWdPJ_y'  # file id for stop_words_removed_50k\r\n",
        "\r\n",
        "# downloaded = drive.CreateFile({'id':id})\r\n",
        "\r\n",
        "# # downloaded.GetContentFile('df_wordnet.csv')  # file name\r\n",
        "# # downloaded.GetContentFile('df_stopwords_removed.csv')  # file name\r\n",
        "# downloaded.GetContentFile('df_stopwords_removed_50k.csv')  # file name\r\n",
        "\r\n",
        "# # df = pd.read_csv('df_wordnet.csv')\r\n",
        "# # df = pd.read_csv('df_stopwords_removed.csv')\r\n",
        "# df = pd.read_csv('df_stopwords_removed_50k.csv')\r\n",
        "\r\n",
        "# df.drop(columns=['Unnamed: 0'], inplace=True)\r\n",
        "# df.head(2)"
      ],
      "execution_count": null,
      "outputs": [
        {
          "output_type": "execute_result",
          "data": {
            "text/html": [
              "<div>\n",
              "<style scoped>\n",
              "    .dataframe tbody tr th:only-of-type {\n",
              "        vertical-align: middle;\n",
              "    }\n",
              "\n",
              "    .dataframe tbody tr th {\n",
              "        vertical-align: top;\n",
              "    }\n",
              "\n",
              "    .dataframe thead th {\n",
              "        text-align: right;\n",
              "    }\n",
              "</style>\n",
              "<table border=\"1\" class=\"dataframe\">\n",
              "  <thead>\n",
              "    <tr style=\"text-align: right;\">\n",
              "      <th></th>\n",
              "      <th>id</th>\n",
              "      <th>title</th>\n",
              "      <th>categories</th>\n",
              "      <th>abstract</th>\n",
              "      <th>authors_parsed</th>\n",
              "    </tr>\n",
              "  </thead>\n",
              "  <tbody>\n",
              "    <tr>\n",
              "      <th>0</th>\n",
              "      <td>704.0001</td>\n",
              "      <td>Calculation of prompt diphoton production cros...</td>\n",
              "      <td>['hep-ph']</td>\n",
              "      <td>A fully differential calculation perturbative ...</td>\n",
              "      <td>[['Balázs', 'C.', ''], ['Berger', 'E. L.', '']...</td>\n",
              "    </tr>\n",
              "    <tr>\n",
              "      <th>1</th>\n",
              "      <td>704.0002</td>\n",
              "      <td>Sparsity certifying Graph Decompositions</td>\n",
              "      <td>['math', 'cs']</td>\n",
              "      <td>We describe new algorithm ell pebble game colo...</td>\n",
              "      <td>[['Streinu', 'Ileana', ''], ['Theran', 'Louis'...</td>\n",
              "    </tr>\n",
              "  </tbody>\n",
              "</table>\n",
              "</div>"
            ],
            "text/plain": [
              "         id  ...                                     authors_parsed\n",
              "0  704.0001  ...  [['Balázs', 'C.', ''], ['Berger', 'E. L.', '']...\n",
              "1  704.0002  ...  [['Streinu', 'Ileana', ''], ['Theran', 'Louis'...\n",
              "\n",
              "[2 rows x 5 columns]"
            ]
          },
          "metadata": {
            "tags": []
          },
          "execution_count": 3
        }
      ]
    },
    {
      "cell_type": "code",
      "metadata": {
        "id": "uScKyxRQMdey",
        "colab": {
          "base_uri": "https://localhost:8080/",
          "height": 111
        },
        "outputId": "037a59f1-3f08-4da8-a2ad-a308d0fc492b"
      },
      "source": [
        "# # after drive load the category data type is invalid and needs to be fixed\r\n",
        "# def convertToList(text):\r\n",
        "#   x = text.replace(\"\\'\", \"\\\"\")\r\n",
        "#   return json.loads(x)\r\n",
        "# df['categories'] = df.categories.apply(convertToList)\r\n",
        "# df.head(2)"
      ],
      "execution_count": null,
      "outputs": [
        {
          "output_type": "execute_result",
          "data": {
            "text/html": [
              "<div>\n",
              "<style scoped>\n",
              "    .dataframe tbody tr th:only-of-type {\n",
              "        vertical-align: middle;\n",
              "    }\n",
              "\n",
              "    .dataframe tbody tr th {\n",
              "        vertical-align: top;\n",
              "    }\n",
              "\n",
              "    .dataframe thead th {\n",
              "        text-align: right;\n",
              "    }\n",
              "</style>\n",
              "<table border=\"1\" class=\"dataframe\">\n",
              "  <thead>\n",
              "    <tr style=\"text-align: right;\">\n",
              "      <th></th>\n",
              "      <th>id</th>\n",
              "      <th>title</th>\n",
              "      <th>categories</th>\n",
              "      <th>abstract</th>\n",
              "      <th>authors_parsed</th>\n",
              "    </tr>\n",
              "  </thead>\n",
              "  <tbody>\n",
              "    <tr>\n",
              "      <th>0</th>\n",
              "      <td>704.0001</td>\n",
              "      <td>Calculation of prompt diphoton production cros...</td>\n",
              "      <td>[hep-ph]</td>\n",
              "      <td>A fully differential calculation perturbative ...</td>\n",
              "      <td>[['Balázs', 'C.', ''], ['Berger', 'E. L.', '']...</td>\n",
              "    </tr>\n",
              "    <tr>\n",
              "      <th>1</th>\n",
              "      <td>704.0002</td>\n",
              "      <td>Sparsity certifying Graph Decompositions</td>\n",
              "      <td>[math, cs]</td>\n",
              "      <td>We describe new algorithm ell pebble game colo...</td>\n",
              "      <td>[['Streinu', 'Ileana', ''], ['Theran', 'Louis'...</td>\n",
              "    </tr>\n",
              "  </tbody>\n",
              "</table>\n",
              "</div>"
            ],
            "text/plain": [
              "         id  ...                                     authors_parsed\n",
              "0  704.0001  ...  [['Balázs', 'C.', ''], ['Berger', 'E. L.', '']...\n",
              "1  704.0002  ...  [['Streinu', 'Ileana', ''], ['Theran', 'Louis'...\n",
              "\n",
              "[2 rows x 5 columns]"
            ]
          },
          "metadata": {
            "tags": []
          },
          "execution_count": 4
        }
      ]
    },
    {
      "cell_type": "code",
      "metadata": {
        "id": "tPospyg6IAMk",
        "colab": {
          "base_uri": "https://localhost:8080/"
        },
        "outputId": "194ea966-75f6-4b33-f356-b3def75e2ad9"
      },
      "source": [
        "# obtain unique categories after preprocessing\r\n",
        "allCategories = []\r\n",
        "for index, row in df.iterrows():\r\n",
        "    for category in row.categories:\r\n",
        "      allCategories.append(category)\r\n",
        "uniqueCategories = np.unique(allCategories)\r\n",
        "print(uniqueCategories, len(uniqueCategories))"
      ],
      "execution_count": null,
      "outputs": [
        {
          "output_type": "stream",
          "text": [
            "['astro-ph' 'cond-mat' 'cs' 'econ' 'gr-qc' 'hep-ex' 'hep-lat' 'hep-ph'\n",
            " 'hep-th' 'math' 'math-ph' 'nlin' 'nucl-ex' 'nucl-th' 'physics' 'q-bio'\n",
            " 'q-fin' 'quant-ph' 'stat'] 19\n"
          ],
          "name": "stdout"
        }
      ]
    },
    {
      "cell_type": "code",
      "metadata": {
        "id": "3fzc86tjZ9BH",
        "colab": {
          "base_uri": "https://localhost:8080/"
        },
        "outputId": "abb69130-c3f4-4420-fd58-6754a8ae1948"
      },
      "source": [
        "# code which lead me to performs preprocessing steps 7) and 8)\r\n",
        "unique, counts = np.unique(allCategories, return_counts=True)\r\n",
        "frequencies = np.asarray((unique, counts)).T\r\n",
        "sortedCategoryCounts = sorted(frequencies, key=lambda x: int(x[1]), reverse=True)\r\n",
        "sortedCategoryCounts"
      ],
      "execution_count": null,
      "outputs": [
        {
          "output_type": "execute_result",
          "data": {
            "text/plain": [
              "[array(['math', '12744'], dtype='<U21'),\n",
              " array(['astro-ph', '10262'], dtype='<U21'),\n",
              " array(['cond-mat', '9201'], dtype='<U21'),\n",
              " array(['hep-ph', '4796'], dtype='<U21'),\n",
              " array(['hep-th', '4543'], dtype='<U21'),\n",
              " array(['physics', '3996'], dtype='<U21'),\n",
              " array(['quant-ph', '3142'], dtype='<U21'),\n",
              " array(['gr-qc', '2708'], dtype='<U21'),\n",
              " array(['cs', '2677'], dtype='<U21'),\n",
              " array(['math-ph', '2158'], dtype='<U21'),\n",
              " array(['nucl-th', '1427'], dtype='<U21'),\n",
              " array(['hep-ex', '1151'], dtype='<U21'),\n",
              " array(['nlin', '978'], dtype='<U21'),\n",
              " array(['q-bio', '841'], dtype='<U21'),\n",
              " array(['stat', '820'], dtype='<U21'),\n",
              " array(['hep-lat', '764'], dtype='<U21'),\n",
              " array(['nucl-ex', '649'], dtype='<U21'),\n",
              " array(['q-fin', '264'], dtype='<U21'),\n",
              " array(['econ', '3'], dtype='<U21')]"
            ]
          },
          "metadata": {
            "tags": []
          },
          "execution_count": 6
        }
      ]
    },
    {
      "cell_type": "markdown",
      "metadata": {
        "id": "mAi43KQEaAOo"
      },
      "source": [
        "7) Some of the categories are represented so rarely, that it's better to cut them out from the dataset to get better results. According to my pilot tests the is ~ 20 categories, so I have decided to keep just the 10 most represented categories (all the 10th to ~20th categories had significantly lower number of assigniture to the papers.\r\n",
        "\r\n",
        "I have decided to remove this category from the multi-labels. If it's the only category for the paper, then I will remove the sample completely."
      ]
    },
    {
      "cell_type": "code",
      "metadata": {
        "id": "Hk1-rK_WaKHW"
      },
      "source": [
        "categoriesToKeep = []\r\n",
        "for categoryToKeep in sortedCategoryCounts[:10]:\r\n",
        "  categoriesToKeep.append(categoryToKeep[0])\r\n",
        "\r\n",
        "indexesToDrop = []\r\n",
        "for index, row in df.iterrows():\r\n",
        "  if len(row['categories']) == 1 and row['categories'][0] not in categoriesToKeep:\r\n",
        "    indexesToDrop.append(index)\r\n",
        "    continue\r\n",
        "\r\n",
        "  rowCategories = []\r\n",
        "  for category in row['categories']:\r\n",
        "    if category in categoriesToKeep:\r\n",
        "      rowCategories.append(category)\r\n",
        "  row['categories'] = rowCategories"
      ],
      "execution_count": null,
      "outputs": []
    },
    {
      "cell_type": "code",
      "metadata": {
        "id": "KkyWEc6ncJHR",
        "colab": {
          "base_uri": "https://localhost:8080/"
        },
        "outputId": "244adf93-35c4-4a08-b11f-0ea55d593f5e"
      },
      "source": [
        "print('Length before:', len(df))\r\n",
        "df.drop(indexesToDrop, inplace=True)\r\n",
        "print('Length after:', len(df))"
      ],
      "execution_count": null,
      "outputs": [
        {
          "output_type": "stream",
          "text": [
            "Length before: 49876\n",
            "Length after: 46443\n"
          ],
          "name": "stdout"
        }
      ]
    },
    {
      "cell_type": "markdown",
      "metadata": {
        "id": "OEaZ2Kt_aB3R"
      },
      "source": [
        "8) We have kept the most common categories but some of them are still much more frequent than the others and this can cause the model to be imbalanced.\r\n",
        "\r\n",
        "I have decided to keep the same number of records (samples) for each remaining category. This number is based on the least occured category.\r\n",
        "* This may significantly reduce the dataset, but I believe it can bring better results -> that's why I have used this as my last experiment "
      ]
    },
    {
      "cell_type": "code",
      "metadata": {
        "id": "NPD08dEMci-Q",
        "colab": {
          "base_uri": "https://localhost:8080/"
        },
        "outputId": "b503b879-f91f-458f-cad2-eeff6487e282"
      },
      "source": [
        "numberOfRecordsToPreserve = int(sortedCategoryCounts[:10][9][1])\r\n",
        "numberOfRecordsToPreserve\r\n",
        "df_reduced = pd.DataFrame(columns = df.columns)\r\n",
        "df_work = df.copy()\r\n",
        "\r\n",
        "for category in categoriesToKeep:\r\n",
        "  df_tmp = pd.DataFrame(columns = df.columns)\r\n",
        "  indexesToDropFromWorkDf = []\r\n",
        "  for index, row in df_work.iterrows():\r\n",
        "    if category in row['categories']:\r\n",
        "      df_tmp = df_tmp.append(row)\r\n",
        "      if len(row['categories']) is 1:\r\n",
        "        indexesToDropFromWorkDf.append(index)\r\n",
        "\r\n",
        "  df_work = df_work.drop(indexesToDropFromWorkDf)\r\n",
        "  df_reduced = pd.concat([df_reduced, df_tmp.sample(n = numberOfRecordsToPreserve)])\r\n",
        "\r\n",
        "print(len(df_reduced), len(df), numberOfRecordsToPreserve)"
      ],
      "execution_count": null,
      "outputs": [
        {
          "output_type": "stream",
          "text": [
            "21580 46443 2158\n"
          ],
          "name": "stdout"
        }
      ]
    },
    {
      "cell_type": "code",
      "metadata": {
        "id": "3nYfxN0DMZnm",
        "colab": {
          "base_uri": "https://localhost:8080/"
        },
        "outputId": "996903ec-abd0-47ca-a5a3-f4e96a7970b2"
      },
      "source": [
        "# update unique categories\r\n",
        "allCategories = []\r\n",
        "for index, row in df.iterrows():\r\n",
        "    for category in row.categories:\r\n",
        "      allCategories.append(category)\r\n",
        "uniqueCategories = np.unique(allCategories)\r\n",
        "print(uniqueCategories, len(uniqueCategories))"
      ],
      "execution_count": null,
      "outputs": [
        {
          "output_type": "stream",
          "text": [
            "['astro-ph' 'cond-mat' 'cs' 'econ' 'gr-qc' 'hep-ex' 'hep-lat' 'hep-ph'\n",
            " 'hep-th' 'math' 'math-ph' 'nlin' 'nucl-ex' 'nucl-th' 'physics' 'q-bio'\n",
            " 'q-fin' 'quant-ph' 'stat'] 19\n"
          ],
          "name": "stdout"
        }
      ]
    },
    {
      "cell_type": "code",
      "metadata": {
        "id": "d8TdoHQvambv"
      },
      "source": [
        "df_prepared = df.copy()"
      ],
      "execution_count": null,
      "outputs": []
    },
    {
      "cell_type": "markdown",
      "metadata": {
        "id": "obK1bPsRSkrv"
      },
      "source": [
        "### For the BERT classification I have decided to use MultiLabelBinarizer to create new feature which could be used on the input for BERT. It's a vector which consists of 0 and 1, which represents relevant categories for each text."
      ]
    },
    {
      "cell_type": "code",
      "metadata": {
        "id": "l8utuz7ASlSs"
      },
      "source": [
        "from sklearn.preprocessing import MultiLabelBinarizer"
      ],
      "execution_count": null,
      "outputs": []
    },
    {
      "cell_type": "code",
      "metadata": {
        "id": "HVPj1cFqMWzE",
        "colab": {
          "base_uri": "https://localhost:8080/"
        },
        "outputId": "8e410d91-140a-440f-b0cc-ca9b237e3c63"
      },
      "source": [
        "mlb = MultiLabelBinarizer().fit(df.categories)\r\n",
        "print(mlb.classes_)\r\n",
        "df[\"categoriesVector\"] = df.categories.apply(lambda x : mlb.transform([x])[0])\r\n",
        "df[\"categoriesVector\"].head(2)"
      ],
      "execution_count": null,
      "outputs": [
        {
          "output_type": "stream",
          "text": [
            "['astro-ph' 'cond-mat' 'cs' 'econ' 'gr-qc' 'hep-ex' 'hep-lat' 'hep-ph'\n",
            " 'hep-th' 'math' 'math-ph' 'nlin' 'nucl-ex' 'nucl-th' 'physics' 'q-bio'\n",
            " 'q-fin' 'quant-ph' 'stat']\n"
          ],
          "name": "stdout"
        },
        {
          "output_type": "execute_result",
          "data": {
            "text/plain": [
              "0    [0, 0, 0, 0, 0, 0, 0, 1, 0, 0, 0, 0, 0, 0, 0, ...\n",
              "1    [0, 0, 1, 0, 0, 0, 0, 0, 0, 1, 0, 0, 0, 0, 0, ...\n",
              "Name: categoriesVector, dtype: object"
            ]
          },
          "metadata": {
            "tags": []
          },
          "execution_count": 13
        }
      ]
    },
    {
      "cell_type": "code",
      "metadata": {
        "id": "juQuZ0VFav8F",
        "colab": {
          "base_uri": "https://localhost:8080/"
        },
        "outputId": "98a1cfed-dc4f-4d69-f81b-b7b54f87d082"
      },
      "source": [
        "# double check that the one hot encoding returned expected format\r\n",
        "print(len(df[\"categoriesVector\"].iloc[0]), len(uniqueCategories))\r\n",
        "print(df[\"categoriesVector\"].iloc[1], df[\"categories\"].iloc[1])"
      ],
      "execution_count": null,
      "outputs": [
        {
          "output_type": "stream",
          "text": [
            "19 19\n",
            "[0 0 1 0 0 0 0 0 0 1 0 0 0 0 0 0 0 0 0] ['math', 'cs']\n"
          ],
          "name": "stdout"
        }
      ]
    },
    {
      "cell_type": "code",
      "metadata": {
        "id": "0r-Dt5b4SwC-"
      },
      "source": [
        "df_prepared2 = df.copy()"
      ],
      "execution_count": null,
      "outputs": []
    },
    {
      "cell_type": "markdown",
      "metadata": {
        "id": "kusHr1n9Sy9O"
      },
      "source": [
        "## Split data into test and train sets"
      ]
    },
    {
      "cell_type": "code",
      "metadata": {
        "id": "Nbq-Z844S0l_"
      },
      "source": [
        "from sklearn.model_selection import train_test_split"
      ],
      "execution_count": null,
      "outputs": []
    },
    {
      "cell_type": "code",
      "metadata": {
        "id": "PVyLj61iObZu"
      },
      "source": [
        "train_df, test_df = train_test_split(df, test_size=0.25, random_state=13)"
      ],
      "execution_count": null,
      "outputs": []
    },
    {
      "cell_type": "markdown",
      "metadata": {
        "id": "BiFC2suLesA9"
      },
      "source": [
        "# **Evaluation with selected models**\r\n",
        "\r\n",
        "Both models which were used were from the https://huggingface.co/transformers/pretrained_models.html repository.\r\n",
        "\r\n",
        "Selected model arguments were used across many notebook for label prediction models (one of them is https://www.kaggle.com/balraj98/arxiv-abstract-classification-using-roberta) and I was unable to find different params combination which would bring better results.\r\n",
        "\r\n",
        "I have chosen to measure the label ranking average precision for BERT and RoBERTa models and I have put all the results into a table at the end of this notebook."
      ]
    },
    {
      "cell_type": "code",
      "metadata": {
        "id": "P921ix2WmFuc"
      },
      "source": [
        "import logging\r\n",
        "import torch\r\n",
        "!python -m pip install -q tokenizers > /dev/null 2>&1\r\n",
        "import tokenizers\r\n",
        "!python -m pip install -q transformers > /dev/null 2>&1\r\n",
        "import transformers\r\n",
        "!python -m pip install -q simpletransformers > /dev/null 2>&1\r\n",
        "import simpletransformers"
      ],
      "execution_count": null,
      "outputs": []
    },
    {
      "cell_type": "code",
      "metadata": {
        "id": "IY0SbA0KygOC"
      },
      "source": [
        "from simpletransformers.classification import MultiLabelClassificationModel\r\n",
        "\r\n",
        "model_args = {\r\n",
        "    \"reprocess_input_data\": True, # If True, the input data will be reprocessed even if a cached file of the input data exists in the cache_dir.\r\n",
        "    \"overwrite_output_dir\": True, # False\tIf True, the trained model will be saved to the ouput_dir and will overwrite existing saved models in the same directory.\r\n",
        "    \"save_model_every_epoch\": False, # Model occupies 1.4GB size per epoch\r\n",
        "    \"save_eval_checkpoints\": False,\r\n",
        "    \"max_seq_length\": 512,\r\n",
        "    \"train_batch_size\": 16,\r\n",
        "    \"num_train_epochs\": 4,\r\n",
        "}"
      ],
      "execution_count": null,
      "outputs": []
    },
    {
      "cell_type": "markdown",
      "metadata": {
        "id": "wQoOMs1Zl0Cp"
      },
      "source": [
        "## BERT"
      ]
    },
    {
      "cell_type": "code",
      "metadata": {
        "id": "dorMHw6Ql4Of"
      },
      "source": [
        "%%time\r\n",
        "bert = MultiLabelClassificationModel(\"bert\", \r\n",
        "                                      \"bert-base-cased\", \r\n",
        "                                      num_labels=len(uniqueCategories), \r\n",
        "                                      args=model_args, use_cuda=True)"
      ],
      "execution_count": null,
      "outputs": []
    },
    {
      "cell_type": "code",
      "metadata": {
        "id": "CMxg-MRjl4b8"
      },
      "source": [
        "%%time\r\n",
        "bert.train_model(train_df[[\"abstract\", \"categoriesVector\", \"title\", \"authors_parsed\"]])\r\n",
        "result, model_outputs, wrong_predictions = bert.eval_model(test_df[[\"abstract\", \"categoriesVector\", \"title\", \"authors_parsed\"]])\r\n",
        "print(result)"
      ],
      "execution_count": null,
      "outputs": []
    },
    {
      "cell_type": "markdown",
      "metadata": {
        "id": "HC0RbET_mAkh"
      },
      "source": [
        "## RoBERTa"
      ]
    },
    {
      "cell_type": "code",
      "metadata": {
        "id": "6_hQ5niakAQX"
      },
      "source": [
        "roberta = MultiLabelClassificationModel(\"roberta\", \r\n",
        "                                      \"roberta-base\", \r\n",
        "                                      num_labels=len(uniqueCategories),\r\n",
        "                                      args=model_args, use_cuda=True)"
      ],
      "execution_count": null,
      "outputs": []
    },
    {
      "cell_type": "code",
      "metadata": {
        "id": "23vQFRGYnM_R"
      },
      "source": [
        "%%time\r\n",
        "roberta.train_model(train_df[[\"abstract\", \"categoriesVector\", \"title\", \"authors_parsed\"]])\r\n",
        "result, model_outputs, wrong_predictions = roberta.eval_model(test_df[[\"abstract\", \"categoriesVector\", \"title\", \"authors_parsed\"]])\r\n",
        "print(result)"
      ],
      "execution_count": null,
      "outputs": []
    },
    {
      "cell_type": "code",
      "metadata": {
        "id": "dTYIE8j-lHum",
        "colab": {
          "base_uri": "https://localhost:8080/",
          "height": 235
        },
        "outputId": "6863a0a8-7b77-464d-b264-3a5dcc15903a"
      },
      "source": [
        "# Measured data\r\n",
        "# the values represent the LRAP (= Label Ranking Average Precision)\r\n",
        "results = pd.DataFrame(columns=['BERT', 'RoBERTa', 'Note', 'ColumnsUsedForPrediction', 'RecordsCnt'])\r\n",
        "results = results.append({'BERT': 0.8876747819208918, 'RoBERTa': 0.895506856315016, 'Note': 'Simple preprocessing', 'ColumnsUsedForPrediction': 'abstract', 'RecordsCnt': 10000}, ignore_index=True)\r\n",
        "results = results.append({'BERT': 0.8836356769010607, 'RoBERTa': 0.8778261843340559, 'Note': 'Simple preprocessing', 'ColumnsUsedForPrediction': 'abstract, title, authors_parsed', 'RecordsCnt': 10000}, ignore_index=True)\r\n",
        "results = results.append({'BERT': 0.8677993055977559, 'RoBERTa': 0.8592867531355426, 'Note': 'After stop-words removal', 'ColumnsUsedForPrediction': 'abstract, title, authors_parsed', 'RecordsCnt': 10000}, ignore_index=True)\r\n",
        "results = results.append({'BERT': 0.7389417892459231, 'RoBERTa': 0.7393891208148253, 'Note': 'After lemmatization', 'ColumnsUsedForPrediction': 'abstract, title, authors_parsed', 'RecordsCnt': 10000}, ignore_index=True)\r\n",
        "results = results.append({'BERT': 0.6980714449454573, 'RoBERTa': 0.6888157495603684, 'Note': 'After balancing data', 'ColumnsUsedForPrediction': 'abstract, title, authors_parsed', 'RecordsCnt': 10000}, ignore_index=True)\r\n",
        "results = results.append({'BERT': 0.8260626355078205, 'RoBERTa': 0.8233040013209578, 'Note': 'Final', 'ColumnsUsedForPrediction': 'abstract, title, authors_parsed', 'RecordsCnt': 50000}, ignore_index=True)\r\n",
        "results"
      ],
      "execution_count": null,
      "outputs": [
        {
          "output_type": "execute_result",
          "data": {
            "text/html": [
              "<div>\n",
              "<style scoped>\n",
              "    .dataframe tbody tr th:only-of-type {\n",
              "        vertical-align: middle;\n",
              "    }\n",
              "\n",
              "    .dataframe tbody tr th {\n",
              "        vertical-align: top;\n",
              "    }\n",
              "\n",
              "    .dataframe thead th {\n",
              "        text-align: right;\n",
              "    }\n",
              "</style>\n",
              "<table border=\"1\" class=\"dataframe\">\n",
              "  <thead>\n",
              "    <tr style=\"text-align: right;\">\n",
              "      <th></th>\n",
              "      <th>BERT</th>\n",
              "      <th>RoBERTa</th>\n",
              "      <th>Note</th>\n",
              "      <th>ColumnsUsedForPrediction</th>\n",
              "      <th>RecordsCnt</th>\n",
              "    </tr>\n",
              "  </thead>\n",
              "  <tbody>\n",
              "    <tr>\n",
              "      <th>0</th>\n",
              "      <td>0.887675</td>\n",
              "      <td>0.895507</td>\n",
              "      <td>Simple preprocessing</td>\n",
              "      <td>abstract</td>\n",
              "      <td>10000</td>\n",
              "    </tr>\n",
              "    <tr>\n",
              "      <th>1</th>\n",
              "      <td>0.883636</td>\n",
              "      <td>0.877826</td>\n",
              "      <td>Simple preprocessing</td>\n",
              "      <td>abstract, title, authors_parsed</td>\n",
              "      <td>10000</td>\n",
              "    </tr>\n",
              "    <tr>\n",
              "      <th>2</th>\n",
              "      <td>0.867799</td>\n",
              "      <td>0.859287</td>\n",
              "      <td>After stop-words removal</td>\n",
              "      <td>abstract, title, authors_parsed</td>\n",
              "      <td>10000</td>\n",
              "    </tr>\n",
              "    <tr>\n",
              "      <th>3</th>\n",
              "      <td>0.738942</td>\n",
              "      <td>0.739389</td>\n",
              "      <td>After lemmatization</td>\n",
              "      <td>abstract, title, authors_parsed</td>\n",
              "      <td>10000</td>\n",
              "    </tr>\n",
              "    <tr>\n",
              "      <th>4</th>\n",
              "      <td>0.698071</td>\n",
              "      <td>0.688816</td>\n",
              "      <td>After balancing data</td>\n",
              "      <td>abstract, title, authors_parsed</td>\n",
              "      <td>10000</td>\n",
              "    </tr>\n",
              "    <tr>\n",
              "      <th>5</th>\n",
              "      <td>0.826063</td>\n",
              "      <td>0.823304</td>\n",
              "      <td>Final</td>\n",
              "      <td>abstract, title, authors_parsed</td>\n",
              "      <td>50000</td>\n",
              "    </tr>\n",
              "  </tbody>\n",
              "</table>\n",
              "</div>"
            ],
            "text/plain": [
              "       BERT   RoBERTa  ...         ColumnsUsedForPrediction RecordsCnt\n",
              "0  0.887675  0.895507  ...                         abstract      10000\n",
              "1  0.883636  0.877826  ...  abstract, title, authors_parsed      10000\n",
              "2  0.867799  0.859287  ...  abstract, title, authors_parsed      10000\n",
              "3  0.738942  0.739389  ...  abstract, title, authors_parsed      10000\n",
              "4  0.698071  0.688816  ...  abstract, title, authors_parsed      10000\n",
              "5  0.826063  0.823304  ...  abstract, title, authors_parsed      50000\n",
              "\n",
              "[6 rows x 5 columns]"
            ]
          },
          "metadata": {
            "tags": []
          },
          "execution_count": 27
        }
      ]
    },
    {
      "cell_type": "code",
      "metadata": {
        "id": "BEDJbnOuGymq"
      },
      "source": [
        ""
      ],
      "execution_count": null,
      "outputs": []
    }
  ]
}